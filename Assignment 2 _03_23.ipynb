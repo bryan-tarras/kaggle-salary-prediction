{
 "cells": [
  {
   "cell_type": "markdown",
   "metadata": {},
   "source": [
    "# Assignment 2 - Kaggle Survey Regression - Bryan Tarras\n",
    "\n",
    "Below is my submission for assignment 2. The purpose of which will be to evaluate various regression models on the Kaggle Data set and ultiamtely tune and select the best performing algorithm.\n",
    "\n",
    "Please note that any accuracies discussed in the written portions of this notebook were based on the results of the current run. These will vary slightly each time the notebook is run due to the randomization of the train_test_split."
   ]
  },
  {
   "cell_type": "markdown",
   "metadata": {},
   "source": [
    "### 1.0 Data Cleaning\n",
    "\n",
    "To start lets import the relevant libraires. Note that I have commented out the install of the various libraries (assuming that the system running this will already have the libaries installed)."
   ]
  },
  {
   "cell_type": "code",
   "execution_count": 1,
   "metadata": {},
   "outputs": [],
   "source": [
    "#!pip install numpy\n",
    "import numpy as np\n",
    "#!pip install pandas\n",
    "import pandas as pd\n",
    "#!pip install sklearn\n",
    "import matplotlib.pyplot as plt\n",
    "import seaborn as sns\n",
    "\n",
    "from sklearn.feature_selection import RFE\n",
    "from sklearn.metrics import make_scorer, r2_score, mean_squared_error, auc, mean_absolute_error, confusion_matrix\n",
    "\n",
    "from sklearn.model_selection import GridSearchCV, KFold\n",
    "\n",
    "from sklearn.model_selection import train_test_split\n",
    "\n",
    "from sklearn import linear_model\n",
    "\n",
    "from sklearn.metrics import accuracy_score,  roc_curve, auc\n",
    "\n",
    "from sklearn.ensemble import RandomForestRegressor\n",
    "from sklearn import neighbors\n",
    "from sklearn.ensemble import GradientBoostingRegressor\n",
    "\n",
    "from sklearn.neural_network import MLPRegressor\n",
    "\n",
    "from sklearn.preprocessing import StandardScaler\n",
    "\n",
    "from sklearn.decomposition import PCA\n",
    "\n",
    "from sklearn.svm import SVR\n",
    "\n",
    "\n",
    "import math"
   ]
  },
  {
   "cell_type": "markdown",
   "metadata": {},
   "source": [
    "Next lets load the Kaggle Data set, store it in a dataframe called \"df_kaggle\" and view the first 5 entries of the dataframe."
   ]
  },
  {
   "cell_type": "code",
   "execution_count": 2,
   "metadata": {},
   "outputs": [
    {
     "name": "stderr",
     "output_type": "stream",
     "text": [
      "C:\\Users\\btarras\\AppData\\Local\\Continuum\\anaconda3\\lib\\site-packages\\IPython\\core\\interactiveshell.py:3020: DtypeWarning: Columns (1,3,9,11,13,22,24,25,26,27,28,29,45,57,65,84,86,88,108,110,124,126,151,195,209,224,250,263,265,277,278,279,280,281,282,283,284,285,286,287,288,289,290,291,305,307,323,326,327,330,342,372,385,386,394,395) have mixed types. Specify dtype option on import or set low_memory=False.\n",
      "  interactivity=interactivity, compiler=compiler, result=result)\n"
     ]
    }
   ],
   "source": [
    "df_kaggle = pd.read_csv('kaggle_salary.csv')"
   ]
  },
  {
   "cell_type": "code",
   "execution_count": 3,
   "metadata": {},
   "outputs": [
    {
     "data": {
      "text/html": [
       "<div>\n",
       "<style scoped>\n",
       "    .dataframe tbody tr th:only-of-type {\n",
       "        vertical-align: middle;\n",
       "    }\n",
       "\n",
       "    .dataframe tbody tr th {\n",
       "        vertical-align: top;\n",
       "    }\n",
       "\n",
       "    .dataframe thead th {\n",
       "        text-align: right;\n",
       "    }\n",
       "</style>\n",
       "<table border=\"1\" class=\"dataframe\">\n",
       "  <thead>\n",
       "    <tr style=\"text-align: right;\">\n",
       "      <th></th>\n",
       "      <th>Unnamed: 0</th>\n",
       "      <th>Time from Start to Finish (seconds)</th>\n",
       "      <th>Q1</th>\n",
       "      <th>Q1_OTHER_TEXT</th>\n",
       "      <th>Q2</th>\n",
       "      <th>Q3</th>\n",
       "      <th>Q4</th>\n",
       "      <th>Q5</th>\n",
       "      <th>Q6</th>\n",
       "      <th>Q6_OTHER_TEXT</th>\n",
       "      <th>...</th>\n",
       "      <th>Q50_Part_1</th>\n",
       "      <th>Q50_Part_2</th>\n",
       "      <th>Q50_Part_3</th>\n",
       "      <th>Q50_Part_4</th>\n",
       "      <th>Q50_Part_5</th>\n",
       "      <th>Q50_Part_6</th>\n",
       "      <th>Q50_Part_7</th>\n",
       "      <th>Q50_Part_8</th>\n",
       "      <th>Q50_OTHER_TEXT</th>\n",
       "      <th>index</th>\n",
       "    </tr>\n",
       "  </thead>\n",
       "  <tbody>\n",
       "    <tr>\n",
       "      <th>0</th>\n",
       "      <td>0</td>\n",
       "      <td>Duration (in seconds)</td>\n",
       "      <td>What is your gender? - Selected Choice</td>\n",
       "      <td>What is your gender? - Prefer to self-describe...</td>\n",
       "      <td>What is your age (# years)?</td>\n",
       "      <td>In which country do you currently reside?</td>\n",
       "      <td>What is the highest level of formal education ...</td>\n",
       "      <td>Which best describes your undergraduate major?...</td>\n",
       "      <td>Select the title most similar to your current ...</td>\n",
       "      <td>Select the title most similar to your current ...</td>\n",
       "      <td>...</td>\n",
       "      <td>What barriers prevent you from making your wor...</td>\n",
       "      <td>What barriers prevent you from making your wor...</td>\n",
       "      <td>What barriers prevent you from making your wor...</td>\n",
       "      <td>What barriers prevent you from making your wor...</td>\n",
       "      <td>What barriers prevent you from making your wor...</td>\n",
       "      <td>What barriers prevent you from making your wor...</td>\n",
       "      <td>What barriers prevent you from making your wor...</td>\n",
       "      <td>What barriers prevent you from making your wor...</td>\n",
       "      <td>What barriers prevent you from making your wor...</td>\n",
       "      <td>NaN</td>\n",
       "    </tr>\n",
       "    <tr>\n",
       "      <th>1</th>\n",
       "      <td>2</td>\n",
       "      <td>434</td>\n",
       "      <td>Male</td>\n",
       "      <td>-1</td>\n",
       "      <td>30-34</td>\n",
       "      <td>Indonesia</td>\n",
       "      <td>Bachelor’s degree</td>\n",
       "      <td>Engineering (non-computer focused)</td>\n",
       "      <td>Other</td>\n",
       "      <td>0</td>\n",
       "      <td>...</td>\n",
       "      <td>NaN</td>\n",
       "      <td>NaN</td>\n",
       "      <td>NaN</td>\n",
       "      <td>NaN</td>\n",
       "      <td>NaN</td>\n",
       "      <td>NaN</td>\n",
       "      <td>NaN</td>\n",
       "      <td>NaN</td>\n",
       "      <td>-1</td>\n",
       "      <td>0.0</td>\n",
       "    </tr>\n",
       "    <tr>\n",
       "      <th>2</th>\n",
       "      <td>3</td>\n",
       "      <td>718</td>\n",
       "      <td>Female</td>\n",
       "      <td>-1</td>\n",
       "      <td>30-34</td>\n",
       "      <td>United States of America</td>\n",
       "      <td>Master’s degree</td>\n",
       "      <td>Computer science (software engineering, etc.)</td>\n",
       "      <td>Data Scientist</td>\n",
       "      <td>-1</td>\n",
       "      <td>...</td>\n",
       "      <td>NaN</td>\n",
       "      <td>Too time-consuming</td>\n",
       "      <td>NaN</td>\n",
       "      <td>NaN</td>\n",
       "      <td>NaN</td>\n",
       "      <td>NaN</td>\n",
       "      <td>NaN</td>\n",
       "      <td>NaN</td>\n",
       "      <td>-1</td>\n",
       "      <td>1.0</td>\n",
       "    </tr>\n",
       "    <tr>\n",
       "      <th>3</th>\n",
       "      <td>5</td>\n",
       "      <td>731</td>\n",
       "      <td>Male</td>\n",
       "      <td>-1</td>\n",
       "      <td>22-24</td>\n",
       "      <td>India</td>\n",
       "      <td>Master’s degree</td>\n",
       "      <td>Mathematics or statistics</td>\n",
       "      <td>Data Analyst</td>\n",
       "      <td>-1</td>\n",
       "      <td>...</td>\n",
       "      <td>NaN</td>\n",
       "      <td>Too time-consuming</td>\n",
       "      <td>NaN</td>\n",
       "      <td>NaN</td>\n",
       "      <td>Not enough incentives to share my work</td>\n",
       "      <td>NaN</td>\n",
       "      <td>NaN</td>\n",
       "      <td>NaN</td>\n",
       "      <td>-1</td>\n",
       "      <td>2.0</td>\n",
       "    </tr>\n",
       "    <tr>\n",
       "      <th>4</th>\n",
       "      <td>7</td>\n",
       "      <td>959</td>\n",
       "      <td>Male</td>\n",
       "      <td>-1</td>\n",
       "      <td>35-39</td>\n",
       "      <td>Chile</td>\n",
       "      <td>Doctoral degree</td>\n",
       "      <td>Information technology, networking, or system ...</td>\n",
       "      <td>Other</td>\n",
       "      <td>1</td>\n",
       "      <td>...</td>\n",
       "      <td>Too expensive</td>\n",
       "      <td>NaN</td>\n",
       "      <td>NaN</td>\n",
       "      <td>NaN</td>\n",
       "      <td>NaN</td>\n",
       "      <td>I had never considered making my work easier f...</td>\n",
       "      <td>NaN</td>\n",
       "      <td>NaN</td>\n",
       "      <td>-1</td>\n",
       "      <td>3.0</td>\n",
       "    </tr>\n",
       "  </tbody>\n",
       "</table>\n",
       "<p>5 rows × 397 columns</p>\n",
       "</div>"
      ],
      "text/plain": [
       "   Unnamed: 0 Time from Start to Finish (seconds)  \\\n",
       "0           0               Duration (in seconds)   \n",
       "1           2                                 434   \n",
       "2           3                                 718   \n",
       "3           5                                 731   \n",
       "4           7                                 959   \n",
       "\n",
       "                                       Q1  \\\n",
       "0  What is your gender? - Selected Choice   \n",
       "1                                    Male   \n",
       "2                                  Female   \n",
       "3                                    Male   \n",
       "4                                    Male   \n",
       "\n",
       "                                       Q1_OTHER_TEXT  \\\n",
       "0  What is your gender? - Prefer to self-describe...   \n",
       "1                                                 -1   \n",
       "2                                                 -1   \n",
       "3                                                 -1   \n",
       "4                                                 -1   \n",
       "\n",
       "                            Q2                                         Q3  \\\n",
       "0  What is your age (# years)?  In which country do you currently reside?   \n",
       "1                        30-34                                  Indonesia   \n",
       "2                        30-34                   United States of America   \n",
       "3                        22-24                                      India   \n",
       "4                        35-39                                      Chile   \n",
       "\n",
       "                                                  Q4  \\\n",
       "0  What is the highest level of formal education ...   \n",
       "1                                  Bachelor’s degree   \n",
       "2                                    Master’s degree   \n",
       "3                                    Master’s degree   \n",
       "4                                    Doctoral degree   \n",
       "\n",
       "                                                  Q5  \\\n",
       "0  Which best describes your undergraduate major?...   \n",
       "1                 Engineering (non-computer focused)   \n",
       "2      Computer science (software engineering, etc.)   \n",
       "3                          Mathematics or statistics   \n",
       "4  Information technology, networking, or system ...   \n",
       "\n",
       "                                                  Q6  \\\n",
       "0  Select the title most similar to your current ...   \n",
       "1                                              Other   \n",
       "2                                     Data Scientist   \n",
       "3                                       Data Analyst   \n",
       "4                                              Other   \n",
       "\n",
       "                                       Q6_OTHER_TEXT  ...   \\\n",
       "0  Select the title most similar to your current ...  ...    \n",
       "1                                                  0  ...    \n",
       "2                                                 -1  ...    \n",
       "3                                                 -1  ...    \n",
       "4                                                  1  ...    \n",
       "\n",
       "                                          Q50_Part_1  \\\n",
       "0  What barriers prevent you from making your wor...   \n",
       "1                                                NaN   \n",
       "2                                                NaN   \n",
       "3                                                NaN   \n",
       "4                                      Too expensive   \n",
       "\n",
       "                                          Q50_Part_2  \\\n",
       "0  What barriers prevent you from making your wor...   \n",
       "1                                                NaN   \n",
       "2                                 Too time-consuming   \n",
       "3                                 Too time-consuming   \n",
       "4                                                NaN   \n",
       "\n",
       "                                          Q50_Part_3  \\\n",
       "0  What barriers prevent you from making your wor...   \n",
       "1                                                NaN   \n",
       "2                                                NaN   \n",
       "3                                                NaN   \n",
       "4                                                NaN   \n",
       "\n",
       "                                          Q50_Part_4  \\\n",
       "0  What barriers prevent you from making your wor...   \n",
       "1                                                NaN   \n",
       "2                                                NaN   \n",
       "3                                                NaN   \n",
       "4                                                NaN   \n",
       "\n",
       "                                          Q50_Part_5  \\\n",
       "0  What barriers prevent you from making your wor...   \n",
       "1                                                NaN   \n",
       "2                                                NaN   \n",
       "3             Not enough incentives to share my work   \n",
       "4                                                NaN   \n",
       "\n",
       "                                          Q50_Part_6  \\\n",
       "0  What barriers prevent you from making your wor...   \n",
       "1                                                NaN   \n",
       "2                                                NaN   \n",
       "3                                                NaN   \n",
       "4  I had never considered making my work easier f...   \n",
       "\n",
       "                                          Q50_Part_7  \\\n",
       "0  What barriers prevent you from making your wor...   \n",
       "1                                                NaN   \n",
       "2                                                NaN   \n",
       "3                                                NaN   \n",
       "4                                                NaN   \n",
       "\n",
       "                                          Q50_Part_8  \\\n",
       "0  What barriers prevent you from making your wor...   \n",
       "1                                                NaN   \n",
       "2                                                NaN   \n",
       "3                                                NaN   \n",
       "4                                                NaN   \n",
       "\n",
       "                                      Q50_OTHER_TEXT index  \n",
       "0  What barriers prevent you from making your wor...   NaN  \n",
       "1                                                 -1   0.0  \n",
       "2                                                 -1   1.0  \n",
       "3                                                 -1   2.0  \n",
       "4                                                 -1   3.0  \n",
       "\n",
       "[5 rows x 397 columns]"
      ]
     },
     "execution_count": 3,
     "metadata": {},
     "output_type": "execute_result"
    }
   ],
   "source": [
    "df_kaggle.head()"
   ]
  },
  {
   "cell_type": "markdown",
   "metadata": {},
   "source": [
    "Next lets copy the dataframe to a new dataframe that we will use to store the cleaned kaggle survey results."
   ]
  },
  {
   "cell_type": "markdown",
   "metadata": {},
   "source": [
    "Lets view how many null values are in each column to get a etter understanding of the raw data."
   ]
  },
  {
   "cell_type": "code",
   "execution_count": 4,
   "metadata": {},
   "outputs": [],
   "source": [
    "df_kaggle_clean = df_kaggle"
   ]
  },
  {
   "cell_type": "code",
   "execution_count": 5,
   "metadata": {},
   "outputs": [],
   "source": [
    "df_kaggle_clean = df_kaggle_clean.drop([0])"
   ]
  },
  {
   "cell_type": "code",
   "execution_count": 6,
   "metadata": {},
   "outputs": [
    {
     "data": {
      "text/plain": [
       "Unnamed: 0                                 0\n",
       "Time from Start to Finish (seconds)        0\n",
       "Q1                                         0\n",
       "Q1_OTHER_TEXT                              0\n",
       "Q2                                         0\n",
       "Q3                                         0\n",
       "Q4                                         0\n",
       "Q5                                       135\n",
       "Q6                                         0\n",
       "Q6_OTHER_TEXT                              0\n",
       "Q7                                         0\n",
       "Q7_OTHER_TEXT                              0\n",
       "Q8                                        76\n",
       "Q9                                         0\n",
       "Q10                                      292\n",
       "Q11_Part_1                              7966\n",
       "Q11_Part_2                             11186\n",
       "Q11_Part_3                             11278\n",
       "Q11_Part_4                              9705\n",
       "Q11_Part_5                             11845\n",
       "Q11_Part_6                             12914\n",
       "Q11_Part_7                             14758\n",
       "Q11_OTHER_TEXT                             0\n",
       "Q12_MULTIPLE_CHOICE                     1572\n",
       "Q12_Part_1_TEXT                            0\n",
       "Q12_Part_2_TEXT                            0\n",
       "Q12_Part_3_TEXT                            0\n",
       "Q12_Part_4_TEXT                            0\n",
       "Q12_Part_5_TEXT                            0\n",
       "Q12_OTHER_TEXT                             0\n",
       "                                       ...  \n",
       "Q47_Part_11                            14673\n",
       "Q47_Part_12                            15017\n",
       "Q47_Part_13                            14838\n",
       "Q47_Part_14                            13982\n",
       "Q47_Part_15                            15251\n",
       "Q47_Part_16                            15329\n",
       "Q48                                     5415\n",
       "Q49_Part_1                             11041\n",
       "Q49_Part_2                             11930\n",
       "Q49_Part_3                             13236\n",
       "Q49_Part_4                             13285\n",
       "Q49_Part_5                             14294\n",
       "Q49_Part_6                              9166\n",
       "Q49_Part_7                              9380\n",
       "Q49_Part_8                             11774\n",
       "Q49_Part_9                             12483\n",
       "Q49_Part_10                            12024\n",
       "Q49_Part_11                            14761\n",
       "Q49_Part_12                            15262\n",
       "Q49_OTHER_TEXT                             0\n",
       "Q50_Part_1                             14421\n",
       "Q50_Part_2                             10329\n",
       "Q50_Part_3                             13445\n",
       "Q50_Part_4                             13896\n",
       "Q50_Part_5                             12630\n",
       "Q50_Part_6                             14667\n",
       "Q50_Part_7                             13635\n",
       "Q50_Part_8                             15037\n",
       "Q50_OTHER_TEXT                             0\n",
       "index                                      0\n",
       "Length: 397, dtype: int64"
      ]
     },
     "execution_count": 6,
     "metadata": {},
     "output_type": "execute_result"
    }
   ],
   "source": [
    "df_kaggle_clean.isnull().sum(axis=0)"
   ]
  },
  {
   "cell_type": "markdown",
   "metadata": {},
   "source": [
    "Looking through the data it is apparent that there are several columns that only have two unique values, the first which holds some data, and the second null entries. Lets view which columns these are and how many there are."
   ]
  },
  {
   "cell_type": "code",
   "execution_count": 7,
   "metadata": {},
   "outputs": [
    {
     "name": "stdout",
     "output_type": "stream",
     "text": [
      "[nan\n",
      " 'Analyze and understand data to influence product or business decisions']\n",
      "[nan\n",
      " 'Build and/or run a machine learning service that operationally improves my product or workflows']\n",
      "[nan\n",
      " 'Build and/or run the data infrastructure that my business uses for storing, analyzing, and operationalizing data']\n",
      "[nan 'Build prototypes to explore applying machine learning to new areas']\n",
      "[nan 'Do research that advances the state of the art of machine learning']\n",
      "['None of these activities are an important part of my role at work' nan]\n",
      "[nan 'Other']\n",
      "[nan 'Jupyter/IPython']\n",
      "[nan 'RStudio']\n",
      "[nan 'PyCharm']\n",
      "[nan 'Visual Studio Code']\n",
      "[nan 'nteract']\n",
      "[nan 'Atom']\n",
      "[nan 'MATLAB']\n",
      "[nan 'Visual Studio']\n",
      "[nan 'Notepad++']\n",
      "[nan 'Sublime Text']\n",
      "[nan 'Vim']\n",
      "[nan 'IntelliJ']\n",
      "[nan 'Spyder']\n",
      "['None' nan]\n",
      "[nan 'Other']\n",
      "[nan 'Kaggle Kernels']\n",
      "[nan 'Google Colab']\n",
      "[nan 'Azure Notebook']\n",
      "[nan 'Domino Datalab']\n",
      "[nan 'Google Cloud Datalab']\n",
      "[nan 'Paperspace']\n",
      "[nan 'Floydhub']\n",
      "[nan 'Crestle']\n",
      "[nan 'JupyterHub/Binder']\n",
      "['None' nan]\n",
      "[nan 'Other']\n",
      "[nan 'Google Cloud Platform (GCP)']\n",
      "[nan 'Amazon Web Services (AWS)']\n",
      "[nan 'Microsoft Azure']\n",
      "[nan 'IBM Cloud']\n",
      "[nan 'Alibaba Cloud']\n",
      "['I have not used any cloud providers' nan]\n",
      "[nan 'Other']\n",
      "[nan 'Python']\n",
      "[nan 'R']\n",
      "['SQL' nan]\n",
      "[nan 'Bash']\n",
      "[nan 'Java']\n",
      "[nan 'Javascript/Typescript']\n",
      "[nan 'Visual Basic/VBA']\n",
      "[nan 'C/C++']\n",
      "[nan 'MATLAB']\n",
      "[nan 'Scala']\n",
      "[nan 'Julia']\n",
      "[nan 'Go']\n",
      "[nan 'C#/.NET']\n",
      "[nan 'PHP']\n",
      "[nan 'Ruby']\n",
      "[nan 'SAS/STATA']\n",
      "[nan 'None']\n",
      "[nan 'Other']\n",
      "[nan 'Scikit-Learn']\n",
      "[nan 'TensorFlow']\n",
      "[nan 'Keras']\n",
      "[nan 'PyTorch']\n",
      "[nan 'Spark MLlib']\n",
      "[nan 'H20']\n",
      "[nan 'Fastai']\n",
      "[nan 'Mxnet']\n",
      "[nan 'Caret']\n",
      "[nan 'Xgboost']\n",
      "[nan 'mlr']\n",
      "[nan 'Prophet']\n",
      "[nan 'randomForest']\n",
      "[nan 'lightgbm']\n",
      "[nan 'catboost']\n",
      "[nan 'CNTK']\n",
      "[nan 'Caffe']\n",
      "['None' nan]\n",
      "[nan 'Other']\n",
      "[nan 'ggplot2']\n",
      "[nan 'Matplotlib']\n",
      "[nan 'Altair']\n",
      "[nan 'Shiny']\n",
      "[nan 'D3']\n",
      "[nan 'Plotly']\n",
      "[nan 'Bokeh']\n",
      "[nan 'Seaborn']\n",
      "[nan 'Geoplotlib']\n",
      "[nan 'Leaflet']\n",
      "[nan 'Lattice']\n",
      "['None' nan]\n",
      "[nan 'Other']\n",
      "[nan 'AWS Elastic Compute Cloud (EC2)']\n",
      "[nan 'Google Compute Engine']\n",
      "[nan 'AWS Elastic Beanstalk']\n",
      "[nan 'Google App Engine']\n",
      "[nan 'Google Kubernetes Engine']\n",
      "[nan 'AWS Lambda']\n",
      "[nan 'Google Cloud Functions']\n",
      "[nan 'AWS Batch']\n",
      "[nan 'Azure Virtual Machines']\n",
      "[nan 'Azure Container Service']\n",
      "[nan 'Azure Functions']\n",
      "[nan 'Azure Event Grid']\n",
      "[nan 'Azure Batch']\n",
      "[nan 'Azure Kubernetes Service']\n",
      "[nan 'IBM Cloud Virtual Servers']\n",
      "[nan 'IBM Cloud Container Registry']\n",
      "[nan 'IBM Cloud Kubernetes Service']\n",
      "[nan 'IBM Cloud Foundry']\n",
      "[nan 'None']\n",
      "[nan 'Other']\n",
      "[nan 'Amazon Transcribe']\n",
      "[nan 'Google Cloud Speech-to-text API']\n",
      "[nan 'Amazon Rekognition']\n",
      "[nan 'Google Cloud Vision API']\n",
      "[nan 'Amazon Comprehend']\n",
      "[nan 'Google Cloud Natural Language API']\n",
      "[nan 'Amazon Translate']\n",
      "[nan 'Google Cloud Translation API']\n",
      "[nan 'Amazon Lex']\n",
      "[nan 'Google Dialogflow Enterprise Edition']\n",
      "[nan 'Amazon Rekognition Video']\n",
      "[nan 'Google Cloud Video Intelligence API']\n",
      "[nan 'Google Cloud AutoML']\n",
      "[nan 'Amazon SageMaker']\n",
      "[nan 'Google Cloud Machine Learning Engine']\n",
      "[nan 'DataRobot']\n",
      "[nan 'H20 Driverless AI']\n",
      "[nan 'Domino Datalab']\n",
      "[nan 'SAS']\n",
      "[nan 'Dataiku']\n",
      "[nan 'RapidMiner']\n",
      "[nan 'Instabase']\n",
      "[nan 'Algorithmia']\n",
      "[nan 'Dataversity']\n",
      "[nan 'Cloudera']\n",
      "[nan 'Azure Machine Learning Studio']\n",
      "[nan 'Azure Machine Learning Workbench']\n",
      "[nan 'Azure Cortana Intelligence Suite']\n",
      "[nan 'Azure Bing Speech API']\n",
      "[nan 'Azure Speaker Recognition API']\n",
      "[nan 'Azure Computer Vision API']\n",
      "[nan 'Azure Face API']\n",
      "[nan 'Azure Video API']\n",
      "[nan 'IBM Watson Studio']\n",
      "[nan 'IBM Watson Knowledge Catalog']\n",
      "[nan 'IBM Watson Assistant']\n",
      "[nan 'IBM Watson Discovery']\n",
      "[nan 'IBM Watson Text to Speech']\n",
      "[nan 'IBM Watson Visual Recognition']\n",
      "[nan 'IBM Watson Machine Learning']\n",
      "[nan 'Azure Cognitive Services']\n",
      "[nan 'None']\n",
      "[nan 'Other']\n",
      "[nan 'AWS Relational Database Service']\n",
      "[nan 'AWS Aurora']\n",
      "[nan 'Google Cloud SQL']\n",
      "[nan 'Google Cloud Spanner']\n",
      "[nan 'AWS DynamoDB']\n",
      "[nan 'Google Cloud Datastore']\n",
      "[nan 'Google Cloud Bigtable']\n",
      "[nan 'AWS SimpleDB']\n",
      "[nan 'Microsoft SQL Server']\n",
      "[nan 'MySQL']\n",
      "[nan 'PostgresSQL']\n",
      "[nan 'SQLite']\n",
      "[nan 'Oracle Database']\n",
      "[nan 'Ingres']\n",
      "[nan 'Microsoft Access']\n",
      "[nan 'NexusDB']\n",
      "[nan 'SAP IQ']\n",
      "[nan 'Google Fusion Tables']\n",
      "[nan 'Azure Database for MySQL']\n",
      "[nan 'Azure Cosmos DB']\n",
      "[nan 'Azure SQL Database']\n",
      "[nan 'Azure Database for PostgreSQL']\n",
      "[nan 'IBM Cloud Compose']\n",
      "[nan 'IBM Cloud Compose for MySQL']\n",
      "[nan 'IBM Cloud Compose for PostgreSQL']\n",
      "[nan 'IBM Cloud Db2']\n",
      "[nan 'None']\n",
      "[nan 'Other']\n",
      "[nan 'AWS Elastic MapReduce']\n",
      "[nan 'AWS Batch']\n",
      "[nan 'Google Cloud Dataproc']\n",
      "[nan 'Google Cloud Dataflow']\n",
      "[nan 'Google Cloud Dataprep']\n",
      "[nan 'AWS Kinesis']\n",
      "[nan 'Google Cloud Pub/Sub']\n",
      "[nan 'AWS Athena']\n",
      "[nan 'AWS Redshift']\n",
      "[nan 'Google BigQuery']\n",
      "[nan 'Teradata']\n",
      "[nan 'Microsoft Analysis Services']\n",
      "[nan 'Oracle Exadata']\n",
      "[nan 'Oracle Warehouse Builder']\n",
      "[nan 'SAP IQ']\n",
      "[nan 'Snowflake']\n",
      "[nan 'Databricks']\n",
      "[nan 'Azure SQL Data Warehouse']\n",
      "[nan 'Azure HDInsight']\n",
      "[nan 'Azure Stream Analytics']\n",
      "[nan 'IBM InfoSphere DataStorage']\n",
      "[nan 'IBM Cloud Analytics Engine']\n",
      "[nan 'IBM Cloud Streaming Analytics']\n",
      "[nan 'None']\n",
      "[nan 'Other']\n",
      "[nan 'Audio Data']\n",
      "[nan 'Categorical Data']\n",
      "[nan 'Genetic Data']\n",
      "[nan 'Geospatial Data']\n",
      "[nan 'Image Data']\n",
      "[nan 'Numerical Data']\n",
      "[nan 'Sensor Data']\n",
      "[nan 'Tabular Data']\n",
      "[nan 'Text Data']\n",
      "[nan 'Time Series Data']\n",
      "[nan 'Video Data']\n",
      "[nan 'Other Data']\n",
      "[nan 'Government websites']\n",
      "[nan 'University research group websites']\n",
      "[nan 'Non-profit research group websites']\n",
      "[nan\n",
      " 'Dataset aggregator/platform (Socrata, Kaggle Public Datasets Platform, etc.)']\n",
      "[nan 'I collect my own data (web-scraping, etc.)']\n",
      "[nan 'Publicly released data from private companies']\n",
      "[nan 'Google Search']\n",
      "[nan 'Google Dataset Search']\n",
      "[nan 'GitHub']\n",
      "[nan 'None/I do not work with public data']\n",
      "[nan 'Other']\n",
      "[nan 'Udacity']\n",
      "[nan 'Coursera']\n",
      "[nan 'edX']\n",
      "[nan 'DataCamp']\n",
      "[nan 'DataQuest']\n",
      "[nan 'Kaggle Learn']\n",
      "[nan 'Fast.AI']\n",
      "[nan 'developers.google.com']\n",
      "[nan 'Udemy']\n",
      "[nan 'TheSchool.AI']\n",
      "[nan 'Online University Courses']\n",
      "[nan 'None']\n",
      "[nan 'Other']\n",
      "[nan 'Twitter']\n",
      "[nan 'Hacker News']\n",
      "[nan 'r/machinelearning']\n",
      "[nan 'Kaggle forums']\n",
      "[nan 'Fastai forums']\n",
      "[nan 'Siraj Raval YouTube Channel']\n",
      "[nan 'DataTau News Aggregator']\n",
      "[nan 'Linear Digressions Podcast']\n",
      "[nan 'Cloud AI Adventures (YouTube)']\n",
      "[nan 'FiveThirtyEight.com']\n",
      "[nan 'ArXiv & Preprints']\n",
      "[nan 'Journal Publications']\n",
      "[nan 'FastML Blog']\n",
      "[nan 'KDnuggets Blog']\n",
      "[nan \"O'Reilly Data Newsletter\"]\n",
      "[nan 'Partially Derivative Podcast']\n",
      "[nan 'The Data Skeptic Podcast']\n",
      "[nan 'Medium Blog Posts']\n",
      "['None/I do not know' nan]\n",
      "[nan 'Other']\n",
      "[nan 'Revenue and/or business goals']\n",
      "[nan 'Metrics that consider accuracy']\n",
      "[nan 'Metrics that consider unfair bias']\n",
      "[nan\n",
      " 'Not applicable (I am not involved with an organization that builds ML models)']\n",
      "[nan 'Other']\n",
      "[nan\n",
      " 'Lack of communication between individuals who collect the data and individuals who analyze the data']\n",
      "[nan 'Difficulty in identifying groups that are unfairly targeted']\n",
      "[nan\n",
      " 'Difficulty in collecting enough data about groups that may be unfairly targeted']\n",
      "[nan\n",
      " 'Difficulty in identifying and selecting the appropriate evaluation metrics']\n",
      "[nan 'I have never found any difficulty in this task']\n",
      "[nan 'I have never performed this task']\n",
      "[nan 'Only for very important models that are already in production']\n",
      "[nan 'For all models right before putting the model in production']\n",
      "[nan\n",
      " 'When determining whether it is worth it to put the model into production']\n",
      "[nan\n",
      " 'When building a model that was specifically designed to produce such insights']\n",
      "[nan 'When first exploring a new ML model or dataset']\n",
      "[nan 'I do not explore and interpret model insights and predictions']\n",
      "[nan 'Examine individual model coefficients']\n",
      "[nan 'Examine feature correlations']\n",
      "[nan 'Examine feature importances']\n",
      "[nan 'Plot decision boundaries']\n",
      "[nan 'Create partial dependence plots']\n",
      "[nan 'Dimensionality reduction techniques']\n",
      "[nan 'Attention mapping/saliency mapping']\n",
      "[nan 'Plot predicted vs. actual results']\n",
      "[nan 'Print out a decision tree']\n",
      "[nan 'Sensitivity analysis/perturbation importance']\n",
      "[nan 'LIME functions']\n",
      "[nan 'ELI5 functions']\n",
      "[nan 'SHAP functions']\n",
      "[nan 'None/I do not use these model explanation techniques']\n",
      "[nan 'Other']\n",
      "[nan 'Share code on Github or a similar code-sharing repository']\n",
      "[nan\n",
      " 'Share both data and code on Github or a similar code-sharing repository']\n",
      "[nan\n",
      " 'Share data, code, and environment using a hosted service (Kaggle Kernels, Google Colaboratory, Amazon SageMaker, etc.)']\n",
      "[nan 'Share data, code, and environment using containers (Docker, etc.)']\n",
      "[nan\n",
      " 'Share code, data, and environment using virtual machines (VirtualBox, etc.)']\n",
      "[nan 'Make sure the code is well documented']\n",
      "[nan 'Make sure the code is human-readable']\n",
      "[nan 'Define all random seeds']\n",
      "[nan 'Define relative rather than absolute file paths']\n",
      "[nan 'Include a text file describing all dependencies']\n",
      "[nan 'None/I do not make my work easy for others to reproduce']\n",
      "[nan 'Other']\n",
      "[nan 'Too expensive']\n",
      "[nan 'Too time-consuming']\n",
      "[nan 'Requires too much technical knowledge']\n",
      "[nan 'Afraid that others will use my work without giving proper credit']\n"
     ]
    },
    {
     "name": "stdout",
     "output_type": "stream",
     "text": [
      "[nan 'Not enough incentives to share my work']\n",
      "[nan\n",
      " 'I had never considered making my work easier for others to reproduce']\n",
      "[nan 'None of these reasons apply to me']\n",
      "[nan 'Other']\n",
      "314\n"
     ]
    }
   ],
   "source": [
    "counter = 0\n",
    "for column in df_kaggle_clean:\n",
    "    if ((len(df_kaggle_clean[column].unique())) == 2):\n",
    "        counter = counter + 1\n",
    "        print (df_kaggle_clean[column].unique())\n",
    "print (counter)"
   ]
  },
  {
   "cell_type": "markdown",
   "metadata": {},
   "source": [
    "From the above you can see that there are 314 columns that have only 2 entries, where one is some data and the other is nan. Lets write a function called binary_response_cleaning that takes these columns and cleans them so if they contain data they are edited to a 1 and if it is nan it gets edited to a 0."
   ]
  },
  {
   "cell_type": "code",
   "execution_count": 8,
   "metadata": {},
   "outputs": [],
   "source": [
    "def binary_response_cleaning(response): # Tweet cleaning function   \n",
    "    if pd.isna(response):\n",
    "        response = 0\n",
    "    else:\n",
    "        response = 1\n",
    "    return (response)\n",
    "\n",
    "for column in df_kaggle_clean:\n",
    "    if ((len(df_kaggle_clean[column].unique())) == 2):\n",
    "        # Need to now convert anything that is empy to 0 and everything else to 1\n",
    "        df_kaggle_clean[column] = df_kaggle_clean[column].apply(lambda x: binary_response_cleaning(x))"
   ]
  },
  {
   "cell_type": "code",
   "execution_count": 9,
   "metadata": {},
   "outputs": [
    {
     "data": {
      "text/html": [
       "<div>\n",
       "<style scoped>\n",
       "    .dataframe tbody tr th:only-of-type {\n",
       "        vertical-align: middle;\n",
       "    }\n",
       "\n",
       "    .dataframe tbody tr th {\n",
       "        vertical-align: top;\n",
       "    }\n",
       "\n",
       "    .dataframe thead th {\n",
       "        text-align: right;\n",
       "    }\n",
       "</style>\n",
       "<table border=\"1\" class=\"dataframe\">\n",
       "  <thead>\n",
       "    <tr style=\"text-align: right;\">\n",
       "      <th></th>\n",
       "      <th>Unnamed: 0</th>\n",
       "      <th>Time from Start to Finish (seconds)</th>\n",
       "      <th>Q1</th>\n",
       "      <th>Q1_OTHER_TEXT</th>\n",
       "      <th>Q2</th>\n",
       "      <th>Q3</th>\n",
       "      <th>Q4</th>\n",
       "      <th>Q5</th>\n",
       "      <th>Q6</th>\n",
       "      <th>Q6_OTHER_TEXT</th>\n",
       "      <th>...</th>\n",
       "      <th>Q50_Part_1</th>\n",
       "      <th>Q50_Part_2</th>\n",
       "      <th>Q50_Part_3</th>\n",
       "      <th>Q50_Part_4</th>\n",
       "      <th>Q50_Part_5</th>\n",
       "      <th>Q50_Part_6</th>\n",
       "      <th>Q50_Part_7</th>\n",
       "      <th>Q50_Part_8</th>\n",
       "      <th>Q50_OTHER_TEXT</th>\n",
       "      <th>index</th>\n",
       "    </tr>\n",
       "  </thead>\n",
       "  <tbody>\n",
       "    <tr>\n",
       "      <th>1</th>\n",
       "      <td>2</td>\n",
       "      <td>434</td>\n",
       "      <td>Male</td>\n",
       "      <td>-1</td>\n",
       "      <td>30-34</td>\n",
       "      <td>Indonesia</td>\n",
       "      <td>Bachelor’s degree</td>\n",
       "      <td>Engineering (non-computer focused)</td>\n",
       "      <td>Other</td>\n",
       "      <td>0</td>\n",
       "      <td>...</td>\n",
       "      <td>0</td>\n",
       "      <td>0</td>\n",
       "      <td>0</td>\n",
       "      <td>0</td>\n",
       "      <td>0</td>\n",
       "      <td>0</td>\n",
       "      <td>0</td>\n",
       "      <td>0</td>\n",
       "      <td>-1</td>\n",
       "      <td>0.0</td>\n",
       "    </tr>\n",
       "    <tr>\n",
       "      <th>2</th>\n",
       "      <td>3</td>\n",
       "      <td>718</td>\n",
       "      <td>Female</td>\n",
       "      <td>-1</td>\n",
       "      <td>30-34</td>\n",
       "      <td>United States of America</td>\n",
       "      <td>Master’s degree</td>\n",
       "      <td>Computer science (software engineering, etc.)</td>\n",
       "      <td>Data Scientist</td>\n",
       "      <td>-1</td>\n",
       "      <td>...</td>\n",
       "      <td>0</td>\n",
       "      <td>1</td>\n",
       "      <td>0</td>\n",
       "      <td>0</td>\n",
       "      <td>0</td>\n",
       "      <td>0</td>\n",
       "      <td>0</td>\n",
       "      <td>0</td>\n",
       "      <td>-1</td>\n",
       "      <td>1.0</td>\n",
       "    </tr>\n",
       "    <tr>\n",
       "      <th>3</th>\n",
       "      <td>5</td>\n",
       "      <td>731</td>\n",
       "      <td>Male</td>\n",
       "      <td>-1</td>\n",
       "      <td>22-24</td>\n",
       "      <td>India</td>\n",
       "      <td>Master’s degree</td>\n",
       "      <td>Mathematics or statistics</td>\n",
       "      <td>Data Analyst</td>\n",
       "      <td>-1</td>\n",
       "      <td>...</td>\n",
       "      <td>0</td>\n",
       "      <td>1</td>\n",
       "      <td>0</td>\n",
       "      <td>0</td>\n",
       "      <td>1</td>\n",
       "      <td>0</td>\n",
       "      <td>0</td>\n",
       "      <td>0</td>\n",
       "      <td>-1</td>\n",
       "      <td>2.0</td>\n",
       "    </tr>\n",
       "    <tr>\n",
       "      <th>4</th>\n",
       "      <td>7</td>\n",
       "      <td>959</td>\n",
       "      <td>Male</td>\n",
       "      <td>-1</td>\n",
       "      <td>35-39</td>\n",
       "      <td>Chile</td>\n",
       "      <td>Doctoral degree</td>\n",
       "      <td>Information technology, networking, or system ...</td>\n",
       "      <td>Other</td>\n",
       "      <td>1</td>\n",
       "      <td>...</td>\n",
       "      <td>1</td>\n",
       "      <td>0</td>\n",
       "      <td>0</td>\n",
       "      <td>0</td>\n",
       "      <td>0</td>\n",
       "      <td>1</td>\n",
       "      <td>0</td>\n",
       "      <td>0</td>\n",
       "      <td>-1</td>\n",
       "      <td>3.0</td>\n",
       "    </tr>\n",
       "    <tr>\n",
       "      <th>5</th>\n",
       "      <td>8</td>\n",
       "      <td>1758</td>\n",
       "      <td>Male</td>\n",
       "      <td>-1</td>\n",
       "      <td>18-21</td>\n",
       "      <td>India</td>\n",
       "      <td>Master’s degree</td>\n",
       "      <td>Information technology, networking, or system ...</td>\n",
       "      <td>Other</td>\n",
       "      <td>2</td>\n",
       "      <td>...</td>\n",
       "      <td>0</td>\n",
       "      <td>0</td>\n",
       "      <td>0</td>\n",
       "      <td>0</td>\n",
       "      <td>1</td>\n",
       "      <td>0</td>\n",
       "      <td>0</td>\n",
       "      <td>0</td>\n",
       "      <td>-1</td>\n",
       "      <td>4.0</td>\n",
       "    </tr>\n",
       "  </tbody>\n",
       "</table>\n",
       "<p>5 rows × 397 columns</p>\n",
       "</div>"
      ],
      "text/plain": [
       "   Unnamed: 0 Time from Start to Finish (seconds)      Q1 Q1_OTHER_TEXT  \\\n",
       "1           2                                 434    Male            -1   \n",
       "2           3                                 718  Female            -1   \n",
       "3           5                                 731    Male            -1   \n",
       "4           7                                 959    Male            -1   \n",
       "5           8                                1758    Male            -1   \n",
       "\n",
       "      Q2                        Q3                 Q4  \\\n",
       "1  30-34                 Indonesia  Bachelor’s degree   \n",
       "2  30-34  United States of America    Master’s degree   \n",
       "3  22-24                     India    Master’s degree   \n",
       "4  35-39                     Chile    Doctoral degree   \n",
       "5  18-21                     India    Master’s degree   \n",
       "\n",
       "                                                  Q5              Q6  \\\n",
       "1                 Engineering (non-computer focused)           Other   \n",
       "2      Computer science (software engineering, etc.)  Data Scientist   \n",
       "3                          Mathematics or statistics    Data Analyst   \n",
       "4  Information technology, networking, or system ...           Other   \n",
       "5  Information technology, networking, or system ...           Other   \n",
       "\n",
       "  Q6_OTHER_TEXT  ...   Q50_Part_1 Q50_Part_2 Q50_Part_3 Q50_Part_4 Q50_Part_5  \\\n",
       "1             0  ...            0          0          0          0          0   \n",
       "2            -1  ...            0          1          0          0          0   \n",
       "3            -1  ...            0          1          0          0          1   \n",
       "4             1  ...            1          0          0          0          0   \n",
       "5             2  ...            0          0          0          0          1   \n",
       "\n",
       "   Q50_Part_6  Q50_Part_7  Q50_Part_8  Q50_OTHER_TEXT  index  \n",
       "1           0           0           0              -1    0.0  \n",
       "2           0           0           0              -1    1.0  \n",
       "3           0           0           0              -1    2.0  \n",
       "4           1           0           0              -1    3.0  \n",
       "5           0           0           0              -1    4.0  \n",
       "\n",
       "[5 rows x 397 columns]"
      ]
     },
     "execution_count": 9,
     "metadata": {},
     "output_type": "execute_result"
    }
   ],
   "source": [
    "df_kaggle_clean.head()"
   ]
  },
  {
   "cell_type": "markdown",
   "metadata": {},
   "source": [
    "We now know that 314 of the total 397 coloumns contained binary responses where the options were either a multiple choice response or NaN. The above function takes these binary responses and converts the NaN entries to 0 and whatever else there was to a 1.\n",
    "\n",
    "Thus there remains 83 coloumns that require cleaning.\n",
    "\n",
    "Next we will remove the coloumns with OTHER_TEXT in their name. This is a valid removal as the resonses are covered in the preceeding parts to the same question. Ie. Q1_OTHER_TEXT contains no new information that isn't already present in Q1. In other words these are non-relevant or non-important features.\n",
    "\n",
    "A brief review of the data and you can see the columns that contain OTHER_TEXT that we want to drop are: ['Q1_OTHER_TEXT', 'Q6_OTHER_TEXT', 'Q7_OTHER_TEXT', 'Q11_OTHER_TEXT', 'Q12_OTHER_TEXT', 'Q13_OTHER_TEXT', 'Q14_OTHER_TEXT', 'Q15_OTHER_TEXT', 'Q16_OTHER_TEXT', 'Q17_OTHER_TEXT', 'Q18_OTHER_TEXT', 'Q19_OTHER_TEXT', 'Q20_OTHER_TEXT', 'Q21_OTHER_TEXT', 'Q22_OTHER_TEXT', 'Q27_OTHER_TEXT', 'Q28_OTHER_TEXT', 'Q29_OTHER_TEXT', 'Q30_OTHER_TEXT', 'Q31_OTHER_TEXT', 'Q32_OTHER', 'Q33_OTHER_TEXT', 'Q35_OTHER_TEXT', 'Q36_OTHER_TEXT', 'Q37_OTHER_TEXT', 'Q42_OTHER_TEXT', 'Q49_OTHER_TEXT', 'Q50_OTHER_TEXT']\n",
    "\n",
    "Lets print out the remaining columns to view what the new dataset would look like."
   ]
  },
  {
   "cell_type": "code",
   "execution_count": 10,
   "metadata": {},
   "outputs": [
    {
     "name": "stdout",
     "output_type": "stream",
     "text": [
      "       Unnamed: 0 Time from Start to Finish (seconds)                 Q1  \\\n",
      "1               2                                 434               Male   \n",
      "2               3                                 718             Female   \n",
      "3               5                                 731               Male   \n",
      "4               7                                 959               Male   \n",
      "5               8                                1758               Male   \n",
      "6              10                                 751               Male   \n",
      "7              12                                 823               Male   \n",
      "8              13                                1091               Male   \n",
      "9              14                                1917               Male   \n",
      "10             15                                 846             Female   \n",
      "11             16                                1153               Male   \n",
      "12             17                                2626               Male   \n",
      "13             18                                1388               Male   \n",
      "14             19                                2150               Male   \n",
      "15             20                                1361               Male   \n",
      "16             21                                2052             Female   \n",
      "17             23                                1327               Male   \n",
      "18             24                                1177             Female   \n",
      "19             25                                1298               Male   \n",
      "20             26                                1012               Male   \n",
      "21             27                                2063               Male   \n",
      "22             28                                3266             Female   \n",
      "23             29                                1023             Female   \n",
      "24             30                                1419             Female   \n",
      "25             32                                1344               Male   \n",
      "26             33                                1724               Male   \n",
      "27             35                                1996             Female   \n",
      "28             36                                 971               Male   \n",
      "29             38                                2432               Male   \n",
      "30             39                                1185               Male   \n",
      "...           ...                                 ...                ...   \n",
      "15400       23782                                 394               Male   \n",
      "15401       23783                                 411               Male   \n",
      "15402       23787                                 877               Male   \n",
      "15403       23790                               32154               Male   \n",
      "15404       23791                               42478               Male   \n",
      "15405       23795                                 474             Female   \n",
      "15406       23797                                 292               Male   \n",
      "15407       23799                                 439               Male   \n",
      "15408       23800                                9763             Female   \n",
      "15409       23801                               12032               Male   \n",
      "15410       23805                                 625  Prefer not to say   \n",
      "15411       23807                                 872               Male   \n",
      "15412       23810                                 480               Male   \n",
      "15413       23813                                2294               Male   \n",
      "15414       23815                                 180               Male   \n",
      "15415       23817                                 907               Male   \n",
      "15416       23821                               28031               Male   \n",
      "15417       23823                                 697               Male   \n",
      "15418       23824                                 940               Male   \n",
      "15419       23828                                 183               Male   \n",
      "15420       23833                                1804               Male   \n",
      "15421       23836                                1536               Male   \n",
      "15422       23839                                 180               Male   \n",
      "15423       23841                                 699             Female   \n",
      "15424       23842                                 539               Male   \n",
      "15425       23844                                1800               Male   \n",
      "15426       23845                                 129               Male   \n",
      "15427       23854                                 348               Male   \n",
      "15428       23855                                 575               Male   \n",
      "15429       23857                                 370               Male   \n",
      "\n",
      "          Q2                                                 Q3  \\\n",
      "1      30-34                                          Indonesia   \n",
      "2      30-34                           United States of America   \n",
      "3      22-24                                              India   \n",
      "4      35-39                                              Chile   \n",
      "5      18-21                                              India   \n",
      "6      30-34                                            Hungary   \n",
      "7      40-44                           United States of America   \n",
      "8      25-29                                             France   \n",
      "9      25-29                           United States of America   \n",
      "10     25-29                                          Argentina   \n",
      "11     25-29                                              Japan   \n",
      "12     40-44                                           Colombia   \n",
      "13     25-29                                            Nigeria   \n",
      "14     35-39                           United States of America   \n",
      "15     55-59                                              Spain   \n",
      "16     30-34                                              Other   \n",
      "17     30-34                           United States of America   \n",
      "18     25-29                       Iran, Islamic Republic of...   \n",
      "19     30-34  United Kingdom of Great Britain and Northern I...   \n",
      "20     25-29                                             Turkey   \n",
      "21     30-34                                              India   \n",
      "22     30-34                           United States of America   \n",
      "23     40-44                                             Poland   \n",
      "24     25-29                                              Kenya   \n",
      "25     30-34                                            Denmark   \n",
      "26     35-39                                        Netherlands   \n",
      "27     25-29                                             Sweden   \n",
      "28     30-34                                            Ukraine   \n",
      "29     22-24                                             Canada   \n",
      "30     30-34                                          Australia   \n",
      "...      ...                                                ...   \n",
      "15400  35-39                                              India   \n",
      "15401  25-29                                             Poland   \n",
      "15402  25-29                                             Turkey   \n",
      "15403  18-21                                              Other   \n",
      "15404  30-34                                           Pakistan   \n",
      "15405  40-44                                              India   \n",
      "15406  35-39                                            Hungary   \n",
      "15407  30-34                                            Germany   \n",
      "15408  25-29                                             Russia   \n",
      "15409  30-34                                              Other   \n",
      "15410  35-39                                             Sweden   \n",
      "15411  25-29                                              India   \n",
      "15412  35-39                                             Russia   \n",
      "15413  30-34                                              India   \n",
      "15414  25-29                                             Turkey   \n",
      "15415  40-44                                            Ukraine   \n",
      "15416  22-24                                             Turkey   \n",
      "15417  25-29                                           Pakistan   \n",
      "15418  35-39  United Kingdom of Great Britain and Northern I...   \n",
      "15419  25-29                                            Ukraine   \n",
      "15420  18-21                                             Turkey   \n",
      "15421  25-29                                             Russia   \n",
      "15422  22-24                                             Turkey   \n",
      "15423  22-24                                              India   \n",
      "15424  18-21                                             Russia   \n",
      "15425  30-34                                        Netherlands   \n",
      "15426  22-24                                            Romania   \n",
      "15427  30-34                                             Turkey   \n",
      "15428  45-49                                             France   \n",
      "15429  22-24                                             Turkey   \n",
      "\n",
      "                                                      Q4  \\\n",
      "1                                      Bachelor’s degree   \n",
      "2                                        Master’s degree   \n",
      "3                                        Master’s degree   \n",
      "4                                        Doctoral degree   \n",
      "5                                        Master’s degree   \n",
      "6                                        Master’s degree   \n",
      "7                                        Master’s degree   \n",
      "8                                        Doctoral degree   \n",
      "9                                      Bachelor’s degree   \n",
      "10                                     Bachelor’s degree   \n",
      "11                                       Master’s degree   \n",
      "12                                       Master’s degree   \n",
      "13                                   Professional degree   \n",
      "14     Some college/university study without earning ...   \n",
      "15     Some college/university study without earning ...   \n",
      "16                                       Master’s degree   \n",
      "17                                     Bachelor’s degree   \n",
      "18                                       Master’s degree   \n",
      "19                                       Master’s degree   \n",
      "20                                       Master’s degree   \n",
      "21                                     Bachelor’s degree   \n",
      "22                                       Master’s degree   \n",
      "23                                       Master’s degree   \n",
      "24                                     Bachelor’s degree   \n",
      "25                                       Master’s degree   \n",
      "26                                       Master’s degree   \n",
      "27                                       Master’s degree   \n",
      "28                                       Master’s degree   \n",
      "29                                       Doctoral degree   \n",
      "30                                       Doctoral degree   \n",
      "...                                                  ...   \n",
      "15400                                  Bachelor’s degree   \n",
      "15401                                    Master’s degree   \n",
      "15402                                    Doctoral degree   \n",
      "15403                                  Bachelor’s degree   \n",
      "15404                                  Bachelor’s degree   \n",
      "15405                                Professional degree   \n",
      "15406                                    Master’s degree   \n",
      "15407                                    Master’s degree   \n",
      "15408                                  Bachelor’s degree   \n",
      "15409                                    Doctoral degree   \n",
      "15410                                    Master’s degree   \n",
      "15411                                  Bachelor’s degree   \n",
      "15412                                    Doctoral degree   \n",
      "15413                                    Master’s degree   \n",
      "15414                                    Master’s degree   \n",
      "15415                                    Master’s degree   \n",
      "15416                                    Master’s degree   \n",
      "15417                                  Bachelor’s degree   \n",
      "15418                                    Doctoral degree   \n",
      "15419                                    Master’s degree   \n",
      "15420                                  Bachelor’s degree   \n",
      "15421                                    Master’s degree   \n",
      "15422                                  Bachelor’s degree   \n",
      "15423                                    Master’s degree   \n",
      "15424                                    Master’s degree   \n",
      "15425                                    Master’s degree   \n",
      "15426                                    Master’s degree   \n",
      "15427                                    Doctoral degree   \n",
      "15428                                    Doctoral degree   \n",
      "15429                                    Master’s degree   \n",
      "\n",
      "                                                      Q5  \\\n",
      "1                     Engineering (non-computer focused)   \n",
      "2          Computer science (software engineering, etc.)   \n",
      "3                              Mathematics or statistics   \n",
      "4      Information technology, networking, or system ...   \n",
      "5      Information technology, networking, or system ...   \n",
      "6                     Engineering (non-computer focused)   \n",
      "7                     Engineering (non-computer focused)   \n",
      "8                              Mathematics or statistics   \n",
      "9                              Mathematics or statistics   \n",
      "10     A business discipline (accounting, economics, ...   \n",
      "11                    Engineering (non-computer focused)   \n",
      "12                      Environmental science or geology   \n",
      "13     Medical or life sciences (biology, chemistry, ...   \n",
      "14         Computer science (software engineering, etc.)   \n",
      "15                              I never declared a major   \n",
      "16                    Engineering (non-computer focused)   \n",
      "17     A business discipline (accounting, economics, ...   \n",
      "18         Computer science (software engineering, etc.)   \n",
      "19                             Mathematics or statistics   \n",
      "20                                                 Other   \n",
      "21                    Engineering (non-computer focused)   \n",
      "22     Medical or life sciences (biology, chemistry, ...   \n",
      "23                             Mathematics or statistics   \n",
      "24         Computer science (software engineering, etc.)   \n",
      "25                                                 Other   \n",
      "26         Computer science (software engineering, etc.)   \n",
      "27                             Mathematics or statistics   \n",
      "28         Computer science (software engineering, etc.)   \n",
      "29                    Engineering (non-computer focused)   \n",
      "30                                  Physics or astronomy   \n",
      "...                                                  ...   \n",
      "15400  Medical or life sciences (biology, chemistry, ...   \n",
      "15401                          Mathematics or statistics   \n",
      "15402  A business discipline (accounting, economics, ...   \n",
      "15403                 Engineering (non-computer focused)   \n",
      "15404  Information technology, networking, or system ...   \n",
      "15405                 Engineering (non-computer focused)   \n",
      "15406                   Environmental science or geology   \n",
      "15407      Computer science (software engineering, etc.)   \n",
      "15408      Computer science (software engineering, etc.)   \n",
      "15409                          Mathematics or statistics   \n",
      "15410                 Engineering (non-computer focused)   \n",
      "15411      Computer science (software engineering, etc.)   \n",
      "15412                               Physics or astronomy   \n",
      "15413      Computer science (software engineering, etc.)   \n",
      "15414      Computer science (software engineering, etc.)   \n",
      "15415  Information technology, networking, or system ...   \n",
      "15416      Computer science (software engineering, etc.)   \n",
      "15417      Computer science (software engineering, etc.)   \n",
      "15418      Computer science (software engineering, etc.)   \n",
      "15419                               Physics or astronomy   \n",
      "15420                          Mathematics or statistics   \n",
      "15421      Computer science (software engineering, etc.)   \n",
      "15422  A business discipline (accounting, economics, ...   \n",
      "15423  Information technology, networking, or system ...   \n",
      "15424      Computer science (software engineering, etc.)   \n",
      "15425      Computer science (software engineering, etc.)   \n",
      "15426                          Mathematics or statistics   \n",
      "15427      Computer science (software engineering, etc.)   \n",
      "15428      Computer science (software engineering, etc.)   \n",
      "15429      Computer science (software engineering, etc.)   \n",
      "\n",
      "                            Q6                                      Q7     Q8  \\\n",
      "1                        Other               Manufacturing/Fabrication   5-10   \n",
      "2               Data Scientist                          I am a student    0-1   \n",
      "3                 Data Analyst                          I am a student    0-1   \n",
      "4                        Other                     Academics/Education  10-15   \n",
      "5                        Other                                   Other    0-1   \n",
      "6            Software Engineer  Online Service/Internet-based Services    3-4   \n",
      "7               Data Scientist                                   Other   5-10   \n",
      "8                      Student                          I am a student    NaN   \n",
      "9           Research Assistant                     Academics/Education    1-2   \n",
      "10                Data Analyst                                   Other    1-2   \n",
      "11              Data Scientist                  Medical/Pharmaceutical    0-1   \n",
      "12              Data Scientist                           Energy/Mining    1-2   \n",
      "13                       Other                            Retail/Sales    2-3   \n",
      "14                       Other               Military/Security/Defense   5-10   \n",
      "15              Data Scientist                           Energy/Mining   5-10   \n",
      "16               Chief Officer                    Computers/Technology    0-1   \n",
      "17                     Manager               Insurance/Risk Assessment    2-3   \n",
      "18          Research Scientist                    Computers/Technology    0-1   \n",
      "19              Data Scientist  Online Service/Internet-based Services   5-10   \n",
      "20          Research Assistant                     Academics/Education    1-2   \n",
      "21                       Other                                   Other    2-3   \n",
      "22                Data Analyst                    Computers/Technology    2-3   \n",
      "23            Business Analyst                    Computers/Technology  10-15   \n",
      "24           Software Engineer                    Computers/Technology    2-3   \n",
      "25            Business Analyst        Hospitality/Entertainment/Sports    1-2   \n",
      "26              Data Scientist             Broadcasting/Communications    0-1   \n",
      "27              Data Scientist                      Accounting/Finance    1-2   \n",
      "28           Software Engineer                    Computers/Technology   5-10   \n",
      "29           Software Engineer                    Computers/Technology    0-1   \n",
      "30              Data Scientist                     Academics/Education    2-3   \n",
      "...                        ...                                     ...    ...   \n",
      "15400                    Other                  Medical/Pharmaceutical  10-15   \n",
      "15401             Data Analyst                      Accounting/Finance    0-1   \n",
      "15402             Data Analyst                                   Other    2-3   \n",
      "15403                  Student                      Non-profit/Service    0-1   \n",
      "15404           Data Scientist                    Computers/Technology    4-5   \n",
      "15405  Product/Project Manager                    Computers/Technology  10-15   \n",
      "15406        Software Engineer               Government/Public Service    0-1   \n",
      "15407             Data Analyst                    Computers/Technology   5-10   \n",
      "15408        Software Engineer  Online Service/Internet-based Services    4-5   \n",
      "15409             Statistician               Government/Public Service   5-10   \n",
      "15410           Data Scientist                    Computers/Technology    1-2   \n",
      "15411    DBA/Database Engineer               Insurance/Risk Assessment    3-4   \n",
      "15412       Research Scientist                     Academics/Education   5-10   \n",
      "15413           Data Scientist                    Computers/Technology   5-10   \n",
      "15414        Software Engineer                    Computers/Technology    2-3   \n",
      "15415                  Manager                    Computers/Technology    2-3   \n",
      "15416           Data Scientist                     Academics/Education    0-1   \n",
      "15417        Software Engineer                    Computers/Technology    1-2   \n",
      "15418       Research Scientist                     Academics/Education  10-15   \n",
      "15419                    Other                    Computers/Technology    0-1   \n",
      "15420            Data Engineer               Insurance/Risk Assessment    0-1   \n",
      "15421  Product/Project Manager                 Shipping/Transportation    2-3   \n",
      "15422             Data Analyst                    Computers/Technology    1-2   \n",
      "15423                  Student                    Computers/Technology  20-25   \n",
      "15424                  Student                          I am a student    0-1   \n",
      "15425        Software Engineer                    Computers/Technology  10-15   \n",
      "15426                  Student                          I am a student    0-1   \n",
      "15427       Research Assistant                     Academics/Education   5-10   \n",
      "15428            Chief Officer                    Computers/Technology   5-10   \n",
      "15429        Software Engineer                    Computers/Technology    0-1   \n",
      "\n",
      "        ...    Q49_Part_12 Q50_Part_1  Q50_Part_2  Q50_Part_3  Q50_Part_4  \\\n",
      "1       ...              0          0           0           0           0   \n",
      "2       ...              0          0           1           0           0   \n",
      "3       ...              0          0           1           0           0   \n",
      "4       ...              0          1           0           0           0   \n",
      "5       ...              0          0           0           0           0   \n",
      "6       ...              0          0           1           0           1   \n",
      "7       ...              0          0           1           0           0   \n",
      "8       ...              0          0           0           0           0   \n",
      "9       ...              0          0           1           0           0   \n",
      "10      ...              0          0           1           0           0   \n",
      "11      ...              0          0           1           1           1   \n",
      "12      ...              0          0           0           0           1   \n",
      "13      ...              0          0           0           1           1   \n",
      "14      ...              0          0           1           0           0   \n",
      "15      ...              0          0           0           0           0   \n",
      "16      ...              0          0           0           1           0   \n",
      "17      ...              0          1           0           1           0   \n",
      "18      ...              0          1           1           0           0   \n",
      "19      ...              0          0           1           1           0   \n",
      "20      ...              0          0           1           0           0   \n",
      "21      ...              0          0           0           0           0   \n",
      "22      ...              0          0           1           1           0   \n",
      "23      ...              0          0           1           0           0   \n",
      "24      ...              0          0           0           0           0   \n",
      "25      ...              0          0           0           0           0   \n",
      "26      ...              0          0           1           0           0   \n",
      "27      ...              0          0           0           0           0   \n",
      "28      ...              0          0           0           0           0   \n",
      "29      ...              0          1           0           0           0   \n",
      "30      ...              0          0           1           0           0   \n",
      "...     ...            ...        ...         ...         ...         ...   \n",
      "15400   ...              0          0           0           0           0   \n",
      "15401   ...              0          0           0           0           0   \n",
      "15402   ...              0          0           0           0           0   \n",
      "15403   ...              0          0           0           0           0   \n",
      "15404   ...              0          0           0           0           0   \n",
      "15405   ...              0          0           0           0           0   \n",
      "15406   ...              0          0           0           0           0   \n",
      "15407   ...              0          0           0           0           0   \n",
      "15408   ...              0          0           0           0           0   \n",
      "15409   ...              0          0           0           0           0   \n",
      "15410   ...              0          0           0           0           0   \n",
      "15411   ...              0          0           0           0           0   \n",
      "15412   ...              0          0           0           0           0   \n",
      "15413   ...              0          0           0           0           0   \n",
      "15414   ...              0          0           0           0           0   \n",
      "15415   ...              0          0           0           0           0   \n",
      "15416   ...              0          0           0           0           0   \n",
      "15417   ...              0          0           0           0           0   \n",
      "15418   ...              0          0           1           0           1   \n",
      "15419   ...              0          0           0           0           0   \n",
      "15420   ...              0          0           0           0           0   \n",
      "15421   ...              0          0           0           0           0   \n",
      "15422   ...              0          0           0           0           0   \n",
      "15423   ...              0          0           0           0           0   \n",
      "15424   ...              0          0           0           0           0   \n",
      "15425   ...              0          0           0           0           0   \n",
      "15426   ...              0          0           0           0           0   \n",
      "15427   ...              0          0           0           0           0   \n",
      "15428   ...              0          0           0           0           0   \n",
      "15429   ...              0          0           0           0           0   \n",
      "\n",
      "       Q50_Part_5  Q50_Part_6  Q50_Part_7  Q50_Part_8    index  \n",
      "1               0           0           0           0      0.0  \n",
      "2               0           0           0           0      1.0  \n",
      "3               1           0           0           0      2.0  \n",
      "4               0           1           0           0      3.0  \n",
      "5               1           0           0           0      4.0  \n",
      "6               0           0           0           0      5.0  \n",
      "7               1           0           0           0      6.0  \n",
      "8               0           0           1           0      7.0  \n",
      "9               0           0           0           0      8.0  \n",
      "10              0           0           0           0      9.0  \n",
      "11              0           0           0           0     10.0  \n",
      "12              0           0           0           0     11.0  \n",
      "13              1           0           0           0     12.0  \n",
      "14              0           0           0           0     13.0  \n",
      "15              0           0           1           0     14.0  \n",
      "16              0           0           0           0     15.0  \n",
      "17              0           0           0           0     16.0  \n",
      "18              0           0           0           0     17.0  \n",
      "19              0           0           0           0     18.0  \n",
      "20              0           0           0           0     19.0  \n",
      "21              0           0           0           0     20.0  \n",
      "22              0           0           0           0     21.0  \n",
      "23              0           0           0           0     22.0  \n",
      "24              0           0           0           0     23.0  \n",
      "25              0           0           0           0     24.0  \n",
      "26              0           0           0           0     25.0  \n",
      "27              0           0           1           0     26.0  \n",
      "28              1           0           0           0     27.0  \n",
      "29              0           0           0           0     28.0  \n",
      "30              0           0           0           1     29.0  \n",
      "...           ...         ...         ...         ...      ...  \n",
      "15400           0           0           0           0  15399.0  \n",
      "15401           0           0           0           0  15400.0  \n",
      "15402           0           0           0           0  15401.0  \n",
      "15403           0           0           0           0  15402.0  \n",
      "15404           0           0           0           0  15403.0  \n",
      "15405           0           0           0           0  15404.0  \n",
      "15406           0           0           0           0  15405.0  \n",
      "15407           0           0           0           0  15406.0  \n",
      "15408           0           0           0           0  15407.0  \n",
      "15409           0           0           0           0  15408.0  \n",
      "15410           0           0           0           0  15409.0  \n",
      "15411           0           0           0           0  15410.0  \n",
      "15412           0           0           0           0  15411.0  \n",
      "15413           0           0           0           0  15412.0  \n",
      "15414           0           0           0           0  15413.0  \n",
      "15415           0           0           0           0  15414.0  \n",
      "15416           0           0           0           0  15415.0  \n",
      "15417           0           0           0           0  15416.0  \n",
      "15418           1           0           0           0  15417.0  \n",
      "15419           0           0           0           0  15418.0  \n",
      "15420           0           0           0           0  15419.0  \n",
      "15421           0           0           0           0  15420.0  \n",
      "15422           0           0           0           0  15421.0  \n",
      "15423           0           0           0           0  15422.0  \n",
      "15424           0           0           0           0  15423.0  \n",
      "15425           0           0           0           0  15424.0  \n",
      "15426           0           0           0           0  15425.0  \n",
      "15427           0           0           0           0  15426.0  \n",
      "15428           0           0           0           0  15427.0  \n",
      "15429           0           0           0           0  15428.0  \n",
      "\n",
      "[15429 rows x 369 columns]\n"
     ]
    }
   ],
   "source": [
    "print (df_kaggle_clean.drop(['Q1_OTHER_TEXT', 'Q6_OTHER_TEXT', 'Q7_OTHER_TEXT', 'Q11_OTHER_TEXT', 'Q12_OTHER_TEXT', 'Q13_OTHER_TEXT', 'Q14_OTHER_TEXT', 'Q15_OTHER_TEXT', 'Q16_OTHER_TEXT', 'Q17_OTHER_TEXT', 'Q18_OTHER_TEXT', 'Q19_OTHER_TEXT', 'Q20_OTHER_TEXT', 'Q21_OTHER_TEXT', 'Q22_OTHER_TEXT', 'Q27_OTHER_TEXT', 'Q28_OTHER_TEXT', 'Q29_OTHER_TEXT', 'Q30_OTHER_TEXT', 'Q31_OTHER_TEXT', 'Q32_OTHER', 'Q33_OTHER_TEXT', 'Q35_OTHER_TEXT', 'Q36_OTHER_TEXT', 'Q37_OTHER_TEXT', 'Q42_OTHER_TEXT', 'Q49_OTHER_TEXT', 'Q50_OTHER_TEXT'], axis=1))"
   ]
  },
  {
   "cell_type": "markdown",
   "metadata": {},
   "source": [
    "Next lets actually drop them from the dataframe."
   ]
  },
  {
   "cell_type": "code",
   "execution_count": 11,
   "metadata": {},
   "outputs": [],
   "source": [
    "df_kaggle_clean = df_kaggle_clean.drop(['Q1_OTHER_TEXT', 'Q6_OTHER_TEXT', 'Q7_OTHER_TEXT', 'Q11_OTHER_TEXT', 'Q12_OTHER_TEXT', 'Q13_OTHER_TEXT', 'Q14_OTHER_TEXT', 'Q15_OTHER_TEXT', 'Q16_OTHER_TEXT', 'Q17_OTHER_TEXT', 'Q18_OTHER_TEXT', 'Q19_OTHER_TEXT', 'Q20_OTHER_TEXT', 'Q21_OTHER_TEXT', 'Q22_OTHER_TEXT', 'Q27_OTHER_TEXT', 'Q28_OTHER_TEXT', 'Q29_OTHER_TEXT', 'Q30_OTHER_TEXT', 'Q31_OTHER_TEXT', 'Q32_OTHER', 'Q33_OTHER_TEXT', 'Q34_OTHER_TEXT', 'Q35_OTHER_TEXT', 'Q36_OTHER_TEXT', 'Q37_OTHER_TEXT', 'Q38_OTHER_TEXT', 'Q42_OTHER_TEXT', 'Q49_OTHER_TEXT', 'Q50_OTHER_TEXT'], axis=1)"
   ]
  },
  {
   "cell_type": "markdown",
   "metadata": {},
   "source": [
    "Also from reviewing the data it is apparent that 'Q38_Part_19' and 'Q38_Part_20' are empty. Lets drop these as well."
   ]
  },
  {
   "cell_type": "code",
   "execution_count": 12,
   "metadata": {},
   "outputs": [],
   "source": [
    "df_kaggle_clean = df_kaggle_clean.drop(['Q38_Part_19', 'Q38_Part_20'], axis=1)"
   ]
  },
  {
   "cell_type": "markdown",
   "metadata": {},
   "source": [
    "Lets also drop columns 'Q47_Part_16' and 'index' as Q46_Part_16 is mostly null values and index is not relevant to the answers provided."
   ]
  },
  {
   "cell_type": "code",
   "execution_count": 13,
   "metadata": {},
   "outputs": [],
   "source": [
    "df_kaggle_clean = df_kaggle_clean.drop(['Q47_Part_16', 'index'], axis=1)"
   ]
  },
  {
   "cell_type": "markdown",
   "metadata": {},
   "source": [
    "Next lets create a new datframe called \"df_kaggle_clean_cat\" which we will convert the categorical responses into numeric responses through encoding.\n",
    "\n",
    "First lets test this by type casting Q1 to a category data type. Followig this lets use label encoding to convert the categorical data into a numeric value.\n",
    "\n",
    "Label encoding takes each unique entry and assigns a numeric value to it. Ie. if a column only contains Male and Female as the options every Male entry will be re-written to a 1 and every female entry a 0. In this dataset there are other options as we will see in the data exploration section. Label encoding can be called y using the .cat.codes command."
   ]
  },
  {
   "cell_type": "code",
   "execution_count": 14,
   "metadata": {},
   "outputs": [],
   "source": [
    "df_kaggle_clean_cat = df_kaggle_clean.copy()\n",
    "df_kaggle_clean_cat['Q1'] = df_kaggle_clean_cat['Q1'].astype('category')"
   ]
  },
  {
   "cell_type": "code",
   "execution_count": 15,
   "metadata": {},
   "outputs": [
    {
     "name": "stdout",
     "output_type": "stream",
     "text": [
      "1        1\n",
      "2        0\n",
      "3        1\n",
      "4        1\n",
      "5        1\n",
      "6        1\n",
      "7        1\n",
      "8        1\n",
      "9        1\n",
      "10       0\n",
      "11       1\n",
      "12       1\n",
      "13       1\n",
      "14       1\n",
      "15       1\n",
      "16       0\n",
      "17       1\n",
      "18       0\n",
      "19       1\n",
      "20       1\n",
      "21       1\n",
      "22       0\n",
      "23       0\n",
      "24       0\n",
      "25       1\n",
      "26       1\n",
      "27       0\n",
      "28       1\n",
      "29       1\n",
      "30       1\n",
      "        ..\n",
      "15400    1\n",
      "15401    1\n",
      "15402    1\n",
      "15403    1\n",
      "15404    1\n",
      "15405    0\n",
      "15406    1\n",
      "15407    1\n",
      "15408    0\n",
      "15409    1\n",
      "15410    2\n",
      "15411    1\n",
      "15412    1\n",
      "15413    1\n",
      "15414    1\n",
      "15415    1\n",
      "15416    1\n",
      "15417    1\n",
      "15418    1\n",
      "15419    1\n",
      "15420    1\n",
      "15421    1\n",
      "15422    1\n",
      "15423    0\n",
      "15424    1\n",
      "15425    1\n",
      "15426    1\n",
      "15427    1\n",
      "15428    1\n",
      "15429    1\n",
      "Length: 15429, dtype: int8\n"
     ]
    }
   ],
   "source": [
    "print (df_kaggle_clean_cat['Q1'].cat.codes)"
   ]
  },
  {
   "cell_type": "markdown",
   "metadata": {},
   "source": [
    "After reviewing the raw data it is apparent that the columns that contain categorical information that we want to encode through label encoding are the following:'Q1', 'Q2', 'Q3', 'Q4', 'Q5', 'Q6', 'Q7', 'Q8', 'Q10', 'Q12_MULTIPLE_CHOICE', 'Q17', 'Q18', 'Q20', 'Q22', 'Q23', 'Q24', 'Q25', 'Q26', 'Q32', 'Q37', 'Q39_Part_1', 'Q39_Part_2', 'Q40', 'Q41_Part_1', 'Q41_Part_2', 'Q41_Part_3', 'Q43', 'Q46', 'Q48'.\n",
    "\n",
    "Before encoding however, we would like to convert any null entries or responses not properly entered by the users with useful data. For the purposes of this assignment this will be completed by replacing the null entries in the above columns with mode. This is the same as repalcing null entries with the most common entries in the remainder of the column."
   ]
  },
  {
   "cell_type": "code",
   "execution_count": 16,
   "metadata": {},
   "outputs": [],
   "source": [
    "cat_column = ['Q1', 'Q2', 'Q3', 'Q4', 'Q5', 'Q6', 'Q7', 'Q8', 'Q10', 'Q12_MULTIPLE_CHOICE', 'Q17', 'Q18', 'Q20', 'Q22', 'Q23', 'Q24', 'Q25', 'Q26', 'Q32', 'Q37', 'Q39_Part_1', 'Q39_Part_2', 'Q40', 'Q41_Part_1', 'Q41_Part_2', 'Q41_Part_3', 'Q43', 'Q46', 'Q48']\n",
    "\n",
    "for x in cat_column:\n",
    "    df_kaggle_clean_cat[x].fillna(df_kaggle_clean_cat[x].mode()[0],inplace=True)"
   ]
  },
  {
   "cell_type": "markdown",
   "metadata": {},
   "source": [
    "We can check to see if the above was successful by printing out Q17 which we knew had null entries prior to."
   ]
  },
  {
   "cell_type": "code",
   "execution_count": 17,
   "metadata": {},
   "outputs": [
    {
     "name": "stdout",
     "output_type": "stream",
     "text": [
      "1                       Python\n",
      "2                         Java\n",
      "3                          SQL\n",
      "4                       Python\n",
      "5                       Python\n",
      "6                      C#/.NET\n",
      "7                         Java\n",
      "8                       Python\n",
      "9                       Python\n",
      "10                         SQL\n",
      "11                      Python\n",
      "12                           R\n",
      "13                      Python\n",
      "14                      Python\n",
      "15                      Python\n",
      "16                         SQL\n",
      "17                      Python\n",
      "18                      Python\n",
      "19                      Python\n",
      "20                      MATLAB\n",
      "21                      Python\n",
      "22                         SQL\n",
      "23                      Python\n",
      "24                      Python\n",
      "25                      Python\n",
      "26                      Python\n",
      "27                      Python\n",
      "28                        Java\n",
      "29                      Python\n",
      "30                           R\n",
      "                 ...          \n",
      "15400                   Python\n",
      "15401                   Python\n",
      "15402                   Python\n",
      "15403                   Python\n",
      "15404                   Python\n",
      "15405                        R\n",
      "15406                   Python\n",
      "15407                   Python\n",
      "15408    Javascript/Typescript\n",
      "15409                   Python\n",
      "15410                   Python\n",
      "15411                      SQL\n",
      "15412                   Python\n",
      "15413                  C#/.NET\n",
      "15414                   Python\n",
      "15415                   Python\n",
      "15416                   Python\n",
      "15417                   Python\n",
      "15418                    C/C++\n",
      "15419                   Python\n",
      "15420                  C#/.NET\n",
      "15421                   Python\n",
      "15422                   Python\n",
      "15423                   Python\n",
      "15424                   Python\n",
      "15425                     Java\n",
      "15426                   Python\n",
      "15427                   Python\n",
      "15428                    C/C++\n",
      "15429                   Python\n",
      "Name: Q17, Length: 15429, dtype: object\n"
     ]
    }
   ],
   "source": [
    "print(df_kaggle_clean_cat['Q17'])"
   ]
  },
  {
   "cell_type": "markdown",
   "metadata": {},
   "source": [
    "Next lets convert all cateogries in the columns identified earlier as a category datatype. This will allow us to call the cat.codes command effeciently."
   ]
  },
  {
   "cell_type": "code",
   "execution_count": 18,
   "metadata": {},
   "outputs": [],
   "source": [
    "for x2 in cat_column:\n",
    "    df_kaggle_clean_cat[x2] = df_kaggle_clean_cat[x2].astype('category')\n",
    "    df_kaggle_clean_cat[x2] = df_kaggle_clean_cat[x2].cat.codes"
   ]
  },
  {
   "cell_type": "markdown",
   "metadata": {},
   "source": [
    "A final quick check to make sure this worked is by checking how many unique entries there are in Q8 after encoding. We know there should be 12."
   ]
  },
  {
   "cell_type": "code",
   "execution_count": 19,
   "metadata": {},
   "outputs": [
    {
     "name": "stdout",
     "output_type": "stream",
     "text": [
      "12\n"
     ]
    }
   ],
   "source": [
    "print(len(df_kaggle_clean['Q8'].unique()))"
   ]
  },
  {
   "cell_type": "markdown",
   "metadata": {},
   "source": [
    "Next we will drop the rows that have \"I am a Student\" or the now encoded value of 7 in Q7 as these have salaries which may eskew the regression algorithms."
   ]
  },
  {
   "cell_type": "code",
   "execution_count": 20,
   "metadata": {},
   "outputs": [],
   "source": [
    "df_kaggle_clean_cat = df_kaggle_clean_cat[df_kaggle_clean_cat.Q7 != 7]"
   ]
  },
  {
   "cell_type": "code",
   "execution_count": 21,
   "metadata": {},
   "outputs": [
    {
     "data": {
      "text/html": [
       "<div>\n",
       "<style scoped>\n",
       "    .dataframe tbody tr th:only-of-type {\n",
       "        vertical-align: middle;\n",
       "    }\n",
       "\n",
       "    .dataframe tbody tr th {\n",
       "        vertical-align: top;\n",
       "    }\n",
       "\n",
       "    .dataframe thead th {\n",
       "        text-align: right;\n",
       "    }\n",
       "</style>\n",
       "<table border=\"1\" class=\"dataframe\">\n",
       "  <thead>\n",
       "    <tr style=\"text-align: right;\">\n",
       "      <th></th>\n",
       "      <th>Unnamed: 0</th>\n",
       "      <th>Time from Start to Finish (seconds)</th>\n",
       "      <th>Q1</th>\n",
       "      <th>Q2</th>\n",
       "      <th>Q3</th>\n",
       "      <th>Q4</th>\n",
       "      <th>Q5</th>\n",
       "      <th>Q6</th>\n",
       "      <th>Q7</th>\n",
       "      <th>Q8</th>\n",
       "      <th>...</th>\n",
       "      <th>Q49_Part_11</th>\n",
       "      <th>Q49_Part_12</th>\n",
       "      <th>Q50_Part_1</th>\n",
       "      <th>Q50_Part_2</th>\n",
       "      <th>Q50_Part_3</th>\n",
       "      <th>Q50_Part_4</th>\n",
       "      <th>Q50_Part_5</th>\n",
       "      <th>Q50_Part_6</th>\n",
       "      <th>Q50_Part_7</th>\n",
       "      <th>Q50_Part_8</th>\n",
       "    </tr>\n",
       "  </thead>\n",
       "  <tbody>\n",
       "    <tr>\n",
       "      <th>1</th>\n",
       "      <td>2</td>\n",
       "      <td>434</td>\n",
       "      <td>1</td>\n",
       "      <td>3</td>\n",
       "      <td>22</td>\n",
       "      <td>0</td>\n",
       "      <td>2</td>\n",
       "      <td>11</td>\n",
       "      <td>9</td>\n",
       "      <td>10</td>\n",
       "      <td>...</td>\n",
       "      <td>0</td>\n",
       "      <td>0</td>\n",
       "      <td>0</td>\n",
       "      <td>0</td>\n",
       "      <td>0</td>\n",
       "      <td>0</td>\n",
       "      <td>0</td>\n",
       "      <td>0</td>\n",
       "      <td>0</td>\n",
       "      <td>0</td>\n",
       "    </tr>\n",
       "    <tr>\n",
       "      <th>4</th>\n",
       "      <td>7</td>\n",
       "      <td>959</td>\n",
       "      <td>1</td>\n",
       "      <td>4</td>\n",
       "      <td>8</td>\n",
       "      <td>1</td>\n",
       "      <td>7</td>\n",
       "      <td>11</td>\n",
       "      <td>0</td>\n",
       "      <td>2</td>\n",
       "      <td>...</td>\n",
       "      <td>0</td>\n",
       "      <td>0</td>\n",
       "      <td>1</td>\n",
       "      <td>0</td>\n",
       "      <td>0</td>\n",
       "      <td>0</td>\n",
       "      <td>0</td>\n",
       "      <td>1</td>\n",
       "      <td>0</td>\n",
       "      <td>0</td>\n",
       "    </tr>\n",
       "    <tr>\n",
       "      <th>5</th>\n",
       "      <td>8</td>\n",
       "      <td>1758</td>\n",
       "      <td>1</td>\n",
       "      <td>0</td>\n",
       "      <td>21</td>\n",
       "      <td>3</td>\n",
       "      <td>7</td>\n",
       "      <td>11</td>\n",
       "      <td>16</td>\n",
       "      <td>0</td>\n",
       "      <td>...</td>\n",
       "      <td>0</td>\n",
       "      <td>0</td>\n",
       "      <td>0</td>\n",
       "      <td>0</td>\n",
       "      <td>0</td>\n",
       "      <td>0</td>\n",
       "      <td>1</td>\n",
       "      <td>0</td>\n",
       "      <td>0</td>\n",
       "      <td>0</td>\n",
       "    </tr>\n",
       "    <tr>\n",
       "      <th>6</th>\n",
       "      <td>10</td>\n",
       "      <td>751</td>\n",
       "      <td>1</td>\n",
       "      <td>3</td>\n",
       "      <td>19</td>\n",
       "      <td>3</td>\n",
       "      <td>2</td>\n",
       "      <td>17</td>\n",
       "      <td>15</td>\n",
       "      <td>7</td>\n",
       "      <td>...</td>\n",
       "      <td>0</td>\n",
       "      <td>0</td>\n",
       "      <td>0</td>\n",
       "      <td>1</td>\n",
       "      <td>0</td>\n",
       "      <td>1</td>\n",
       "      <td>0</td>\n",
       "      <td>0</td>\n",
       "      <td>0</td>\n",
       "      <td>0</td>\n",
       "    </tr>\n",
       "    <tr>\n",
       "      <th>7</th>\n",
       "      <td>12</td>\n",
       "      <td>823</td>\n",
       "      <td>1</td>\n",
       "      <td>5</td>\n",
       "      <td>56</td>\n",
       "      <td>3</td>\n",
       "      <td>2</td>\n",
       "      <td>7</td>\n",
       "      <td>16</td>\n",
       "      <td>10</td>\n",
       "      <td>...</td>\n",
       "      <td>0</td>\n",
       "      <td>0</td>\n",
       "      <td>0</td>\n",
       "      <td>1</td>\n",
       "      <td>0</td>\n",
       "      <td>0</td>\n",
       "      <td>1</td>\n",
       "      <td>0</td>\n",
       "      <td>0</td>\n",
       "      <td>0</td>\n",
       "    </tr>\n",
       "  </tbody>\n",
       "</table>\n",
       "<p>5 rows × 363 columns</p>\n",
       "</div>"
      ],
      "text/plain": [
       "   Unnamed: 0 Time from Start to Finish (seconds)  Q1  Q2  Q3  Q4  Q5  Q6  Q7  \\\n",
       "1           2                                 434   1   3  22   0   2  11   9   \n",
       "4           7                                 959   1   4   8   1   7  11   0   \n",
       "5           8                                1758   1   0  21   3   7  11  16   \n",
       "6          10                                 751   1   3  19   3   2  17  15   \n",
       "7          12                                 823   1   5  56   3   2   7  16   \n",
       "\n",
       "   Q8     ...     Q49_Part_11  Q49_Part_12  Q50_Part_1  Q50_Part_2  \\\n",
       "1  10     ...               0            0           0           0   \n",
       "4   2     ...               0            0           1           0   \n",
       "5   0     ...               0            0           0           0   \n",
       "6   7     ...               0            0           0           1   \n",
       "7  10     ...               0            0           0           1   \n",
       "\n",
       "   Q50_Part_3  Q50_Part_4  Q50_Part_5  Q50_Part_6  Q50_Part_7  Q50_Part_8  \n",
       "1           0           0           0           0           0           0  \n",
       "4           0           0           0           1           0           0  \n",
       "5           0           0           1           0           0           0  \n",
       "6           0           1           0           0           0           0  \n",
       "7           0           0           1           0           0           0  \n",
       "\n",
       "[5 rows x 363 columns]"
      ]
     },
     "execution_count": 21,
     "metadata": {},
     "output_type": "execute_result"
    }
   ],
   "source": [
    "df_kaggle_clean_cat.head()"
   ]
  },
  {
   "cell_type": "markdown",
   "metadata": {},
   "source": [
    "Next lets look at the following columns:'Q34_Part_1', 'Q34_Part_2', 'Q34_Part_3', 'Q34_Part_4', 'Q34_Part_5', 'Q34_Part_6', 'Q35_Part_1', 'Q35_Part_2', 'Q35_Part_3', 'Q35_Part_4', 'Q35_Part_5', 'Q35_Part_6'.\n",
    "\n",
    "These columns require the various parts to add up to 100%. To accomplish this while still holding the validity of the original data, lets fill in the null values in these columns with the mean of the remaining columns.\n",
    "\n",
    "We will also type cast to float first to allow for decimal place entries for the mean to be entered."
   ]
  },
  {
   "cell_type": "code",
   "execution_count": 22,
   "metadata": {},
   "outputs": [],
   "source": [
    "mean_column = ['Q34_Part_1', 'Q34_Part_2', 'Q34_Part_3', 'Q34_Part_4', 'Q34_Part_5', 'Q34_Part_6', 'Q35_Part_1', 'Q35_Part_2', 'Q35_Part_3', 'Q35_Part_4', 'Q35_Part_5', 'Q35_Part_6']\n",
    "\n",
    "for x2 in mean_column:\n",
    "    df_kaggle_clean_cat[x2] = df_kaggle_clean_cat[x2].astype('float')"
   ]
  },
  {
   "cell_type": "code",
   "execution_count": 23,
   "metadata": {},
   "outputs": [],
   "source": [
    "for x in mean_column:\n",
    "    df_kaggle_clean_cat[x].fillna(df_kaggle_clean_cat[x].mean(),inplace=True)"
   ]
  },
  {
   "cell_type": "markdown",
   "metadata": {},
   "source": [
    "Note some of the entries in Q34 parts 1 to 6 do not sum up to 100 as they should. This represents an error on the users end for entering in data. The above code carries on without correcting this and cauclates the mean to replace the NaN values. As such the sum of the means from the various parts of Q34 will also not equal 100. Since I want to keep the data as representative as possible I will not correct these means to equal 100. This is not the case for Q35 where the sum of the means for parts 1 to 6 equals 100 as the respondants answers all added up to 100 as intended."
   ]
  },
  {
   "cell_type": "markdown",
   "metadata": {},
   "source": [
    "Next we will drop the rows in which the salary is less than $5,000. Looking through the data it is apparent there are some respondents that have selected Research Assistant (or other terms) and report extremly small salaries. This will likely cause an imbalance in the training set and as such should be removed.\n",
    "\n",
    "For this we will create a new column called Q9_Copy that will be dropped later. This ensures that we don't accidently make any edits to the target variable of Q9."
   ]
  },
  {
   "cell_type": "code",
   "execution_count": 24,
   "metadata": {},
   "outputs": [],
   "source": [
    "df_Q9_duplicate = df_kaggle_clean_cat['Q9'].copy()\n",
    "df_Q9_duplicate = df_Q9_duplicate.astype('int')"
   ]
  },
  {
   "cell_type": "code",
   "execution_count": 25,
   "metadata": {},
   "outputs": [],
   "source": [
    "df_kaggle_clean_cat['Q9_Copy'] = df_Q9_duplicate"
   ]
  },
  {
   "cell_type": "code",
   "execution_count": 26,
   "metadata": {},
   "outputs": [],
   "source": [
    "def drop_salary_less_than_5000(response): # Drop Salary Less than 5000 function.\n",
    "    if response < 5000:\n",
    "        response = 123456789 #replace with a easy to find number to be removed in the next step\n",
    "    return (response)\n",
    "\n",
    "df_kaggle_clean_cat[\"Q9_Copy\"] = df_kaggle_clean_cat[\"Q9_Copy\"].apply(lambda x: drop_salary_less_than_5000(x))"
   ]
  },
  {
   "cell_type": "code",
   "execution_count": 27,
   "metadata": {},
   "outputs": [],
   "source": [
    "df_kaggle_clean_cat = df_kaggle_clean_cat[df_kaggle_clean_cat.Q9_Copy != 123456789] #Removal of the 123456789 unqiue identifier which holds salaries reproted less than 5000"
   ]
  },
  {
   "cell_type": "markdown",
   "metadata": {},
   "source": [
    "This completes our data cleaning portion of the assignment. Lets view the final dataframe df_kaggle_clean_cat."
   ]
  },
  {
   "cell_type": "code",
   "execution_count": 28,
   "metadata": {},
   "outputs": [
    {
     "data": {
      "text/html": [
       "<div>\n",
       "<style scoped>\n",
       "    .dataframe tbody tr th:only-of-type {\n",
       "        vertical-align: middle;\n",
       "    }\n",
       "\n",
       "    .dataframe tbody tr th {\n",
       "        vertical-align: top;\n",
       "    }\n",
       "\n",
       "    .dataframe thead th {\n",
       "        text-align: right;\n",
       "    }\n",
       "</style>\n",
       "<table border=\"1\" class=\"dataframe\">\n",
       "  <thead>\n",
       "    <tr style=\"text-align: right;\">\n",
       "      <th></th>\n",
       "      <th>Unnamed: 0</th>\n",
       "      <th>Time from Start to Finish (seconds)</th>\n",
       "      <th>Q1</th>\n",
       "      <th>Q2</th>\n",
       "      <th>Q3</th>\n",
       "      <th>Q4</th>\n",
       "      <th>Q5</th>\n",
       "      <th>Q6</th>\n",
       "      <th>Q7</th>\n",
       "      <th>Q8</th>\n",
       "      <th>...</th>\n",
       "      <th>Q49_Part_12</th>\n",
       "      <th>Q50_Part_1</th>\n",
       "      <th>Q50_Part_2</th>\n",
       "      <th>Q50_Part_3</th>\n",
       "      <th>Q50_Part_4</th>\n",
       "      <th>Q50_Part_5</th>\n",
       "      <th>Q50_Part_6</th>\n",
       "      <th>Q50_Part_7</th>\n",
       "      <th>Q50_Part_8</th>\n",
       "      <th>Q9_Copy</th>\n",
       "    </tr>\n",
       "  </thead>\n",
       "  <tbody>\n",
       "    <tr>\n",
       "      <th>1</th>\n",
       "      <td>2</td>\n",
       "      <td>434</td>\n",
       "      <td>1</td>\n",
       "      <td>3</td>\n",
       "      <td>22</td>\n",
       "      <td>0</td>\n",
       "      <td>2</td>\n",
       "      <td>11</td>\n",
       "      <td>9</td>\n",
       "      <td>10</td>\n",
       "      <td>...</td>\n",
       "      <td>0</td>\n",
       "      <td>0</td>\n",
       "      <td>0</td>\n",
       "      <td>0</td>\n",
       "      <td>0</td>\n",
       "      <td>0</td>\n",
       "      <td>0</td>\n",
       "      <td>0</td>\n",
       "      <td>0</td>\n",
       "      <td>18668</td>\n",
       "    </tr>\n",
       "    <tr>\n",
       "      <th>4</th>\n",
       "      <td>7</td>\n",
       "      <td>959</td>\n",
       "      <td>1</td>\n",
       "      <td>4</td>\n",
       "      <td>8</td>\n",
       "      <td>1</td>\n",
       "      <td>7</td>\n",
       "      <td>11</td>\n",
       "      <td>0</td>\n",
       "      <td>2</td>\n",
       "      <td>...</td>\n",
       "      <td>0</td>\n",
       "      <td>1</td>\n",
       "      <td>0</td>\n",
       "      <td>0</td>\n",
       "      <td>0</td>\n",
       "      <td>0</td>\n",
       "      <td>1</td>\n",
       "      <td>0</td>\n",
       "      <td>0</td>\n",
       "      <td>11957</td>\n",
       "    </tr>\n",
       "    <tr>\n",
       "      <th>6</th>\n",
       "      <td>10</td>\n",
       "      <td>751</td>\n",
       "      <td>1</td>\n",
       "      <td>3</td>\n",
       "      <td>19</td>\n",
       "      <td>3</td>\n",
       "      <td>2</td>\n",
       "      <td>17</td>\n",
       "      <td>15</td>\n",
       "      <td>7</td>\n",
       "      <td>...</td>\n",
       "      <td>0</td>\n",
       "      <td>0</td>\n",
       "      <td>1</td>\n",
       "      <td>0</td>\n",
       "      <td>1</td>\n",
       "      <td>0</td>\n",
       "      <td>0</td>\n",
       "      <td>0</td>\n",
       "      <td>0</td>\n",
       "      <td>21152</td>\n",
       "    </tr>\n",
       "    <tr>\n",
       "      <th>7</th>\n",
       "      <td>12</td>\n",
       "      <td>823</td>\n",
       "      <td>1</td>\n",
       "      <td>5</td>\n",
       "      <td>56</td>\n",
       "      <td>3</td>\n",
       "      <td>2</td>\n",
       "      <td>7</td>\n",
       "      <td>16</td>\n",
       "      <td>10</td>\n",
       "      <td>...</td>\n",
       "      <td>0</td>\n",
       "      <td>0</td>\n",
       "      <td>1</td>\n",
       "      <td>0</td>\n",
       "      <td>0</td>\n",
       "      <td>1</td>\n",
       "      <td>0</td>\n",
       "      <td>0</td>\n",
       "      <td>0</td>\n",
       "      <td>132826</td>\n",
       "    </tr>\n",
       "    <tr>\n",
       "      <th>9</th>\n",
       "      <td>14</td>\n",
       "      <td>1917</td>\n",
       "      <td>1</td>\n",
       "      <td>2</td>\n",
       "      <td>56</td>\n",
       "      <td>0</td>\n",
       "      <td>8</td>\n",
       "      <td>14</td>\n",
       "      <td>0</td>\n",
       "      <td>1</td>\n",
       "      <td>...</td>\n",
       "      <td>0</td>\n",
       "      <td>0</td>\n",
       "      <td>1</td>\n",
       "      <td>0</td>\n",
       "      <td>0</td>\n",
       "      <td>0</td>\n",
       "      <td>0</td>\n",
       "      <td>0</td>\n",
       "      <td>0</td>\n",
       "      <td>35826</td>\n",
       "    </tr>\n",
       "  </tbody>\n",
       "</table>\n",
       "<p>5 rows × 364 columns</p>\n",
       "</div>"
      ],
      "text/plain": [
       "   Unnamed: 0 Time from Start to Finish (seconds)  Q1  Q2  Q3  Q4  Q5  Q6  Q7  \\\n",
       "1           2                                 434   1   3  22   0   2  11   9   \n",
       "4           7                                 959   1   4   8   1   7  11   0   \n",
       "6          10                                 751   1   3  19   3   2  17  15   \n",
       "7          12                                 823   1   5  56   3   2   7  16   \n",
       "9          14                                1917   1   2  56   0   8  14   0   \n",
       "\n",
       "   Q8   ...    Q49_Part_12  Q50_Part_1  Q50_Part_2  Q50_Part_3  Q50_Part_4  \\\n",
       "1  10   ...              0           0           0           0           0   \n",
       "4   2   ...              0           1           0           0           0   \n",
       "6   7   ...              0           0           1           0           1   \n",
       "7  10   ...              0           0           1           0           0   \n",
       "9   1   ...              0           0           1           0           0   \n",
       "\n",
       "   Q50_Part_5  Q50_Part_6  Q50_Part_7  Q50_Part_8  Q9_Copy  \n",
       "1           0           0           0           0    18668  \n",
       "4           0           1           0           0    11957  \n",
       "6           0           0           0           0    21152  \n",
       "7           1           0           0           0   132826  \n",
       "9           0           0           0           0    35826  \n",
       "\n",
       "[5 rows x 364 columns]"
      ]
     },
     "execution_count": 28,
     "metadata": {},
     "output_type": "execute_result"
    }
   ],
   "source": [
    "df_kaggle_clean_cat.head()"
   ]
  },
  {
   "cell_type": "markdown",
   "metadata": {},
   "source": [
    "Lets take a look at the final number of rows after the data cleaning process."
   ]
  },
  {
   "cell_type": "code",
   "execution_count": 29,
   "metadata": {},
   "outputs": [
    {
     "name": "stdout",
     "output_type": "stream",
     "text": [
      "11921\n"
     ]
    }
   ],
   "source": [
    "print (len(df_kaggle_clean_cat))"
   ]
  },
  {
   "cell_type": "markdown",
   "metadata": {},
   "source": [
    "One final step lets convert all Data Types to integer, as this will be useful for the subsquent sections."
   ]
  },
  {
   "cell_type": "code",
   "execution_count": 30,
   "metadata": {},
   "outputs": [],
   "source": [
    "df_kaggle_clean_cat = df_kaggle_clean_cat.astype('int')"
   ]
  },
  {
   "cell_type": "markdown",
   "metadata": {},
   "source": [
    "### Exploratory Analysis\n",
    "\n",
    "Lets take the salaries and write a function that lumps it back into ranges and counts them. Lets go with 10 salary ranges. This will be useful for our first graph to get a better understanding of the number of salaries that fall within specific ranges.\n",
    "\n",
    "To do this lets create a new datafram called df_Q9_duplicate which will be set to the values in Q9."
   ]
  },
  {
   "cell_type": "code",
   "execution_count": 31,
   "metadata": {},
   "outputs": [],
   "source": [
    "df_Q9_duplicate = df_kaggle_clean_cat['Q9'].copy()\n",
    "df_Q9_duplicate = df_Q9_duplicate.astype('int')"
   ]
  },
  {
   "cell_type": "code",
   "execution_count": 32,
   "metadata": {},
   "outputs": [
    {
     "data": {
      "text/plain": [
       "1     18668\n",
       "4     11957\n",
       "6     21152\n",
       "7    132826\n",
       "9     35826\n",
       "Name: Q9, dtype: int32"
      ]
     },
     "execution_count": 32,
     "metadata": {},
     "output_type": "execute_result"
    }
   ],
   "source": [
    "df_Q9_duplicate.head()"
   ]
  },
  {
   "cell_type": "markdown",
   "metadata": {},
   "source": [
    "Next lets setup a function to count whether or not the salary in each row of the dataframe falls in a specified range. The ranges used can be seen below."
   ]
  },
  {
   "cell_type": "code",
   "execution_count": 33,
   "metadata": {},
   "outputs": [],
   "source": [
    "def salary_bins(response): # Tweet cleaning function   \n",
    "    if response <= 50000:\n",
    "        salary_ranges[0] = salary_ranges[0] + 1\n",
    "    elif response in range (50000,100000):\n",
    "        salary_ranges[1] = salary_ranges[1] + 1\n",
    "    elif response in range (100000,150000):\n",
    "        salary_ranges[2] = salary_ranges[2] + 1\n",
    "    elif response in range (150000,200000):\n",
    "        salary_ranges[3] = salary_ranges[3] + 1\n",
    "    elif response in range (200000,250000):\n",
    "        salary_ranges[4] = salary_ranges[4] + 1\n",
    "    elif response in range (250000,300000):\n",
    "        salary_ranges[5] = salary_ranges[5] + 1\n",
    "    elif response in range (300000,350000):\n",
    "        salary_ranges[6] = salary_ranges[6] + 1\n",
    "    elif response in range (350000,400000):\n",
    "        salary_ranges[7] = salary_ranges[7] + 1\n",
    "    elif response in range (400000,450000):\n",
    "        salary_ranges[8] = salary_ranges[8] + 1\n",
    "    elif response in range (450000,500000):\n",
    "        salary_ranges[9] = salary_ranges[9] + 1\n",
    "    elif response >= 500000:\n",
    "        salary_ranges[10] = salary_ranges[10] + 1\n",
    "    else:\n",
    "        print (response)\n",
    "        \n",
    "        salary_ranges[11] = salary_ranges[11] + 1\n",
    "    return (response)\n",
    "\n",
    "salary_ranges = [0]*11\n",
    "\n",
    "# Setup dummy variable \"yy\" to just run the function\n",
    "yy = df_Q9_duplicate.apply(lambda x: salary_bins(x))"
   ]
  },
  {
   "cell_type": "code",
   "execution_count": 34,
   "metadata": {},
   "outputs": [
    {
     "name": "stdout",
     "output_type": "stream",
     "text": [
      "[6385, 3347, 1362, 453, 170, 75, 27, 22, 17, 6, 57]\n"
     ]
    }
   ],
   "source": [
    "print (salary_ranges)"
   ]
  },
  {
   "cell_type": "markdown",
   "metadata": {},
   "source": [
    "A quick sanity check, the sum of the above number of salaries in each of the ranges should be equal to the 11,921 the number of rows identified in the dataframe in the previous section."
   ]
  },
  {
   "cell_type": "code",
   "execution_count": 35,
   "metadata": {},
   "outputs": [
    {
     "name": "stdout",
     "output_type": "stream",
     "text": [
      "11921\n"
     ]
    }
   ],
   "source": [
    "print (sum (salary_ranges))"
   ]
  },
  {
   "cell_type": "markdown",
   "metadata": {},
   "source": [
    "Lets setup a new dataframe \"df_salary_range\" for plotting purposes with the labelled ranges of the salary."
   ]
  },
  {
   "cell_type": "code",
   "execution_count": 36,
   "metadata": {},
   "outputs": [],
   "source": [
    "df_salary_range= pd.DataFrame(salary_ranges, columns=['Salary Range Count'])\n",
    "df_salary_range[\"Salary Ranges\"] = (\"<50k\",\"50k-100k\", \"100k-150k\", \"150k-200k\", \"200k-250k\", \"250k-300k\", \"300k-350k\", \"350k-400k\", \"400k-450k\", \"450k-500k\", \">=500k\")"
   ]
  },
  {
   "cell_type": "code",
   "execution_count": 37,
   "metadata": {},
   "outputs": [
    {
     "name": "stdout",
     "output_type": "stream",
     "text": [
      "Current size:\n"
     ]
    },
    {
     "data": {
      "text/plain": [
       "(None, [6.0, 4.0])"
      ]
     },
     "execution_count": 37,
     "metadata": {},
     "output_type": "execute_result"
    }
   ],
   "source": [
    "from matplotlib.pyplot import figure\n",
    "fig_size = plt.rcParams[\"figure.figsize\"]\n",
    "print (\"Current size:\"), fig_size"
   ]
  },
  {
   "cell_type": "code",
   "execution_count": 38,
   "metadata": {},
   "outputs": [
    {
     "name": "stdout",
     "output_type": "stream",
     "text": [
      "Current size:\n"
     ]
    },
    {
     "data": {
      "text/plain": [
       "(None, [12, 9])"
      ]
     },
     "execution_count": 38,
     "metadata": {},
     "output_type": "execute_result"
    }
   ],
   "source": [
    "fig_size[0] = 12\n",
    "fig_size[1] = 9\n",
    "print (\"Current size:\"), fig_size"
   ]
  },
  {
   "cell_type": "markdown",
   "metadata": {},
   "source": [
    "The first visual will be a barplot showing the number of salaries in each of the identified ranges above."
   ]
  },
  {
   "cell_type": "code",
   "execution_count": 39,
   "metadata": {},
   "outputs": [
    {
     "data": {
      "text/plain": [
       "Text(0.5, 1.0, 'Count of Reported Salary Ranges')"
      ]
     },
     "execution_count": 39,
     "metadata": {},
     "output_type": "execute_result"
    },
    {
     "data": {
      "image/png": "[encoded data removed]",
      "text/plain": [
       "<Figure size 864x648 with 1 Axes>"
      ]
     },
     "metadata": {
      "needs_background": "light"
     },
     "output_type": "display_data"
    }
   ],
   "source": [
    "sns.barplot(x='Salary Ranges',y='Salary Range Count',data=df_salary_range).set_title('Count of Reported Salary Ranges')"
   ]
  },
  {
   "cell_type": "markdown",
   "metadata": {},
   "source": [
    "From the plot is clear that there is signficantly more salaries reported in the less than 50,000 range then any other category. In fact 53.56% of the reported salaries fall within this range. Thus it is reasonable to assume that there is a bias in the dataset toward a salary less than $50,000. This may reflected in the model development.\n",
    "\n",
    "We can further see this by plotting a distplot of the salaries as function of the number of occurances. This should mimick the salary range barplot above."
   ]
  },
  {
   "cell_type": "code",
   "execution_count": 40,
   "metadata": {},
   "outputs": [
    {
     "name": "stderr",
     "output_type": "stream",
     "text": [
      "C:\\Users\\btarras\\AppData\\Local\\Continuum\\anaconda3\\lib\\site-packages\\scipy\\stats\\stats.py:1713: FutureWarning: Using a non-tuple sequence for multidimensional indexing is deprecated; use `arr[tuple(seq)]` instead of `arr[seq]`. In the future this will be interpreted as an array index, `arr[np.array(seq)]`, which will result either in an error or a different result.\n",
      "  return np.add.reduce(sorted[indexer] * weights, axis=axis) / sumval\n"
     ]
    },
    {
     "data": {
      "text/plain": [
       "Text(0.5, 1.0, 'Distplot of Reported Salary')"
      ]
     },
     "execution_count": 40,
     "metadata": {},
     "output_type": "execute_result"
    },
    {
     "data": {
      "image/png": "[encoded data removed]",
      "text/plain": [
       "<Figure size 864x648 with 1 Axes>"
      ]
     },
     "metadata": {
      "needs_background": "light"
     },
     "output_type": "display_data"
    }
   ],
   "source": [
    "sns.distplot(df_kaggle_clean_cat['Q9_Copy'], kde=False);\n",
    "plt.xlabel(\"Reported Salary\")\n",
    "plt.ylabel(\"Number of Occurances\")\n",
    "plt.title(\"Distplot of Reported Salary\") # You can comment this line out if you don't need title"
   ]
  },
  {
   "cell_type": "markdown",
   "metadata": {},
   "source": [
    "The next visualization that we can use to help understand the dataset is a salary as a function of programming language used as in Q17 of the survey. It is ambiguous in the general data science community of whether or not learing or knowin a specific language can be more beneficial in terms of earning potential across an data scientists career. This graph will give a better understanding of whether or not this is the true or not."
   ]
  },
  {
   "cell_type": "code",
   "execution_count": 41,
   "metadata": {},
   "outputs": [
    {
     "data": {
      "text/plain": [
       "Text(0.5, 1.0, 'Salary as a Function of Programming Language')"
      ]
     },
     "execution_count": 41,
     "metadata": {},
     "output_type": "execute_result"
    },
    {
     "data": {
      "image/png": "[encoded data removed]",
      "text/plain": [
       "<Figure size 864x648 with 1 Axes>"
      ]
     },
     "metadata": {
      "needs_background": "light"
     },
     "output_type": "display_data"
    }
   ],
   "source": [
    "fig = sns.barplot(x = 'Q17', y = 'Q9_Copy', data = df_kaggle_clean_cat)\n",
    "plt.xlabel(\"Programming Language\")\n",
    "plt.ylabel(\"Reported Salary\")\n",
    "plt.title(\"Salary as a Function of Programming Language\") # You can comment this line out if you don't need title"
   ]
  },
  {
   "cell_type": "markdown",
   "metadata": {},
   "source": [
    "As can be seen above there is not significant difference in the reproted salary as a function of the programming language. That is to say it does not appear that knowing a specifc programming language would result in a greater salary. Further since all programming languages appear to be represented almost equally (with the exception of programming language 9 and 5) it is unlikely that there is a strong correlation between this input feature and the target feature (reported salary).\n",
    "\n",
    "The next plot that we will be examining to better understand the data, is salary as a function of sex. This will be accomplished through the use of a barplot."
   ]
  },
  {
   "cell_type": "code",
   "execution_count": 42,
   "metadata": {},
   "outputs": [
    {
     "data": {
      "text/plain": [
       "Text(0.5, 1.0, 'Salary as a Function of Sex')"
      ]
     },
     "execution_count": 42,
     "metadata": {},
     "output_type": "execute_result"
    },
    {
     "data": {
      "image/png": "[encoded data removed]",
      "text/plain": [
       "<Figure size 864x648 with 1 Axes>"
      ]
     },
     "metadata": {
      "needs_background": "light"
     },
     "output_type": "display_data"
    }
   ],
   "source": [
    "sns.barplot(x = 'Q1', y = 'Q9_Copy', data = df_kaggle_clean_cat)\n",
    "plt.xlabel(\"Sex\")\n",
    "plt.ylabel(\"Reported Salary\")\n",
    "plt.title(\"Salary as a Function of Sex\") # You can comment this line out if you don't need title"
   ]
  },
  {
   "cell_type": "markdown",
   "metadata": {},
   "source": [
    "From the visual representation above it is clear that there is a slightly higher reported salary for males (1) than females (0) based on the reproted salaries in the survey. This is interesting, but also important to note that te difference is not substantial and as such will likely only have a small imapct on the model development and feature determined dependicies. \n",
    "\n",
    "Sex entries 2 and 3 are values for indiviudals who have reported prefer not to describe or other. These represent 130 (prefer not to say) and 53 (Prefer to self-describe) entries. Thus on a dataset containing 11,921 entries these two represent only 1.09% (prefer not to say) and 0.44% (prefer to self-desribe). All of this is to say that the salaries shown above for these two cateogry entries is likely distorted and not representative of the overall data. These are effectively outlier values that could be dropped from the dataset, but will be kept in for this analysis."
   ]
  },
  {
   "cell_type": "markdown",
   "metadata": {},
   "source": [
    "The final visualization that will be shown in this assignment is a joint plot showing the reported salary (in Q9_Copy) plotted against the Country of Residence (in Q3)."
   ]
  },
  {
   "cell_type": "code",
   "execution_count": 43,
   "metadata": {},
   "outputs": [
    {
     "data": {
      "text/plain": [
       "Text(0.5, 1.0, 'Joint Plot - Country of Residence and Reported Salary')"
      ]
     },
     "execution_count": 43,
     "metadata": {},
     "output_type": "execute_result"
    },
    {
     "data": {
      "image/png": "[encoded data removed]",
      "text/plain": [
       "<Figure size 432x432 with 3 Axes>"
      ]
     },
     "metadata": {
      "needs_background": "light"
     },
     "output_type": "display_data"
    }
   ],
   "source": [
    "sns.jointplot(x='Q9_Copy', y='Q3', data=df_kaggle_clean_cat, kind='kde', cmap='jet', n_levels=60)\n",
    "plt.ylabel(\"Country of Residence\", labelpad = 360)\n",
    "plt.title(\"Joint Plot - Country of Residence and Reported Salary\", pad=50) # You can comment this line out if you don't need title"
   ]
  },
  {
   "cell_type": "markdown",
   "metadata": {},
   "source": [
    "As can be seen there is a high concentration of reproted salaries in the 50,000-75,000 range for Country of Residences from 55-60. Further, the highest concentration of salaries for countries 18-25 fall within the lower range of the salaries reported as can be seen by the dark red. These concentrated values suggest that there is a high correlation betwee the Country of Residence and the Reported Salary. It is expected that by running the .corr function a high correlation number would be recieved for this input feature. In fact lets run this below."
   ]
  },
  {
   "cell_type": "code",
   "execution_count": 44,
   "metadata": {},
   "outputs": [
    {
     "data": {
      "text/plain": [
       "0.26482293840838333"
      ]
     },
     "execution_count": 44,
     "metadata": {},
     "output_type": "execute_result"
    }
   ],
   "source": [
    "df_kaggle_clean_cat['Q9_Copy'].corr(df_kaggle_clean_cat['Q3'])"
   ]
  },
  {
   "cell_type": "markdown",
   "metadata": {},
   "source": [
    "As can be seen the correlation number is quite high at 0.265. As we will see below this is actually one of the larger correlated input features in the dataset.\n",
    "\n",
    "To check the correlation for all inputs and targets to each other, lets create a dataframe called \"df_correlation_matrix\"."
   ]
  },
  {
   "cell_type": "code",
   "execution_count": 45,
   "metadata": {},
   "outputs": [],
   "source": [
    "df_correlation_matrix = pd.DataFrame(df_kaggle_clean_cat.corr(), columns=[\"Input Feature\",\"Q9 Correlation\"])"
   ]
  },
  {
   "cell_type": "code",
   "execution_count": 46,
   "metadata": {},
   "outputs": [],
   "source": [
    "df_correlation_matrix = df_kaggle_clean_cat.corr()\n",
    "df_correlation_matrix = df_correlation_matrix.drop(['Q9_Copy'])\n",
    "df_correlation_matrix = df_correlation_matrix.drop(['Q9'])\n",
    "df_correlation_matrix = df_correlation_matrix.drop(['Unnamed: 0'])\n",
    "df_correlation_matrix = df_correlation_matrix.drop(['Unnamed: 0'], axis = 1)\n",
    "df_correlation_matrix = df_correlation_matrix.drop(['Q9_Copy'], axis = 1)"
   ]
  },
  {
   "cell_type": "code",
   "execution_count": 47,
   "metadata": {},
   "outputs": [
    {
     "data": {
      "text/html": [
       "<div>\n",
       "<style scoped>\n",
       "    .dataframe tbody tr th:only-of-type {\n",
       "        vertical-align: middle;\n",
       "    }\n",
       "\n",
       "    .dataframe tbody tr th {\n",
       "        vertical-align: top;\n",
       "    }\n",
       "\n",
       "    .dataframe thead th {\n",
       "        text-align: right;\n",
       "    }\n",
       "</style>\n",
       "<table border=\"1\" class=\"dataframe\">\n",
       "  <thead>\n",
       "    <tr style=\"text-align: right;\">\n",
       "      <th></th>\n",
       "      <th>Time from Start to Finish (seconds)</th>\n",
       "      <th>Q1</th>\n",
       "      <th>Q2</th>\n",
       "      <th>Q3</th>\n",
       "      <th>Q4</th>\n",
       "      <th>Q5</th>\n",
       "      <th>Q6</th>\n",
       "      <th>Q7</th>\n",
       "      <th>Q8</th>\n",
       "      <th>Q9</th>\n",
       "      <th>...</th>\n",
       "      <th>Q49_Part_11</th>\n",
       "      <th>Q49_Part_12</th>\n",
       "      <th>Q50_Part_1</th>\n",
       "      <th>Q50_Part_2</th>\n",
       "      <th>Q50_Part_3</th>\n",
       "      <th>Q50_Part_4</th>\n",
       "      <th>Q50_Part_5</th>\n",
       "      <th>Q50_Part_6</th>\n",
       "      <th>Q50_Part_7</th>\n",
       "      <th>Q50_Part_8</th>\n",
       "    </tr>\n",
       "  </thead>\n",
       "  <tbody>\n",
       "    <tr>\n",
       "      <th>Time from Start to Finish (seconds)</th>\n",
       "      <td>1.000000</td>\n",
       "      <td>-0.008980</td>\n",
       "      <td>-0.008262</td>\n",
       "      <td>-0.020980</td>\n",
       "      <td>0.000404</td>\n",
       "      <td>0.006612</td>\n",
       "      <td>0.002641</td>\n",
       "      <td>0.009249</td>\n",
       "      <td>-0.023153</td>\n",
       "      <td>-0.017425</td>\n",
       "      <td>...</td>\n",
       "      <td>-0.000065</td>\n",
       "      <td>0.008074</td>\n",
       "      <td>-0.006997</td>\n",
       "      <td>-0.021896</td>\n",
       "      <td>-0.002858</td>\n",
       "      <td>-0.011178</td>\n",
       "      <td>-0.029807</td>\n",
       "      <td>-0.011152</td>\n",
       "      <td>-0.005564</td>\n",
       "      <td>-0.024829</td>\n",
       "    </tr>\n",
       "    <tr>\n",
       "      <th>Q1</th>\n",
       "      <td>-0.008980</td>\n",
       "      <td>1.000000</td>\n",
       "      <td>0.079760</td>\n",
       "      <td>-0.072460</td>\n",
       "      <td>-0.008116</td>\n",
       "      <td>-0.051276</td>\n",
       "      <td>0.017042</td>\n",
       "      <td>0.007061</td>\n",
       "      <td>0.071665</td>\n",
       "      <td>0.057728</td>\n",
       "      <td>...</td>\n",
       "      <td>-0.003339</td>\n",
       "      <td>-0.001314</td>\n",
       "      <td>0.036039</td>\n",
       "      <td>0.028156</td>\n",
       "      <td>0.004190</td>\n",
       "      <td>0.015811</td>\n",
       "      <td>0.027667</td>\n",
       "      <td>-0.011998</td>\n",
       "      <td>-0.010334</td>\n",
       "      <td>-0.025822</td>\n",
       "    </tr>\n",
       "    <tr>\n",
       "      <th>Q2</th>\n",
       "      <td>-0.008262</td>\n",
       "      <td>0.079760</td>\n",
       "      <td>1.000000</td>\n",
       "      <td>0.073562</td>\n",
       "      <td>0.057779</td>\n",
       "      <td>0.062773</td>\n",
       "      <td>-0.092999</td>\n",
       "      <td>-0.012625</td>\n",
       "      <td>0.270826</td>\n",
       "      <td>0.348161</td>\n",
       "      <td>...</td>\n",
       "      <td>0.035395</td>\n",
       "      <td>0.042525</td>\n",
       "      <td>0.000136</td>\n",
       "      <td>0.001358</td>\n",
       "      <td>-0.016560</td>\n",
       "      <td>-0.004578</td>\n",
       "      <td>0.005215</td>\n",
       "      <td>-0.008270</td>\n",
       "      <td>0.074967</td>\n",
       "      <td>0.025828</td>\n",
       "    </tr>\n",
       "    <tr>\n",
       "      <th>Q3</th>\n",
       "      <td>-0.020980</td>\n",
       "      <td>-0.072460</td>\n",
       "      <td>0.073562</td>\n",
       "      <td>1.000000</td>\n",
       "      <td>0.006992</td>\n",
       "      <td>0.106235</td>\n",
       "      <td>-0.034252</td>\n",
       "      <td>0.060457</td>\n",
       "      <td>-0.016215</td>\n",
       "      <td>0.264823</td>\n",
       "      <td>...</td>\n",
       "      <td>-0.004145</td>\n",
       "      <td>0.027209</td>\n",
       "      <td>-0.017489</td>\n",
       "      <td>0.043223</td>\n",
       "      <td>-0.016324</td>\n",
       "      <td>-0.005598</td>\n",
       "      <td>0.031605</td>\n",
       "      <td>0.002191</td>\n",
       "      <td>0.036808</td>\n",
       "      <td>0.041251</td>\n",
       "    </tr>\n",
       "    <tr>\n",
       "      <th>Q4</th>\n",
       "      <td>0.000404</td>\n",
       "      <td>-0.008116</td>\n",
       "      <td>0.057779</td>\n",
       "      <td>0.006992</td>\n",
       "      <td>1.000000</td>\n",
       "      <td>-0.013462</td>\n",
       "      <td>-0.057425</td>\n",
       "      <td>0.040867</td>\n",
       "      <td>0.023074</td>\n",
       "      <td>0.008350</td>\n",
       "      <td>...</td>\n",
       "      <td>-0.003443</td>\n",
       "      <td>-0.004444</td>\n",
       "      <td>0.002548</td>\n",
       "      <td>-0.011666</td>\n",
       "      <td>0.001146</td>\n",
       "      <td>0.009331</td>\n",
       "      <td>-0.011444</td>\n",
       "      <td>0.003084</td>\n",
       "      <td>0.018680</td>\n",
       "      <td>-0.001768</td>\n",
       "    </tr>\n",
       "  </tbody>\n",
       "</table>\n",
       "<p>5 rows × 362 columns</p>\n",
       "</div>"
      ],
      "text/plain": [
       "                                     Time from Start to Finish (seconds)  \\\n",
       "Time from Start to Finish (seconds)                             1.000000   \n",
       "Q1                                                             -0.008980   \n",
       "Q2                                                             -0.008262   \n",
       "Q3                                                             -0.020980   \n",
       "Q4                                                              0.000404   \n",
       "\n",
       "                                           Q1        Q2        Q3        Q4  \\\n",
       "Time from Start to Finish (seconds) -0.008980 -0.008262 -0.020980  0.000404   \n",
       "Q1                                   1.000000  0.079760 -0.072460 -0.008116   \n",
       "Q2                                   0.079760  1.000000  0.073562  0.057779   \n",
       "Q3                                  -0.072460  0.073562  1.000000  0.006992   \n",
       "Q4                                  -0.008116  0.057779  0.006992  1.000000   \n",
       "\n",
       "                                           Q5        Q6        Q7        Q8  \\\n",
       "Time from Start to Finish (seconds)  0.006612  0.002641  0.009249 -0.023153   \n",
       "Q1                                  -0.051276  0.017042  0.007061  0.071665   \n",
       "Q2                                   0.062773 -0.092999 -0.012625  0.270826   \n",
       "Q3                                   0.106235 -0.034252  0.060457 -0.016215   \n",
       "Q4                                  -0.013462 -0.057425  0.040867  0.023074   \n",
       "\n",
       "                                           Q9     ...      Q49_Part_11  \\\n",
       "Time from Start to Finish (seconds) -0.017425     ...        -0.000065   \n",
       "Q1                                   0.057728     ...        -0.003339   \n",
       "Q2                                   0.348161     ...         0.035395   \n",
       "Q3                                   0.264823     ...        -0.004145   \n",
       "Q4                                   0.008350     ...        -0.003443   \n",
       "\n",
       "                                     Q49_Part_12  Q50_Part_1  Q50_Part_2  \\\n",
       "Time from Start to Finish (seconds)     0.008074   -0.006997   -0.021896   \n",
       "Q1                                     -0.001314    0.036039    0.028156   \n",
       "Q2                                      0.042525    0.000136    0.001358   \n",
       "Q3                                      0.027209   -0.017489    0.043223   \n",
       "Q4                                     -0.004444    0.002548   -0.011666   \n",
       "\n",
       "                                     Q50_Part_3  Q50_Part_4  Q50_Part_5  \\\n",
       "Time from Start to Finish (seconds)   -0.002858   -0.011178   -0.029807   \n",
       "Q1                                     0.004190    0.015811    0.027667   \n",
       "Q2                                    -0.016560   -0.004578    0.005215   \n",
       "Q3                                    -0.016324   -0.005598    0.031605   \n",
       "Q4                                     0.001146    0.009331   -0.011444   \n",
       "\n",
       "                                     Q50_Part_6  Q50_Part_7  Q50_Part_8  \n",
       "Time from Start to Finish (seconds)   -0.011152   -0.005564   -0.024829  \n",
       "Q1                                    -0.011998   -0.010334   -0.025822  \n",
       "Q2                                    -0.008270    0.074967    0.025828  \n",
       "Q3                                     0.002191    0.036808    0.041251  \n",
       "Q4                                     0.003084    0.018680   -0.001768  \n",
       "\n",
       "[5 rows x 362 columns]"
      ]
     },
     "execution_count": 47,
     "metadata": {},
     "output_type": "execute_result"
    }
   ],
   "source": [
    "df_correlation_matrix.head()"
   ]
  },
  {
   "cell_type": "markdown",
   "metadata": {},
   "source": [
    "Next lets extract just the correlation between the input features and the target variable in column Q9. Lets store this in a dataframe \"df_correlation_matrix_Q9\"."
   ]
  },
  {
   "cell_type": "code",
   "execution_count": 48,
   "metadata": {},
   "outputs": [],
   "source": [
    "df_correlation_matrix_Q9 = pd.DataFrame(df_correlation_matrix[\"Q9\"], columns=[\"Q9 Correlation\"])"
   ]
  },
  {
   "cell_type": "code",
   "execution_count": 49,
   "metadata": {},
   "outputs": [
    {
     "data": {
      "text/html": [
       "<div>\n",
       "<style scoped>\n",
       "    .dataframe tbody tr th:only-of-type {\n",
       "        vertical-align: middle;\n",
       "    }\n",
       "\n",
       "    .dataframe tbody tr th {\n",
       "        vertical-align: top;\n",
       "    }\n",
       "\n",
       "    .dataframe thead th {\n",
       "        text-align: right;\n",
       "    }\n",
       "</style>\n",
       "<table border=\"1\" class=\"dataframe\">\n",
       "  <thead>\n",
       "    <tr style=\"text-align: right;\">\n",
       "      <th></th>\n",
       "      <th>Q9 Correlation</th>\n",
       "    </tr>\n",
       "  </thead>\n",
       "  <tbody>\n",
       "    <tr>\n",
       "      <th>Time from Start to Finish (seconds)</th>\n",
       "      <td>-0.017425</td>\n",
       "    </tr>\n",
       "    <tr>\n",
       "      <th>Q1</th>\n",
       "      <td>0.057728</td>\n",
       "    </tr>\n",
       "    <tr>\n",
       "      <th>Q2</th>\n",
       "      <td>0.348161</td>\n",
       "    </tr>\n",
       "    <tr>\n",
       "      <th>Q3</th>\n",
       "      <td>0.264823</td>\n",
       "    </tr>\n",
       "    <tr>\n",
       "      <th>Q4</th>\n",
       "      <td>0.008350</td>\n",
       "    </tr>\n",
       "  </tbody>\n",
       "</table>\n",
       "</div>"
      ],
      "text/plain": [
       "                                     Q9 Correlation\n",
       "Time from Start to Finish (seconds)       -0.017425\n",
       "Q1                                         0.057728\n",
       "Q2                                         0.348161\n",
       "Q3                                         0.264823\n",
       "Q4                                         0.008350"
      ]
     },
     "execution_count": 49,
     "metadata": {},
     "output_type": "execute_result"
    }
   ],
   "source": [
    "df_correlation_matrix_Q9[\"Q9 Correlation\"] = df_correlation_matrix[\"Q9\"]\n",
    "df_correlation_matrix_Q9.head()"
   ]
  },
  {
   "cell_type": "markdown",
   "metadata": {},
   "source": [
    "Next lets drop all non-relevant rows so we have just the input features of interest and their associated Q9 Correlation. Lets also perform some organization by renaming columns and resetting the index."
   ]
  },
  {
   "cell_type": "code",
   "execution_count": 50,
   "metadata": {},
   "outputs": [
    {
     "data": {
      "text/html": [
       "<div>\n",
       "<style scoped>\n",
       "    .dataframe tbody tr th:only-of-type {\n",
       "        vertical-align: middle;\n",
       "    }\n",
       "\n",
       "    .dataframe tbody tr th {\n",
       "        vertical-align: top;\n",
       "    }\n",
       "\n",
       "    .dataframe thead th {\n",
       "        text-align: right;\n",
       "    }\n",
       "</style>\n",
       "<table border=\"1\" class=\"dataframe\">\n",
       "  <thead>\n",
       "    <tr style=\"text-align: right;\">\n",
       "      <th></th>\n",
       "      <th>Input Feature Number</th>\n",
       "      <th>Q9 Correlation</th>\n",
       "      <th>Input Feature</th>\n",
       "    </tr>\n",
       "  </thead>\n",
       "  <tbody>\n",
       "    <tr>\n",
       "      <th>0</th>\n",
       "      <td>0</td>\n",
       "      <td>-0.017425</td>\n",
       "      <td>Time from Start to Finish (seconds)</td>\n",
       "    </tr>\n",
       "    <tr>\n",
       "      <th>1</th>\n",
       "      <td>1</td>\n",
       "      <td>0.057728</td>\n",
       "      <td>Q1</td>\n",
       "    </tr>\n",
       "    <tr>\n",
       "      <th>2</th>\n",
       "      <td>2</td>\n",
       "      <td>0.348161</td>\n",
       "      <td>Q2</td>\n",
       "    </tr>\n",
       "    <tr>\n",
       "      <th>3</th>\n",
       "      <td>3</td>\n",
       "      <td>0.264823</td>\n",
       "      <td>Q3</td>\n",
       "    </tr>\n",
       "    <tr>\n",
       "      <th>4</th>\n",
       "      <td>4</td>\n",
       "      <td>0.008350</td>\n",
       "      <td>Q4</td>\n",
       "    </tr>\n",
       "  </tbody>\n",
       "</table>\n",
       "</div>"
      ],
      "text/plain": [
       "   Input Feature Number  Q9 Correlation                        Input Feature\n",
       "0                     0       -0.017425  Time from Start to Finish (seconds)\n",
       "1                     1        0.057728                                   Q1\n",
       "2                     2        0.348161                                   Q2\n",
       "3                     3        0.264823                                   Q3\n",
       "4                     4        0.008350                                   Q4"
      ]
     },
     "execution_count": 50,
     "metadata": {},
     "output_type": "execute_result"
    }
   ],
   "source": [
    "df_correlation_matrix_Q9[\"Input Feature\"] = df_correlation_matrix.index\n",
    "df_correlation_matrix_Q9 = df_correlation_matrix_Q9.reset_index()\n",
    "df_correlation_matrix_Q9 = df_correlation_matrix_Q9.drop(['index'], axis = 1)\n",
    "df_correlation_matrix_Q9.insert(0, 'Input Feature Number', range(0, len(df_correlation_matrix_Q9)))\n",
    "df_correlation_matrix_Q9.head()"
   ]
  },
  {
   "cell_type": "markdown",
   "metadata": {},
   "source": [
    "There, the above dataframe shows the correlation values for each input feature evaluated against the target variable Q9.\n",
    "\n",
    "Lets look at the maximum correlation value."
   ]
  },
  {
   "cell_type": "code",
   "execution_count": 51,
   "metadata": {},
   "outputs": [
    {
     "name": "stdout",
     "output_type": "stream",
     "text": [
      "0.34816106461310337\n"
     ]
    }
   ],
   "source": [
    "print (max(df_correlation_matrix_Q9['Q9 Correlation']))"
   ]
  },
  {
   "cell_type": "markdown",
   "metadata": {},
   "source": [
    "How about the minimum correlation value."
   ]
  },
  {
   "cell_type": "code",
   "execution_count": 52,
   "metadata": {},
   "outputs": [
    {
     "name": "stdout",
     "output_type": "stream",
     "text": [
      "-0.13350348434008416\n"
     ]
    }
   ],
   "source": [
    "print (min(df_correlation_matrix_Q9['Q9 Correlation']))"
   ]
  },
  {
   "cell_type": "markdown",
   "metadata": {},
   "source": [
    "Finally lets visualize the correlation values for each input feature against the target variable in a scatter plot."
   ]
  },
  {
   "cell_type": "code",
   "execution_count": 53,
   "metadata": {},
   "outputs": [
    {
     "data": {
      "text/plain": [
       "Text(0.5, 1.0, 'Input Feautre Correlation with Q9 or Reported Salaries')"
      ]
     },
     "execution_count": 53,
     "metadata": {},
     "output_type": "execute_result"
    },
    {
     "data": {
      "image/png": "[encoded data removed]",
      "text/plain": [
       "<Figure size 864x648 with 1 Axes>"
      ]
     },
     "metadata": {
      "needs_background": "light"
     },
     "output_type": "display_data"
    }
   ],
   "source": [
    "sns.scatterplot(x='Input Feature Number', y='Q9 Correlation', data=df_correlation_matrix_Q9)\n",
    "plt.xlabel(\"Input Feature Number\")\n",
    "plt.ylabel(\"Correlation Value\")\n",
    "plt.title(\"Input Feautre Correlation with Q9 or Reported Salaries\") # You can comment this line out if you don't need title"
   ]
  },
  {
   "cell_type": "markdown",
   "metadata": {},
   "source": [
    "From the scatterplot above it is apparent that most input features have a correaltion value with the target variable of around 0.0 - 0.1. With the highest being the 0.34 identified above.\n",
    "\n",
    "One more interesting item we can look at is the top 5 correlation features. This can be called using the nlargest() command."
   ]
  },
  {
   "cell_type": "code",
   "execution_count": 54,
   "metadata": {},
   "outputs": [
    {
     "name": "stdout",
     "output_type": "stream",
     "text": [
      "     Input Feature Number  Q9 Correlation Input Feature\n",
      "2                       2        0.348161            Q2\n",
      "3                       3        0.264823            Q3\n",
      "50                     50        0.173385    Q15_Part_2\n",
      "114                   114        0.173093    Q27_Part_1\n",
      "13                     13        0.165580    Q11_Part_4\n",
      "213                   213        0.152464    Q30_Part_9\n",
      "306                   306        0.150262    Q42_Part_1\n",
      "289                   289        0.143145   Q38_Part_10\n",
      "9                       9        0.130786           Q10\n",
      "177                   177        0.129248    Q29_Part_1\n"
     ]
    }
   ],
   "source": [
    "print (df_correlation_matrix_Q9.nlargest(10, 'Q9 Correlation'))"
   ]
  },
  {
   "cell_type": "markdown",
   "metadata": {},
   "source": [
    "As we can see above the second highest correlated feature is actually Q3 or the question realting to the Country of Residence. Thus the jointplot shown above and the previous analysis was valid, in that Q3 is highly correlated to Q9.\n",
    "\n",
    "The remaining other 9 most correlated features can be seen in the list above.\n",
    "\n",
    "One last interesing item would be to show he correaltion plot for all variables plotted against one another. While not specifc to the Q9 it is interesting to see which features are most correlated to one another. Vaguely looking at Q9 you can see which varaibles are most correlated in this graphic as well. The scatterplot identified above is of more use than the correlation plot show below."
   ]
  },
  {
   "cell_type": "code",
   "execution_count": 55,
   "metadata": {},
   "outputs": [
    {
     "data": {
      "text/plain": [
       "Text(0.5, 1.05, 'Correlation Plot for All Variables')"
      ]
     },
     "execution_count": 55,
     "metadata": {},
     "output_type": "execute_result"
    },
    {
     "data": {
      "image/png": "[encoded data removed]",
      "text/plain": [
       "<Figure size 648x648 with 1 Axes>"
      ]
     },
     "metadata": {
      "needs_background": "light"
     },
     "output_type": "display_data"
    }
   ],
   "source": [
    "plt.matshow(df_kaggle_clean_cat.corr(),cmap = plt.cm.Greens)\n",
    "plt.xlabel(\"Feature Number\")\n",
    "plt.ylabel(\"Feature Number\")\n",
    "plt.title(\"Correlation Plot for All Variables\") # You can comment this line out if you don't need title"
   ]
  },
  {
   "cell_type": "markdown",
   "metadata": {},
   "source": [
    "### 3.0 - Feature Selection\n",
    "\n",
    "The next step is to conduct feature selection. In machine learning feature selection is a process of selecting a set of features from an original dataset that typcially have higher correlation or impact on the desired target variable. There are four main reasons why feature selection is typcially done. These include:\n",
    "    1. Reduce Training Times\n",
    "    2. Enable higher generalization of the model by reducing varaince or in other words recucing the odds of overfitting the dataset\n",
    "    3. Have shorter run times for training by reducing the number of input features that are required to be processed\n",
    "    4. Also it helps t reduce the notion of the curse of dimensionality. The curse of dimensionality involves the idea that in models with high dimensionality or a large number of input features, there are more things that can go wrong and thus greater odds of model failure.\n",
    "    \n",
    "Typcially there are 3 general classes of Feature Selection Algorithms:\n",
    "    1. Filter Methods\n",
    "    2. Wrapper Methods\n",
    "    3. Embedded Methods\n",
    "\n",
    "For the purposes of this assignmet, we will be using two of these methods, A Wrapper Method known as Recursive Feature Elimination (RFE), and a Filter Method known as Correlation Coefficient Scores.\n",
    "\n",
    "Lets start with the Wrapper Method, Recursive Feature Elimination. Sklearn has a useful function that can be used to perform RFE. We will do this below."
   ]
  },
  {
   "cell_type": "markdown",
   "metadata": {},
   "source": [
    "Lets start with dropping columns Q9_Copy, Q_9, Unnamed: 0 in training set and make a new dataframe \"X_df\" that will hold the input features.\n",
    "\n",
    "For use later lets put this also put the test set into a dataframe and call it \"y_df\"."
   ]
  },
  {
   "cell_type": "code",
   "execution_count": 56,
   "metadata": {},
   "outputs": [
    {
     "data": {
      "text/html": [
       "<div>\n",
       "<style scoped>\n",
       "    .dataframe tbody tr th:only-of-type {\n",
       "        vertical-align: middle;\n",
       "    }\n",
       "\n",
       "    .dataframe tbody tr th {\n",
       "        vertical-align: top;\n",
       "    }\n",
       "\n",
       "    .dataframe thead th {\n",
       "        text-align: right;\n",
       "    }\n",
       "</style>\n",
       "<table border=\"1\" class=\"dataframe\">\n",
       "  <thead>\n",
       "    <tr style=\"text-align: right;\">\n",
       "      <th></th>\n",
       "      <th>Unnamed: 0</th>\n",
       "      <th>Time from Start to Finish (seconds)</th>\n",
       "      <th>Q1</th>\n",
       "      <th>Q2</th>\n",
       "      <th>Q3</th>\n",
       "      <th>Q4</th>\n",
       "      <th>Q5</th>\n",
       "      <th>Q6</th>\n",
       "      <th>Q7</th>\n",
       "      <th>Q8</th>\n",
       "      <th>...</th>\n",
       "      <th>Q49_Part_12</th>\n",
       "      <th>Q50_Part_1</th>\n",
       "      <th>Q50_Part_2</th>\n",
       "      <th>Q50_Part_3</th>\n",
       "      <th>Q50_Part_4</th>\n",
       "      <th>Q50_Part_5</th>\n",
       "      <th>Q50_Part_6</th>\n",
       "      <th>Q50_Part_7</th>\n",
       "      <th>Q50_Part_8</th>\n",
       "      <th>Q9_Copy</th>\n",
       "    </tr>\n",
       "  </thead>\n",
       "  <tbody>\n",
       "    <tr>\n",
       "      <th>1</th>\n",
       "      <td>2</td>\n",
       "      <td>434</td>\n",
       "      <td>1</td>\n",
       "      <td>3</td>\n",
       "      <td>22</td>\n",
       "      <td>0</td>\n",
       "      <td>2</td>\n",
       "      <td>11</td>\n",
       "      <td>9</td>\n",
       "      <td>10</td>\n",
       "      <td>...</td>\n",
       "      <td>0</td>\n",
       "      <td>0</td>\n",
       "      <td>0</td>\n",
       "      <td>0</td>\n",
       "      <td>0</td>\n",
       "      <td>0</td>\n",
       "      <td>0</td>\n",
       "      <td>0</td>\n",
       "      <td>0</td>\n",
       "      <td>18668</td>\n",
       "    </tr>\n",
       "    <tr>\n",
       "      <th>4</th>\n",
       "      <td>7</td>\n",
       "      <td>959</td>\n",
       "      <td>1</td>\n",
       "      <td>4</td>\n",
       "      <td>8</td>\n",
       "      <td>1</td>\n",
       "      <td>7</td>\n",
       "      <td>11</td>\n",
       "      <td>0</td>\n",
       "      <td>2</td>\n",
       "      <td>...</td>\n",
       "      <td>0</td>\n",
       "      <td>1</td>\n",
       "      <td>0</td>\n",
       "      <td>0</td>\n",
       "      <td>0</td>\n",
       "      <td>0</td>\n",
       "      <td>1</td>\n",
       "      <td>0</td>\n",
       "      <td>0</td>\n",
       "      <td>11957</td>\n",
       "    </tr>\n",
       "    <tr>\n",
       "      <th>6</th>\n",
       "      <td>10</td>\n",
       "      <td>751</td>\n",
       "      <td>1</td>\n",
       "      <td>3</td>\n",
       "      <td>19</td>\n",
       "      <td>3</td>\n",
       "      <td>2</td>\n",
       "      <td>17</td>\n",
       "      <td>15</td>\n",
       "      <td>7</td>\n",
       "      <td>...</td>\n",
       "      <td>0</td>\n",
       "      <td>0</td>\n",
       "      <td>1</td>\n",
       "      <td>0</td>\n",
       "      <td>1</td>\n",
       "      <td>0</td>\n",
       "      <td>0</td>\n",
       "      <td>0</td>\n",
       "      <td>0</td>\n",
       "      <td>21152</td>\n",
       "    </tr>\n",
       "    <tr>\n",
       "      <th>7</th>\n",
       "      <td>12</td>\n",
       "      <td>823</td>\n",
       "      <td>1</td>\n",
       "      <td>5</td>\n",
       "      <td>56</td>\n",
       "      <td>3</td>\n",
       "      <td>2</td>\n",
       "      <td>7</td>\n",
       "      <td>16</td>\n",
       "      <td>10</td>\n",
       "      <td>...</td>\n",
       "      <td>0</td>\n",
       "      <td>0</td>\n",
       "      <td>1</td>\n",
       "      <td>0</td>\n",
       "      <td>0</td>\n",
       "      <td>1</td>\n",
       "      <td>0</td>\n",
       "      <td>0</td>\n",
       "      <td>0</td>\n",
       "      <td>132826</td>\n",
       "    </tr>\n",
       "    <tr>\n",
       "      <th>9</th>\n",
       "      <td>14</td>\n",
       "      <td>1917</td>\n",
       "      <td>1</td>\n",
       "      <td>2</td>\n",
       "      <td>56</td>\n",
       "      <td>0</td>\n",
       "      <td>8</td>\n",
       "      <td>14</td>\n",
       "      <td>0</td>\n",
       "      <td>1</td>\n",
       "      <td>...</td>\n",
       "      <td>0</td>\n",
       "      <td>0</td>\n",
       "      <td>1</td>\n",
       "      <td>0</td>\n",
       "      <td>0</td>\n",
       "      <td>0</td>\n",
       "      <td>0</td>\n",
       "      <td>0</td>\n",
       "      <td>0</td>\n",
       "      <td>35826</td>\n",
       "    </tr>\n",
       "  </tbody>\n",
       "</table>\n",
       "<p>5 rows × 364 columns</p>\n",
       "</div>"
      ],
      "text/plain": [
       "   Unnamed: 0  Time from Start to Finish (seconds)  Q1  Q2  Q3  Q4  Q5  Q6  \\\n",
       "1           2                                  434   1   3  22   0   2  11   \n",
       "4           7                                  959   1   4   8   1   7  11   \n",
       "6          10                                  751   1   3  19   3   2  17   \n",
       "7          12                                  823   1   5  56   3   2   7   \n",
       "9          14                                 1917   1   2  56   0   8  14   \n",
       "\n",
       "   Q7  Q8   ...     Q49_Part_12  Q50_Part_1  Q50_Part_2  Q50_Part_3  \\\n",
       "1   9  10   ...               0           0           0           0   \n",
       "4   0   2   ...               0           1           0           0   \n",
       "6  15   7   ...               0           0           1           0   \n",
       "7  16  10   ...               0           0           1           0   \n",
       "9   0   1   ...               0           0           1           0   \n",
       "\n",
       "   Q50_Part_4  Q50_Part_5  Q50_Part_6  Q50_Part_7  Q50_Part_8  Q9_Copy  \n",
       "1           0           0           0           0           0    18668  \n",
       "4           0           0           1           0           0    11957  \n",
       "6           1           0           0           0           0    21152  \n",
       "7           0           1           0           0           0   132826  \n",
       "9           0           0           0           0           0    35826  \n",
       "\n",
       "[5 rows x 364 columns]"
      ]
     },
     "execution_count": 56,
     "metadata": {},
     "output_type": "execute_result"
    }
   ],
   "source": [
    "X_df = pd.DataFrame(df_kaggle_clean_cat)\n",
    "X_df.head()"
   ]
  },
  {
   "cell_type": "code",
   "execution_count": 57,
   "metadata": {},
   "outputs": [
    {
     "data": {
      "text/html": [
       "<div>\n",
       "<style scoped>\n",
       "    .dataframe tbody tr th:only-of-type {\n",
       "        vertical-align: middle;\n",
       "    }\n",
       "\n",
       "    .dataframe tbody tr th {\n",
       "        vertical-align: top;\n",
       "    }\n",
       "\n",
       "    .dataframe thead th {\n",
       "        text-align: right;\n",
       "    }\n",
       "</style>\n",
       "<table border=\"1\" class=\"dataframe\">\n",
       "  <thead>\n",
       "    <tr style=\"text-align: right;\">\n",
       "      <th></th>\n",
       "      <th>Time from Start to Finish (seconds)</th>\n",
       "      <th>Q1</th>\n",
       "      <th>Q2</th>\n",
       "      <th>Q3</th>\n",
       "      <th>Q4</th>\n",
       "      <th>Q5</th>\n",
       "      <th>Q6</th>\n",
       "      <th>Q7</th>\n",
       "      <th>Q8</th>\n",
       "      <th>Q10</th>\n",
       "      <th>...</th>\n",
       "      <th>Q49_Part_11</th>\n",
       "      <th>Q49_Part_12</th>\n",
       "      <th>Q50_Part_1</th>\n",
       "      <th>Q50_Part_2</th>\n",
       "      <th>Q50_Part_3</th>\n",
       "      <th>Q50_Part_4</th>\n",
       "      <th>Q50_Part_5</th>\n",
       "      <th>Q50_Part_6</th>\n",
       "      <th>Q50_Part_7</th>\n",
       "      <th>Q50_Part_8</th>\n",
       "    </tr>\n",
       "  </thead>\n",
       "  <tbody>\n",
       "    <tr>\n",
       "      <th>1</th>\n",
       "      <td>434</td>\n",
       "      <td>1</td>\n",
       "      <td>3</td>\n",
       "      <td>22</td>\n",
       "      <td>0</td>\n",
       "      <td>2</td>\n",
       "      <td>11</td>\n",
       "      <td>9</td>\n",
       "      <td>10</td>\n",
       "      <td>1</td>\n",
       "      <td>...</td>\n",
       "      <td>0</td>\n",
       "      <td>0</td>\n",
       "      <td>0</td>\n",
       "      <td>0</td>\n",
       "      <td>0</td>\n",
       "      <td>0</td>\n",
       "      <td>0</td>\n",
       "      <td>0</td>\n",
       "      <td>0</td>\n",
       "      <td>0</td>\n",
       "    </tr>\n",
       "    <tr>\n",
       "      <th>4</th>\n",
       "      <td>959</td>\n",
       "      <td>1</td>\n",
       "      <td>4</td>\n",
       "      <td>8</td>\n",
       "      <td>1</td>\n",
       "      <td>7</td>\n",
       "      <td>11</td>\n",
       "      <td>0</td>\n",
       "      <td>2</td>\n",
       "      <td>1</td>\n",
       "      <td>...</td>\n",
       "      <td>0</td>\n",
       "      <td>0</td>\n",
       "      <td>1</td>\n",
       "      <td>0</td>\n",
       "      <td>0</td>\n",
       "      <td>0</td>\n",
       "      <td>0</td>\n",
       "      <td>1</td>\n",
       "      <td>0</td>\n",
       "      <td>0</td>\n",
       "    </tr>\n",
       "    <tr>\n",
       "      <th>6</th>\n",
       "      <td>751</td>\n",
       "      <td>1</td>\n",
       "      <td>3</td>\n",
       "      <td>19</td>\n",
       "      <td>3</td>\n",
       "      <td>2</td>\n",
       "      <td>17</td>\n",
       "      <td>15</td>\n",
       "      <td>7</td>\n",
       "      <td>3</td>\n",
       "      <td>...</td>\n",
       "      <td>0</td>\n",
       "      <td>0</td>\n",
       "      <td>0</td>\n",
       "      <td>1</td>\n",
       "      <td>0</td>\n",
       "      <td>1</td>\n",
       "      <td>0</td>\n",
       "      <td>0</td>\n",
       "      <td>0</td>\n",
       "      <td>0</td>\n",
       "    </tr>\n",
       "    <tr>\n",
       "      <th>7</th>\n",
       "      <td>823</td>\n",
       "      <td>1</td>\n",
       "      <td>5</td>\n",
       "      <td>56</td>\n",
       "      <td>3</td>\n",
       "      <td>2</td>\n",
       "      <td>7</td>\n",
       "      <td>16</td>\n",
       "      <td>10</td>\n",
       "      <td>4</td>\n",
       "      <td>...</td>\n",
       "      <td>0</td>\n",
       "      <td>0</td>\n",
       "      <td>0</td>\n",
       "      <td>1</td>\n",
       "      <td>0</td>\n",
       "      <td>0</td>\n",
       "      <td>1</td>\n",
       "      <td>0</td>\n",
       "      <td>0</td>\n",
       "      <td>0</td>\n",
       "    </tr>\n",
       "    <tr>\n",
       "      <th>9</th>\n",
       "      <td>1917</td>\n",
       "      <td>1</td>\n",
       "      <td>2</td>\n",
       "      <td>56</td>\n",
       "      <td>0</td>\n",
       "      <td>8</td>\n",
       "      <td>14</td>\n",
       "      <td>0</td>\n",
       "      <td>1</td>\n",
       "      <td>2</td>\n",
       "      <td>...</td>\n",
       "      <td>0</td>\n",
       "      <td>0</td>\n",
       "      <td>0</td>\n",
       "      <td>1</td>\n",
       "      <td>0</td>\n",
       "      <td>0</td>\n",
       "      <td>0</td>\n",
       "      <td>0</td>\n",
       "      <td>0</td>\n",
       "      <td>0</td>\n",
       "    </tr>\n",
       "  </tbody>\n",
       "</table>\n",
       "<p>5 rows × 361 columns</p>\n",
       "</div>"
      ],
      "text/plain": [
       "   Time from Start to Finish (seconds)  Q1  Q2  Q3  Q4  Q5  Q6  Q7  Q8  Q10  \\\n",
       "1                                  434   1   3  22   0   2  11   9  10    1   \n",
       "4                                  959   1   4   8   1   7  11   0   2    1   \n",
       "6                                  751   1   3  19   3   2  17  15   7    3   \n",
       "7                                  823   1   5  56   3   2   7  16  10    4   \n",
       "9                                 1917   1   2  56   0   8  14   0   1    2   \n",
       "\n",
       "      ...      Q49_Part_11  Q49_Part_12  Q50_Part_1  Q50_Part_2  Q50_Part_3  \\\n",
       "1     ...                0            0           0           0           0   \n",
       "4     ...                0            0           1           0           0   \n",
       "6     ...                0            0           0           1           0   \n",
       "7     ...                0            0           0           1           0   \n",
       "9     ...                0            0           0           1           0   \n",
       "\n",
       "   Q50_Part_4  Q50_Part_5  Q50_Part_6  Q50_Part_7  Q50_Part_8  \n",
       "1           0           0           0           0           0  \n",
       "4           0           0           1           0           0  \n",
       "6           1           0           0           0           0  \n",
       "7           0           1           0           0           0  \n",
       "9           0           0           0           0           0  \n",
       "\n",
       "[5 rows x 361 columns]"
      ]
     },
     "execution_count": 57,
     "metadata": {},
     "output_type": "execute_result"
    }
   ],
   "source": [
    "X_df = X_df.drop(['Q9_Copy'],axis = 1)\n",
    "X_df = X_df.drop(['Q9'],axis = 1)\n",
    "X_df = X_df.drop(['Unnamed: 0'],axis = 1)\n",
    "X_df.head()"
   ]
  },
  {
   "cell_type": "code",
   "execution_count": 58,
   "metadata": {},
   "outputs": [],
   "source": [
    "y_df = pd.DataFrame(df_kaggle_clean_cat['Q9'])\n",
    "y_df.head()\n",
    "y_targets = y_df.values"
   ]
  },
  {
   "cell_type": "markdown",
   "metadata": {},
   "source": [
    "To run the RFE algorithm we will need to run Next Lets setup the Train/Test Split. We will be using 0.3 test size and 0.7 Test size for this."
   ]
  },
  {
   "cell_type": "code",
   "execution_count": 59,
   "metadata": {},
   "outputs": [],
   "source": [
    "X_train, X_test, y_train, y_test = train_test_split(X_df, y_df, test_size = 0.3)"
   ]
  },
  {
   "cell_type": "markdown",
   "metadata": {},
   "source": [
    "Lets set the model that we will run the RFE alogirthm on as a simple linear regression. After that lets fit the model."
   ]
  },
  {
   "cell_type": "code",
   "execution_count": 60,
   "metadata": {},
   "outputs": [
    {
     "name": "stderr",
     "output_type": "stream",
     "text": [
      "C:\\Users\\btarras\\AppData\\Local\\Continuum\\anaconda3\\lib\\site-packages\\sklearn\\utils\\validation.py:761: DataConversionWarning: A column-vector y was passed when a 1d array was expected. Please change the shape of y to (n_samples, ), for example using ravel().\n",
      "  y = column_or_1d(y, warn=True)\n"
     ]
    }
   ],
   "source": [
    "model_lr = linear_model.LinearRegression()\n",
    "rfe = RFE(model_lr)\n",
    "fit = rfe.fit(X_train, y_train)"
   ]
  },
  {
   "cell_type": "markdown",
   "metadata": {},
   "source": [
    "With the model fit, lets view the ranking of each of the input features."
   ]
  },
  {
   "cell_type": "code",
   "execution_count": 61,
   "metadata": {},
   "outputs": [
    {
     "name": "stdout",
     "output_type": "stream",
     "text": [
      "[(182, 'Time from Start to Finish (seconds)'), (51, 'Q1'), (1, 'Q2'), (92, 'Q3'), (117, 'Q4'), (174, 'Q5'), (139, 'Q6'), (151, 'Q7'), (100, 'Q8'), (14, 'Q10'), (1, 'Q11_Part_1'), (1, 'Q11_Part_2'), (1, 'Q11_Part_3'), (1, 'Q11_Part_4'), (1, 'Q11_Part_5'), (114, 'Q11_Part_6'), (1, 'Q11_Part_7'), (135, 'Q12_MULTIPLE_CHOICE'), (180, 'Q12_Part_1_TEXT'), (173, 'Q12_Part_2_TEXT'), (176, 'Q12_Part_3_TEXT'), (179, 'Q12_Part_4_TEXT'), (171, 'Q12_Part_5_TEXT'), (1, 'Q13_Part_1'), (162, 'Q13_Part_2'), (136, 'Q13_Part_3'), (61, 'Q13_Part_4'), (44, 'Q13_Part_5'), (84, 'Q13_Part_6'), (1, 'Q13_Part_7'), (23, 'Q13_Part_8'), (1, 'Q13_Part_9'), (1, 'Q13_Part_10'), (1, 'Q13_Part_11'), (1, 'Q13_Part_12'), (1, 'Q13_Part_13'), (1, 'Q13_Part_14'), (111, 'Q13_Part_15'), (1, 'Q14_Part_1'), (1, 'Q14_Part_2'), (1, 'Q14_Part_3'), (1, 'Q14_Part_4'), (19, 'Q14_Part_5'), (91, 'Q14_Part_6'), (1, 'Q14_Part_7'), (1, 'Q14_Part_8'), (85, 'Q14_Part_9'), (5, 'Q14_Part_10'), (152, 'Q14_Part_11'), (1, 'Q15_Part_1'), (1, 'Q15_Part_2'), (1, 'Q15_Part_3'), (1, 'Q15_Part_4'), (1, 'Q15_Part_5'), (1, 'Q15_Part_6'), (60, 'Q15_Part_7'), (1, 'Q16_Part_1'), (133, 'Q16_Part_2'), (16, 'Q16_Part_3'), (43, 'Q16_Part_4'), (89, 'Q16_Part_5'), (106, 'Q16_Part_6'), (93, 'Q16_Part_7'), (24, 'Q16_Part_8'), (71, 'Q16_Part_9'), (37, 'Q16_Part_10'), (15, 'Q16_Part_11'), (1, 'Q16_Part_12'), (22, 'Q16_Part_13'), (1, 'Q16_Part_14'), (1, 'Q16_Part_15'), (1, 'Q16_Part_16'), (1, 'Q16_Part_17'), (96, 'Q16_Part_18'), (156, 'Q17'), (141, 'Q18'), (17, 'Q19_Part_1'), (59, 'Q19_Part_2'), (168, 'Q19_Part_3'), (49, 'Q19_Part_4'), (13, 'Q19_Part_5'), (1, 'Q19_Part_6'), (1, 'Q19_Part_7'), (6, 'Q19_Part_8'), (53, 'Q19_Part_9'), (4, 'Q19_Part_10'), (170, 'Q19_Part_11'), (90, 'Q19_Part_12'), (32, 'Q19_Part_13'), (7, 'Q19_Part_14'), (1, 'Q19_Part_15'), (73, 'Q19_Part_16'), (1, 'Q19_Part_17'), (1, 'Q19_Part_18'), (110, 'Q19_Part_19'), (145, 'Q20'), (109, 'Q21_Part_1'), (81, 'Q21_Part_2'), (1, 'Q21_Part_3'), (1, 'Q21_Part_4'), (1, 'Q21_Part_5'), (10, 'Q21_Part_6'), (69, 'Q21_Part_7'), (172, 'Q21_Part_8'), (1, 'Q21_Part_9'), (1, 'Q21_Part_10'), (1, 'Q21_Part_11'), (108, 'Q21_Part_12'), (1, 'Q21_Part_13'), (148, 'Q22'), (25, 'Q23'), (115, 'Q24'), (112, 'Q25'), (97, 'Q26'), (1, 'Q27_Part_1'), (144, 'Q27_Part_2'), (29, 'Q27_Part_3'), (102, 'Q27_Part_4'), (1, 'Q27_Part_5'), (1, 'Q27_Part_6'), (1, 'Q27_Part_7'), (79, 'Q27_Part_8'), (20, 'Q27_Part_9'), (1, 'Q27_Part_10'), (1, 'Q27_Part_11'), (1, 'Q27_Part_12'), (1, 'Q27_Part_13'), (1, 'Q27_Part_14'), (54, 'Q27_Part_15'), (21, 'Q27_Part_16'), (1, 'Q27_Part_17'), (1, 'Q27_Part_18'), (1, 'Q27_Part_19'), (1, 'Q27_Part_20'), (34, 'Q28_Part_1'), (1, 'Q28_Part_2'), (1, 'Q28_Part_3'), (1, 'Q28_Part_4'), (1, 'Q28_Part_5'), (1, 'Q28_Part_6'), (1, 'Q28_Part_7'), (58, 'Q28_Part_8'), (1, 'Q28_Part_9'), (1, 'Q28_Part_10'), (1, 'Q28_Part_11'), (1, 'Q28_Part_12'), (1, 'Q28_Part_13'), (155, 'Q28_Part_14'), (57, 'Q28_Part_15'), (1, 'Q28_Part_16'), (1, 'Q28_Part_17'), (1, 'Q28_Part_18'), (28, 'Q28_Part_19'), (1, 'Q28_Part_20'), (1, 'Q28_Part_21'), (1, 'Q28_Part_22'), (1, 'Q28_Part_23'), (1, 'Q28_Part_24'), (1, 'Q28_Part_25'), (1, 'Q28_Part_26'), (47, 'Q28_Part_27'), (76, 'Q28_Part_28'), (116, 'Q28_Part_29'), (1, 'Q28_Part_30'), (82, 'Q28_Part_31'), (1, 'Q28_Part_32'), (1, 'Q28_Part_33'), (45, 'Q28_Part_34'), (1, 'Q28_Part_35'), (1, 'Q28_Part_36'), (1, 'Q28_Part_37'), (1, 'Q28_Part_38'), (1, 'Q28_Part_39'), (1, 'Q28_Part_40'), (1, 'Q28_Part_41'), (1, 'Q28_Part_42'), (1, 'Q28_Part_43'), (1, 'Q29_Part_1'), (1, 'Q29_Part_2'), (150, 'Q29_Part_3'), (1, 'Q29_Part_4'), (1, 'Q29_Part_5'), (1, 'Q29_Part_6'), (1, 'Q29_Part_7'), (1, 'Q29_Part_8'), (1, 'Q29_Part_9'), (1, 'Q29_Part_10'), (1, 'Q29_Part_11'), (33, 'Q29_Part_12'), (149, 'Q29_Part_13'), (1, 'Q29_Part_14'), (72, 'Q29_Part_15'), (1, 'Q29_Part_16'), (1, 'Q29_Part_17'), (88, 'Q29_Part_18'), (1, 'Q29_Part_19'), (1, 'Q29_Part_20'), (1, 'Q29_Part_21'), (1, 'Q29_Part_22'), (1, 'Q29_Part_23'), (1, 'Q29_Part_24'), (1, 'Q29_Part_25'), (1, 'Q29_Part_26'), (74, 'Q29_Part_27'), (56, 'Q29_Part_28'), (9, 'Q30_Part_1'), (1, 'Q30_Part_2'), (1, 'Q30_Part_3'), (36, 'Q30_Part_4'), (95, 'Q30_Part_5'), (1, 'Q30_Part_6'), (1, 'Q30_Part_7'), (1, 'Q30_Part_8'), (1, 'Q30_Part_9'), (177, 'Q30_Part_10'), (1, 'Q30_Part_11'), (1, 'Q30_Part_12'), (27, 'Q30_Part_13'), (1, 'Q30_Part_14'), (166, 'Q30_Part_15'), (1, 'Q30_Part_16'), (50, 'Q30_Part_17'), (1, 'Q30_Part_18'), (1, 'Q30_Part_19'), (1, 'Q30_Part_20'), (1, 'Q30_Part_21'), (1, 'Q30_Part_22'), (1, 'Q30_Part_23'), (1, 'Q30_Part_24'), (1, 'Q30_Part_25'), (163, 'Q31_Part_1'), (140, 'Q31_Part_2'), (18, 'Q31_Part_3'), (1, 'Q31_Part_4'), (137, 'Q31_Part_5'), (1, 'Q31_Part_6'), (1, 'Q31_Part_7'), (146, 'Q31_Part_8'), (68, 'Q31_Part_9'), (1, 'Q31_Part_10'), (2, 'Q31_Part_11'), (1, 'Q31_Part_12'), (147, 'Q32'), (101, 'Q33_Part_1'), (134, 'Q33_Part_2'), (48, 'Q33_Part_3'), (78, 'Q33_Part_4'), (126, 'Q33_Part_5'), (99, 'Q33_Part_6'), (143, 'Q33_Part_7'), (70, 'Q33_Part_8'), (1, 'Q33_Part_9'), (1, 'Q33_Part_10'), (103, 'Q33_Part_11'), (160, 'Q34_Part_1'), (164, 'Q34_Part_2'), (159, 'Q34_Part_3'), (167, 'Q34_Part_4'), (157, 'Q34_Part_5'), (169, 'Q34_Part_6'), (119, 'Q35_Part_1'), (123, 'Q35_Part_2'), (120, 'Q35_Part_3'), (118, 'Q35_Part_4'), (121, 'Q35_Part_5'), (122, 'Q35_Part_6'), (1, 'Q36_Part_1'), (1, 'Q36_Part_2'), (1, 'Q36_Part_3'), (1, 'Q36_Part_4'), (1, 'Q36_Part_5'), (1, 'Q36_Part_6'), (1, 'Q36_Part_7'), (75, 'Q36_Part_8'), (1, 'Q36_Part_9'), (138, 'Q36_Part_10'), (130, 'Q36_Part_11'), (181, 'Q36_Part_12'), (1, 'Q36_Part_13'), (154, 'Q37'), (1, 'Q38_Part_1'), (1, 'Q38_Part_2'), (129, 'Q38_Part_3'), (1, 'Q38_Part_4'), (42, 'Q38_Part_5'), (1, 'Q38_Part_6'), (1, 'Q38_Part_7'), (1, 'Q38_Part_8'), (1, 'Q38_Part_9'), (1, 'Q38_Part_10'), (175, 'Q38_Part_11'), (1, 'Q38_Part_12'), (66, 'Q38_Part_13'), (1, 'Q38_Part_14'), (1, 'Q38_Part_15'), (1, 'Q38_Part_16'), (62, 'Q38_Part_17'), (1, 'Q38_Part_18'), (1, 'Q38_Part_21'), (1, 'Q38_Part_22'), (98, 'Q39_Part_1'), (104, 'Q39_Part_2'), (132, 'Q40'), (41, 'Q41_Part_1'), (1, 'Q41_Part_2'), (40, 'Q41_Part_3'), (1, 'Q42_Part_1'), (86, 'Q42_Part_2'), (128, 'Q42_Part_3'), (39, 'Q42_Part_4'), (1, 'Q42_Part_5'), (131, 'Q43'), (1, 'Q44_Part_1'), (3, 'Q44_Part_2'), (1, 'Q44_Part_3'), (1, 'Q44_Part_4'), (1, 'Q44_Part_5'), (64, 'Q44_Part_6'), (83, 'Q45_Part_1'), (161, 'Q45_Part_2'), (1, 'Q45_Part_3'), (46, 'Q45_Part_4'), (1, 'Q45_Part_5'), (12, 'Q45_Part_6'), (178, 'Q46'), (142, 'Q47_Part_1'), (1, 'Q47_Part_2'), (127, 'Q47_Part_3'), (107, 'Q47_Part_4'), (52, 'Q47_Part_5'), (80, 'Q47_Part_6'), (1, 'Q47_Part_7'), (165, 'Q47_Part_8'), (67, 'Q47_Part_9'), (1, 'Q47_Part_10'), (77, 'Q47_Part_11'), (1, 'Q47_Part_12'), (1, 'Q47_Part_13'), (11, 'Q47_Part_14'), (1, 'Q47_Part_15'), (55, 'Q48'), (105, 'Q49_Part_1'), (1, 'Q49_Part_2'), (94, 'Q49_Part_3'), (87, 'Q49_Part_4'), (125, 'Q49_Part_5'), (1, 'Q49_Part_6'), (113, 'Q49_Part_7'), (153, 'Q49_Part_8'), (124, 'Q49_Part_9'), (35, 'Q49_Part_10'), (38, 'Q49_Part_11'), (158, 'Q49_Part_12'), (31, 'Q50_Part_1'), (63, 'Q50_Part_2'), (26, 'Q50_Part_3'), (8, 'Q50_Part_4'), (30, 'Q50_Part_5'), (65, 'Q50_Part_6'), (1, 'Q50_Part_7'), (1, 'Q50_Part_8')]\n"
     ]
    }
   ],
   "source": [
    "print((list(zip(fit.ranking_,X_train))))"
   ]
  },
  {
   "cell_type": "markdown",
   "metadata": {},
   "source": [
    "With this information lets add it to the previously created correlation matrix for Q9 (currently stored in the dataframe \"df_correlation_matrix_Q9\" to see how it compares and to determine cutoff limits for which features to eliminate."
   ]
  },
  {
   "cell_type": "code",
   "execution_count": 62,
   "metadata": {},
   "outputs": [],
   "source": [
    "df_correlation_matrix_Q9['RFE_Score'] = fit.ranking_"
   ]
  },
  {
   "cell_type": "code",
   "execution_count": 63,
   "metadata": {},
   "outputs": [
    {
     "data": {
      "text/html": [
       "<div>\n",
       "<style scoped>\n",
       "    .dataframe tbody tr th:only-of-type {\n",
       "        vertical-align: middle;\n",
       "    }\n",
       "\n",
       "    .dataframe tbody tr th {\n",
       "        vertical-align: top;\n",
       "    }\n",
       "\n",
       "    .dataframe thead th {\n",
       "        text-align: right;\n",
       "    }\n",
       "</style>\n",
       "<table border=\"1\" class=\"dataframe\">\n",
       "  <thead>\n",
       "    <tr style=\"text-align: right;\">\n",
       "      <th></th>\n",
       "      <th>Input Feature Number</th>\n",
       "      <th>Q9 Correlation</th>\n",
       "      <th>Input Feature</th>\n",
       "      <th>RFE_Score</th>\n",
       "    </tr>\n",
       "  </thead>\n",
       "  <tbody>\n",
       "    <tr>\n",
       "      <th>0</th>\n",
       "      <td>0</td>\n",
       "      <td>-0.017425</td>\n",
       "      <td>Time from Start to Finish (seconds)</td>\n",
       "      <td>182</td>\n",
       "    </tr>\n",
       "    <tr>\n",
       "      <th>1</th>\n",
       "      <td>1</td>\n",
       "      <td>0.057728</td>\n",
       "      <td>Q1</td>\n",
       "      <td>51</td>\n",
       "    </tr>\n",
       "    <tr>\n",
       "      <th>2</th>\n",
       "      <td>2</td>\n",
       "      <td>0.348161</td>\n",
       "      <td>Q2</td>\n",
       "      <td>1</td>\n",
       "    </tr>\n",
       "    <tr>\n",
       "      <th>3</th>\n",
       "      <td>3</td>\n",
       "      <td>0.264823</td>\n",
       "      <td>Q3</td>\n",
       "      <td>92</td>\n",
       "    </tr>\n",
       "    <tr>\n",
       "      <th>4</th>\n",
       "      <td>4</td>\n",
       "      <td>0.008350</td>\n",
       "      <td>Q4</td>\n",
       "      <td>117</td>\n",
       "    </tr>\n",
       "  </tbody>\n",
       "</table>\n",
       "</div>"
      ],
      "text/plain": [
       "   Input Feature Number  Q9 Correlation                        Input Feature  \\\n",
       "0                     0       -0.017425  Time from Start to Finish (seconds)   \n",
       "1                     1        0.057728                                   Q1   \n",
       "2                     2        0.348161                                   Q2   \n",
       "3                     3        0.264823                                   Q3   \n",
       "4                     4        0.008350                                   Q4   \n",
       "\n",
       "   RFE_Score  \n",
       "0        182  \n",
       "1         51  \n",
       "2          1  \n",
       "3         92  \n",
       "4        117  "
      ]
     },
     "execution_count": 63,
     "metadata": {},
     "output_type": "execute_result"
    }
   ],
   "source": [
    "df_correlation_matrix_Q9.head()"
   ]
  },
  {
   "cell_type": "markdown",
   "metadata": {},
   "source": [
    "With the dataframe constructed lets do a quick sanity check to make sure that some of the top features in terms of correlation also have a high rank (low number) in terms of RFE Score."
   ]
  },
  {
   "cell_type": "code",
   "execution_count": 64,
   "metadata": {},
   "outputs": [
    {
     "name": "stdout",
     "output_type": "stream",
     "text": [
      "     Input Feature Number  Q9 Correlation Input Feature  RFE_Score\n",
      "2                       2        0.348161            Q2          1\n",
      "3                       3        0.264823            Q3         92\n",
      "50                     50        0.173385    Q15_Part_2          1\n",
      "114                   114        0.173093    Q27_Part_1          1\n",
      "13                     13        0.165580    Q11_Part_4          1\n"
     ]
    }
   ],
   "source": [
    "print (df_correlation_matrix_Q9.nlargest(5, 'Q9 Correlation'))"
   ]
  },
  {
   "cell_type": "code",
   "execution_count": 65,
   "metadata": {},
   "outputs": [
    {
     "name": "stdout",
     "output_type": "stream",
     "text": [
      "    Input Feature Number  Q9 Correlation Input Feature  RFE_Score\n",
      "2                      2        0.348161            Q2          1\n",
      "10                    10        0.119970    Q11_Part_1          1\n",
      "11                    11        0.121141    Q11_Part_2          1\n",
      "12                    12        0.100221    Q11_Part_3          1\n",
      "13                    13        0.165580    Q11_Part_4          1\n"
     ]
    }
   ],
   "source": [
    "print (df_correlation_matrix_Q9.nsmallest(5, 'RFE_Score'))"
   ]
  },
  {
   "cell_type": "markdown",
   "metadata": {},
   "source": [
    "Next lets start with eliminating features that have a rank higher than rank 1 for the RFE score."
   ]
  },
  {
   "cell_type": "code",
   "execution_count": 66,
   "metadata": {},
   "outputs": [
    {
     "data": {
      "text/html": [
       "<div>\n",
       "<style scoped>\n",
       "    .dataframe tbody tr th:only-of-type {\n",
       "        vertical-align: middle;\n",
       "    }\n",
       "\n",
       "    .dataframe tbody tr th {\n",
       "        vertical-align: top;\n",
       "    }\n",
       "\n",
       "    .dataframe thead th {\n",
       "        text-align: right;\n",
       "    }\n",
       "</style>\n",
       "<table border=\"1\" class=\"dataframe\">\n",
       "  <thead>\n",
       "    <tr style=\"text-align: right;\">\n",
       "      <th></th>\n",
       "      <th>Input Feature Number</th>\n",
       "      <th>Q9 Correlation</th>\n",
       "      <th>Input Feature</th>\n",
       "      <th>RFE_Score</th>\n",
       "    </tr>\n",
       "  </thead>\n",
       "  <tbody>\n",
       "    <tr>\n",
       "      <th>2</th>\n",
       "      <td>2</td>\n",
       "      <td>0.348161</td>\n",
       "      <td>Q2</td>\n",
       "      <td>1</td>\n",
       "    </tr>\n",
       "    <tr>\n",
       "      <th>10</th>\n",
       "      <td>10</td>\n",
       "      <td>0.119970</td>\n",
       "      <td>Q11_Part_1</td>\n",
       "      <td>1</td>\n",
       "    </tr>\n",
       "    <tr>\n",
       "      <th>11</th>\n",
       "      <td>11</td>\n",
       "      <td>0.121141</td>\n",
       "      <td>Q11_Part_2</td>\n",
       "      <td>1</td>\n",
       "    </tr>\n",
       "    <tr>\n",
       "      <th>12</th>\n",
       "      <td>12</td>\n",
       "      <td>0.100221</td>\n",
       "      <td>Q11_Part_3</td>\n",
       "      <td>1</td>\n",
       "    </tr>\n",
       "    <tr>\n",
       "      <th>13</th>\n",
       "      <td>13</td>\n",
       "      <td>0.165580</td>\n",
       "      <td>Q11_Part_4</td>\n",
       "      <td>1</td>\n",
       "    </tr>\n",
       "  </tbody>\n",
       "</table>\n",
       "</div>"
      ],
      "text/plain": [
       "    Input Feature Number  Q9 Correlation Input Feature  RFE_Score\n",
       "2                      2        0.348161            Q2          1\n",
       "10                    10        0.119970    Q11_Part_1          1\n",
       "11                    11        0.121141    Q11_Part_2          1\n",
       "12                    12        0.100221    Q11_Part_3          1\n",
       "13                    13        0.165580    Q11_Part_4          1"
      ]
     },
     "execution_count": 66,
     "metadata": {},
     "output_type": "execute_result"
    }
   ],
   "source": [
    "df_feature_eliminated = df_correlation_matrix_Q9[df_correlation_matrix_Q9.RFE_Score < 2]\n",
    "df_feature_eliminated.head()"
   ]
  },
  {
   "cell_type": "code",
   "execution_count": 67,
   "metadata": {},
   "outputs": [
    {
     "name": "stdout",
     "output_type": "stream",
     "text": [
      "180\n"
     ]
    }
   ],
   "source": [
    "print (len(df_feature_eliminated))"
   ]
  },
  {
   "cell_type": "markdown",
   "metadata": {},
   "source": [
    "The above shows that there are 180 features with a RFE_Score or rank of 1. That completes the application of RFE for feature selection. Next as discussed earlier we will now apply the Correlation Coefficient Feature Selection algorithm.\n",
    "\n",
    "To do this lets remove any of the remaining features whose Q9 Correlation is either not greater than 0.065 or less than -0.05."
   ]
  },
  {
   "cell_type": "code",
   "execution_count": 68,
   "metadata": {},
   "outputs": [
    {
     "data": {
      "text/plain": [
       "[-0.13350348434008416,\n",
       " -0.06497969457257968,\n",
       " -0.061845605197134064,\n",
       " -0.06044926429443687,\n",
       " -0.05461493993382639,\n",
       " -0.05131978423545464,\n",
       " -0.04051231233793415,\n",
       " -0.03305226149837841,\n",
       " -0.03223228369295493,\n",
       " -0.0319928624757209,\n",
       " -0.031465212581026636,\n",
       " -0.0283859147668509,\n",
       " -0.025994630336585476,\n",
       " -0.024468446262112583,\n",
       " -0.018552926191048157,\n",
       " -0.01854401022489292,\n",
       " -0.01758500454015166,\n",
       " -0.017422294802640934,\n",
       " -0.014772799992006504,\n",
       " -0.01423599521519102,\n",
       " -0.01279924177162386,\n",
       " -0.008386829639227891,\n",
       " -0.007787439176757095,\n",
       " -0.0064818623259187864,\n",
       " -0.003974368207479398,\n",
       " 0.0006092757497301923,\n",
       " 0.0013419574261217156,\n",
       " 0.004975576926621843,\n",
       " 0.005070995162670478,\n",
       " 0.00730601026495215,\n",
       " 0.008384842855461592,\n",
       " 0.008852705972092563,\n",
       " 0.010313309753067686,\n",
       " 0.010448642765780112,\n",
       " 0.013051611117396084,\n",
       " 0.013469631024639337,\n",
       " 0.013476830003828317,\n",
       " 0.013680109098377165,\n",
       " 0.01424672815948834,\n",
       " 0.014761124962112534,\n",
       " 0.014840644551299003,\n",
       " 0.01522560202647423,\n",
       " 0.01597476631397858,\n",
       " 0.016028422014219043,\n",
       " 0.017200055321779747,\n",
       " 0.018358276383615084,\n",
       " 0.01844245506744029,\n",
       " 0.01890070471918818,\n",
       " 0.019247240095516437,\n",
       " 0.01971499408356609,\n",
       " 0.01999940457937568,\n",
       " 0.02223102061069937,\n",
       " 0.022758653997131326,\n",
       " 0.023286744565495062,\n",
       " 0.024216896434865534,\n",
       " 0.0245187128961037,\n",
       " 0.02537579536337824,\n",
       " 0.025728474619179074,\n",
       " 0.025737513197467234,\n",
       " 0.026378646444124115,\n",
       " 0.026441755617467918,\n",
       " 0.027101695548413754,\n",
       " 0.027236851232419756,\n",
       " 0.0277956177900327,\n",
       " 0.028349647551528787,\n",
       " 0.029602541784908155,\n",
       " 0.029867645426609808,\n",
       " 0.030670014475743412,\n",
       " 0.030750871654175022,\n",
       " 0.030863670859051628,\n",
       " 0.03156356515457537,\n",
       " 0.03245312651295239,\n",
       " 0.032661435248244365,\n",
       " 0.03311767749601848,\n",
       " 0.033156622156245236,\n",
       " 0.03362432242528954,\n",
       " 0.033747520927069466,\n",
       " 0.0344881403819826,\n",
       " 0.03586709707500392,\n",
       " 0.03597408451384438,\n",
       " 0.036179293998916624,\n",
       " 0.0365419578480098,\n",
       " 0.03722428093468314,\n",
       " 0.03765503589896179,\n",
       " 0.037834713309939275,\n",
       " 0.03855761463288066,\n",
       " 0.03909585863924298,\n",
       " 0.039875703740390324,\n",
       " 0.03990200610686889,\n",
       " 0.04020873358564011,\n",
       " 0.040376719544547635,\n",
       " 0.04068921093488354,\n",
       " 0.0408618271802895,\n",
       " 0.041540645661852345,\n",
       " 0.04181627867523729,\n",
       " 0.04183145696094554,\n",
       " 0.04256483569398777,\n",
       " 0.04324847920494289,\n",
       " 0.04432206806382999,\n",
       " 0.04510445314804473,\n",
       " 0.04596188094806075,\n",
       " 0.04690902458133764,\n",
       " 0.04693716269391776,\n",
       " 0.04737214900501035,\n",
       " 0.04808194224612732,\n",
       " 0.048729110180628595,\n",
       " 0.04976482784334527,\n",
       " 0.04978291618880354,\n",
       " 0.05117595896171798,\n",
       " 0.05133762829666062,\n",
       " 0.051579426937571816,\n",
       " 0.05245824570089753,\n",
       " 0.05309902534857936,\n",
       " 0.05360070910972936,\n",
       " 0.054735503036944085,\n",
       " 0.0553810920864623,\n",
       " 0.055384398102922214,\n",
       " 0.05650830780815788,\n",
       " 0.05656761878514057,\n",
       " 0.056608962157808286,\n",
       " 0.05667149863247815,\n",
       " 0.05758244038913592,\n",
       " 0.05787912675060896,\n",
       " 0.05915789154428452,\n",
       " 0.060274551896086194,\n",
       " 0.06247233338176753,\n",
       " 0.06349316208696115,\n",
       " 0.06402195588252677,\n",
       " 0.06418566835843369,\n",
       " 0.0645627960278697,\n",
       " 0.06566235121492617,\n",
       " 0.06583074816258574,\n",
       " 0.06812378339677976,\n",
       " 0.06837568367951487,\n",
       " 0.06844457941656228,\n",
       " 0.06914136144711888,\n",
       " 0.0695966344001384,\n",
       " 0.06960606337650889,\n",
       " 0.06987035021546355,\n",
       " 0.0705036089752946,\n",
       " 0.07618964839585236,\n",
       " 0.07626907587651237,\n",
       " 0.0778928413560154,\n",
       " 0.07844159763460527,\n",
       " 0.07846773347901483,\n",
       " 0.07884619351317938,\n",
       " 0.08022347763945188,\n",
       " 0.08054030522931863,\n",
       " 0.08072181625061241,\n",
       " 0.08179909967948464,\n",
       " 0.08498881696358317,\n",
       " 0.086053643861412,\n",
       " 0.0865947532636325,\n",
       " 0.0871282989926222,\n",
       " 0.08900976782365087,\n",
       " 0.08937018055303017,\n",
       " 0.09348580097600798,\n",
       " 0.09459741625474243,\n",
       " 0.0966318692862695,\n",
       " 0.09894490161162464,\n",
       " 0.10009888553064972,\n",
       " 0.10022136671382992,\n",
       " 0.10085050199425409,\n",
       " 0.10253514863226179,\n",
       " 0.10502343935476127,\n",
       " 0.10703815861964326,\n",
       " 0.10802779139385706,\n",
       " 0.11026249272373999,\n",
       " 0.11246093064697375,\n",
       " 0.1169306725370152,\n",
       " 0.11997029452624922,\n",
       " 0.12114139318868906,\n",
       " 0.1292484468898419,\n",
       " 0.1431445874059983,\n",
       " 0.1502622452044936,\n",
       " 0.1524637596618977,\n",
       " 0.1655797910576675,\n",
       " 0.17309284784607726,\n",
       " 0.17338502747331921,\n",
       " 0.34816106461310337]"
      ]
     },
     "execution_count": 68,
     "metadata": {},
     "output_type": "execute_result"
    }
   ],
   "source": [
    "sorted(df_feature_eliminated['Q9 Correlation'])"
   ]
  },
  {
   "cell_type": "markdown",
   "metadata": {},
   "source": [
    "The code below will eliminate any features with a correlation score to Q9 that is less than 0.05."
   ]
  },
  {
   "cell_type": "code",
   "execution_count": 69,
   "metadata": {},
   "outputs": [],
   "source": [
    "df_feature_eliminated_1 = df_feature_eliminated[df_feature_eliminated['Q9 Correlation'] > 0.05]"
   ]
  },
  {
   "cell_type": "code",
   "execution_count": 70,
   "metadata": {},
   "outputs": [
    {
     "name": "stdout",
     "output_type": "stream",
     "text": [
      "72\n"
     ]
    }
   ],
   "source": [
    "print(len(df_feature_eliminated_1))"
   ]
  },
  {
   "cell_type": "markdown",
   "metadata": {},
   "source": [
    "With that done we can see that there are 43 features with a correlation score higher than the cutoff of 0.05.\n",
    "\n",
    "Next lets also inlcude the features with a correlation score lower than the cutoff of -0.05. This is because a highly negative score means that there is strong inverse correlation between the input feature and target varaible that we still want to capture this data."
   ]
  },
  {
   "cell_type": "code",
   "execution_count": 71,
   "metadata": {},
   "outputs": [],
   "source": [
    "df_feature_eliminated_2 = df_feature_eliminated[df_feature_eliminated['Q9 Correlation'] < (-0.05)]"
   ]
  },
  {
   "cell_type": "code",
   "execution_count": 72,
   "metadata": {},
   "outputs": [
    {
     "name": "stdout",
     "output_type": "stream",
     "text": [
      "6\n"
     ]
    }
   ],
   "source": [
    "print(len(df_feature_eliminated_2))"
   ]
  },
  {
   "cell_type": "markdown",
   "metadata": {},
   "source": [
    "From the code snippet above it is clear that there are 4 features that have a Q9 correlation of less than -0.05."
   ]
  },
  {
   "cell_type": "markdown",
   "metadata": {},
   "source": [
    "Next lets take the two newly generarated dataframes storing the input features which have a either a higher than 0.05 correlation with target variable Q9 and a correlation score lower than -0.05. This will be stored in a new dataframe called \"frames\"."
   ]
  },
  {
   "cell_type": "code",
   "execution_count": 73,
   "metadata": {},
   "outputs": [],
   "source": [
    "frames = [df_feature_eliminated_1, df_feature_eliminated_2]"
   ]
  },
  {
   "cell_type": "code",
   "execution_count": 74,
   "metadata": {},
   "outputs": [],
   "source": [
    "result = pd.concat(frames)"
   ]
  },
  {
   "cell_type": "markdown",
   "metadata": {},
   "source": [
    "With this done lets see how many relevant features we ended up with based on the filtration criteria above."
   ]
  },
  {
   "cell_type": "code",
   "execution_count": 75,
   "metadata": {},
   "outputs": [
    {
     "name": "stdout",
     "output_type": "stream",
     "text": [
      "78\n"
     ]
    }
   ],
   "source": [
    "print(len(result))"
   ]
  },
  {
   "cell_type": "markdown",
   "metadata": {},
   "source": [
    "It looks like we landed on 72 relevant features. Now lets take a look at what those features are. For ease of extraction from the original dataframe lets store these question names in a list called \"relevant_features\"."
   ]
  },
  {
   "cell_type": "code",
   "execution_count": 76,
   "metadata": {},
   "outputs": [],
   "source": [
    "relavant_features = result['Input Feature'].values"
   ]
  },
  {
   "cell_type": "code",
   "execution_count": 77,
   "metadata": {},
   "outputs": [
    {
     "name": "stdout",
     "output_type": "stream",
     "text": [
      "['Q2' 'Q11_Part_1' 'Q11_Part_2' 'Q11_Part_3' 'Q11_Part_4' 'Q13_Part_1'\n",
      " 'Q13_Part_11' 'Q14_Part_4' 'Q15_Part_1' 'Q15_Part_2' 'Q15_Part_3'\n",
      " 'Q16_Part_12' 'Q19_Part_6' 'Q19_Part_17' 'Q21_Part_4' 'Q21_Part_5'\n",
      " 'Q27_Part_1' 'Q27_Part_5' 'Q27_Part_6' 'Q27_Part_10' 'Q27_Part_17'\n",
      " 'Q27_Part_18' 'Q28_Part_3' 'Q28_Part_5' 'Q28_Part_7' 'Q28_Part_13'\n",
      " 'Q28_Part_16' 'Q28_Part_17' 'Q28_Part_18' 'Q28_Part_35' 'Q28_Part_37'\n",
      " 'Q28_Part_39' 'Q28_Part_40' 'Q29_Part_1' 'Q29_Part_2' 'Q29_Part_4'\n",
      " 'Q29_Part_5' 'Q29_Part_6' 'Q29_Part_7' 'Q29_Part_8' 'Q29_Part_9'\n",
      " 'Q29_Part_10' 'Q29_Part_11' 'Q29_Part_21' 'Q29_Part_23' 'Q29_Part_25'\n",
      " 'Q29_Part_26' 'Q30_Part_6' 'Q30_Part_8' 'Q30_Part_9' 'Q30_Part_11'\n",
      " 'Q30_Part_16' 'Q30_Part_21' 'Q30_Part_22' 'Q30_Part_23' 'Q31_Part_4'\n",
      " 'Q31_Part_6' 'Q31_Part_7' 'Q31_Part_10' 'Q38_Part_2' 'Q38_Part_8'\n",
      " 'Q38_Part_10' 'Q38_Part_14' 'Q38_Part_15' 'Q42_Part_1' 'Q45_Part_3'\n",
      " 'Q45_Part_5' 'Q47_Part_2' 'Q47_Part_10' 'Q47_Part_13' 'Q49_Part_2'\n",
      " 'Q49_Part_6' 'Q13_Part_7' 'Q13_Part_9' 'Q15_Part_6' 'Q19_Part_18'\n",
      " 'Q36_Part_6' 'Q38_Part_6']\n"
     ]
    }
   ],
   "source": [
    "print (relavant_features)"
   ]
  },
  {
   "cell_type": "markdown",
   "metadata": {},
   "source": [
    "From above, we can see the question titles of the 72 relevant features based on the feature selection proceudre identified above.\n",
    "\n",
    "Next lets apply these relevant features to the original cleaned dataframe \"df_kaggle_clean_cat\" to get a new dataframe containing only the relevant features and the corresponding cleaned inputs values."
   ]
  },
  {
   "cell_type": "code",
   "execution_count": 78,
   "metadata": {},
   "outputs": [],
   "source": [
    "df_kaggle_feature_eliminated = df_kaggle_clean_cat[relavant_features]"
   ]
  },
  {
   "cell_type": "code",
   "execution_count": 79,
   "metadata": {},
   "outputs": [
    {
     "data": {
      "text/html": [
       "<div>\n",
       "<style scoped>\n",
       "    .dataframe tbody tr th:only-of-type {\n",
       "        vertical-align: middle;\n",
       "    }\n",
       "\n",
       "    .dataframe tbody tr th {\n",
       "        vertical-align: top;\n",
       "    }\n",
       "\n",
       "    .dataframe thead th {\n",
       "        text-align: right;\n",
       "    }\n",
       "</style>\n",
       "<table border=\"1\" class=\"dataframe\">\n",
       "  <thead>\n",
       "    <tr style=\"text-align: right;\">\n",
       "      <th></th>\n",
       "      <th>Q2</th>\n",
       "      <th>Q11_Part_1</th>\n",
       "      <th>Q11_Part_2</th>\n",
       "      <th>Q11_Part_3</th>\n",
       "      <th>Q11_Part_4</th>\n",
       "      <th>Q13_Part_1</th>\n",
       "      <th>Q13_Part_11</th>\n",
       "      <th>Q14_Part_4</th>\n",
       "      <th>Q15_Part_1</th>\n",
       "      <th>Q15_Part_2</th>\n",
       "      <th>...</th>\n",
       "      <th>Q47_Part_10</th>\n",
       "      <th>Q47_Part_13</th>\n",
       "      <th>Q49_Part_2</th>\n",
       "      <th>Q49_Part_6</th>\n",
       "      <th>Q13_Part_7</th>\n",
       "      <th>Q13_Part_9</th>\n",
       "      <th>Q15_Part_6</th>\n",
       "      <th>Q19_Part_18</th>\n",
       "      <th>Q36_Part_6</th>\n",
       "      <th>Q38_Part_6</th>\n",
       "    </tr>\n",
       "  </thead>\n",
       "  <tbody>\n",
       "    <tr>\n",
       "      <th>1</th>\n",
       "      <td>3</td>\n",
       "      <td>0</td>\n",
       "      <td>0</td>\n",
       "      <td>0</td>\n",
       "      <td>0</td>\n",
       "      <td>0</td>\n",
       "      <td>0</td>\n",
       "      <td>0</td>\n",
       "      <td>0</td>\n",
       "      <td>0</td>\n",
       "      <td>...</td>\n",
       "      <td>0</td>\n",
       "      <td>0</td>\n",
       "      <td>0</td>\n",
       "      <td>0</td>\n",
       "      <td>0</td>\n",
       "      <td>0</td>\n",
       "      <td>1</td>\n",
       "      <td>1</td>\n",
       "      <td>0</td>\n",
       "      <td>0</td>\n",
       "    </tr>\n",
       "    <tr>\n",
       "      <th>4</th>\n",
       "      <td>4</td>\n",
       "      <td>0</td>\n",
       "      <td>0</td>\n",
       "      <td>0</td>\n",
       "      <td>0</td>\n",
       "      <td>0</td>\n",
       "      <td>0</td>\n",
       "      <td>0</td>\n",
       "      <td>1</td>\n",
       "      <td>0</td>\n",
       "      <td>...</td>\n",
       "      <td>0</td>\n",
       "      <td>0</td>\n",
       "      <td>0</td>\n",
       "      <td>0</td>\n",
       "      <td>0</td>\n",
       "      <td>0</td>\n",
       "      <td>0</td>\n",
       "      <td>1</td>\n",
       "      <td>0</td>\n",
       "      <td>0</td>\n",
       "    </tr>\n",
       "    <tr>\n",
       "      <th>6</th>\n",
       "      <td>3</td>\n",
       "      <td>0</td>\n",
       "      <td>1</td>\n",
       "      <td>1</td>\n",
       "      <td>0</td>\n",
       "      <td>1</td>\n",
       "      <td>0</td>\n",
       "      <td>0</td>\n",
       "      <td>0</td>\n",
       "      <td>1</td>\n",
       "      <td>...</td>\n",
       "      <td>0</td>\n",
       "      <td>0</td>\n",
       "      <td>0</td>\n",
       "      <td>1</td>\n",
       "      <td>0</td>\n",
       "      <td>0</td>\n",
       "      <td>0</td>\n",
       "      <td>0</td>\n",
       "      <td>0</td>\n",
       "      <td>0</td>\n",
       "    </tr>\n",
       "    <tr>\n",
       "      <th>7</th>\n",
       "      <td>5</td>\n",
       "      <td>0</td>\n",
       "      <td>1</td>\n",
       "      <td>0</td>\n",
       "      <td>0</td>\n",
       "      <td>0</td>\n",
       "      <td>0</td>\n",
       "      <td>0</td>\n",
       "      <td>0</td>\n",
       "      <td>1</td>\n",
       "      <td>...</td>\n",
       "      <td>0</td>\n",
       "      <td>0</td>\n",
       "      <td>0</td>\n",
       "      <td>1</td>\n",
       "      <td>1</td>\n",
       "      <td>1</td>\n",
       "      <td>0</td>\n",
       "      <td>0</td>\n",
       "      <td>1</td>\n",
       "      <td>0</td>\n",
       "    </tr>\n",
       "    <tr>\n",
       "      <th>9</th>\n",
       "      <td>2</td>\n",
       "      <td>1</td>\n",
       "      <td>0</td>\n",
       "      <td>0</td>\n",
       "      <td>1</td>\n",
       "      <td>1</td>\n",
       "      <td>1</td>\n",
       "      <td>0</td>\n",
       "      <td>1</td>\n",
       "      <td>1</td>\n",
       "      <td>...</td>\n",
       "      <td>1</td>\n",
       "      <td>0</td>\n",
       "      <td>0</td>\n",
       "      <td>1</td>\n",
       "      <td>1</td>\n",
       "      <td>1</td>\n",
       "      <td>0</td>\n",
       "      <td>0</td>\n",
       "      <td>0</td>\n",
       "      <td>0</td>\n",
       "    </tr>\n",
       "  </tbody>\n",
       "</table>\n",
       "<p>5 rows × 78 columns</p>\n",
       "</div>"
      ],
      "text/plain": [
       "   Q2  Q11_Part_1  Q11_Part_2  Q11_Part_3  Q11_Part_4  Q13_Part_1  \\\n",
       "1   3           0           0           0           0           0   \n",
       "4   4           0           0           0           0           0   \n",
       "6   3           0           1           1           0           1   \n",
       "7   5           0           1           0           0           0   \n",
       "9   2           1           0           0           1           1   \n",
       "\n",
       "   Q13_Part_11  Q14_Part_4  Q15_Part_1  Q15_Part_2     ...      Q47_Part_10  \\\n",
       "1            0           0           0           0     ...                0   \n",
       "4            0           0           1           0     ...                0   \n",
       "6            0           0           0           1     ...                0   \n",
       "7            0           0           0           1     ...                0   \n",
       "9            1           0           1           1     ...                1   \n",
       "\n",
       "   Q47_Part_13  Q49_Part_2  Q49_Part_6  Q13_Part_7  Q13_Part_9  Q15_Part_6  \\\n",
       "1            0           0           0           0           0           1   \n",
       "4            0           0           0           0           0           0   \n",
       "6            0           0           1           0           0           0   \n",
       "7            0           0           1           1           1           0   \n",
       "9            0           0           1           1           1           0   \n",
       "\n",
       "   Q19_Part_18  Q36_Part_6  Q38_Part_6  \n",
       "1            1           0           0  \n",
       "4            1           0           0  \n",
       "6            0           0           0  \n",
       "7            0           1           0  \n",
       "9            0           0           0  \n",
       "\n",
       "[5 rows x 78 columns]"
      ]
     },
     "execution_count": 79,
     "metadata": {},
     "output_type": "execute_result"
    }
   ],
   "source": [
    "df_kaggle_feature_eliminated.head()"
   ]
  },
  {
   "cell_type": "markdown",
   "metadata": {},
   "source": [
    "As a sanity check lets make sure the length of the dataframe is still 11,921 as this is length of answers from the \"df_clean_cat\" prior to feature elimination."
   ]
  },
  {
   "cell_type": "code",
   "execution_count": 80,
   "metadata": {},
   "outputs": [
    {
     "name": "stdout",
     "output_type": "stream",
     "text": [
      "11921\n"
     ]
    }
   ],
   "source": [
    "print (len(df_kaggle_feature_eliminated))"
   ]
  },
  {
   "cell_type": "code",
   "execution_count": 81,
   "metadata": {},
   "outputs": [
    {
     "data": {
      "text/plain": [
       "(11921, 78)"
      ]
     },
     "execution_count": 81,
     "metadata": {},
     "output_type": "execute_result"
    }
   ],
   "source": [
    "df_kaggle_feature_eliminated.shape"
   ]
  },
  {
   "cell_type": "code",
   "execution_count": 82,
   "metadata": {},
   "outputs": [
    {
     "data": {
      "text/plain": [
       "(11921, 1)"
      ]
     },
     "execution_count": 82,
     "metadata": {},
     "output_type": "execute_result"
    }
   ],
   "source": [
    "y_df.shape"
   ]
  },
  {
   "cell_type": "markdown",
   "metadata": {},
   "source": [
    "Next lets setup the train and test sets."
   ]
  },
  {
   "cell_type": "code",
   "execution_count": 83,
   "metadata": {},
   "outputs": [],
   "source": [
    "X_train_set, X_test_set, y_train_set, y_test_set = train_test_split(df_kaggle_feature_eliminated, y_df, test_size = 0.3, random_state = 1)"
   ]
  },
  {
   "cell_type": "markdown",
   "metadata": {},
   "source": [
    "A quick sanity check should be done on the train and test set to ensure that the indicies of the input data match the indicies of the target data after the train_test_split call."
   ]
  },
  {
   "cell_type": "code",
   "execution_count": 84,
   "metadata": {},
   "outputs": [
    {
     "name": "stdout",
     "output_type": "stream",
     "text": [
      "       Q2  Q11_Part_1  Q11_Part_2  Q11_Part_3  Q11_Part_4  Q13_Part_1  \\\n",
      "7307    3           0           0           1           0           1   \n",
      "9094    5           0           0           0           0           0   \n",
      "12176   0           0           0           0           0           0   \n",
      "6487    6           0           0           0           0           1   \n",
      "3400    3           1           1           1           1           0   \n",
      "\n",
      "       Q13_Part_11  Q14_Part_4  Q15_Part_1  Q15_Part_2     ...      \\\n",
      "7307             0           0           0           0     ...       \n",
      "9094             0           0           0           0     ...       \n",
      "12176            0           0           0           0     ...       \n",
      "6487             0           0           1           1     ...       \n",
      "3400             0           0           1           1     ...       \n",
      "\n",
      "       Q47_Part_10  Q47_Part_13  Q49_Part_2  Q49_Part_6  Q13_Part_7  \\\n",
      "7307             0            0           0           1           1   \n",
      "9094             0            1           0           0           0   \n",
      "12176            0            0           0           0           0   \n",
      "6487             0            0           0           0           0   \n",
      "3400             0            0           1           0           0   \n",
      "\n",
      "       Q13_Part_9  Q15_Part_6  Q19_Part_18  Q36_Part_6  Q38_Part_6  \n",
      "7307            1           1            0           0           0  \n",
      "9094            0           1            0           0           0  \n",
      "12176           0           0            0           0           0  \n",
      "6487            1           0            0           1           0  \n",
      "3400            0           0            0           0           1  \n",
      "\n",
      "[5 rows x 78 columns]\n",
      "           Q9\n",
      "7307    75035\n",
      "9094     6274\n",
      "12176  111149\n",
      "6487    55958\n",
      "3400   192589\n"
     ]
    }
   ],
   "source": [
    "print(X_train_set.head())\n",
    "print(y_train_set.head())"
   ]
  },
  {
   "cell_type": "markdown",
   "metadata": {},
   "source": [
    "### 4.0 Model Implementation\n",
    "\n",
    "The four different regression/prediction algorthms that will be implemented are  are:\n",
    "    - 'Lasso': linear_model.Lasso(), #KEEP\n",
    "    - 'Ridge': linear_model.Ridge(alpha=.5),\n",
    "    - 'rfr': RandomForestRegressor(),\n",
    "    - 'GBR': GradientBoostingRegressor(learning_rate = 0.1,\n",
    "                                random_state = 1234)"
   ]
  },
  {
   "cell_type": "markdown",
   "metadata": {},
   "source": [
    "Next lets setup the models to be examined. See above for the listing of which models will be explored. Note no hyper parameter tuning has been conducted on these models. These are the models implemented with default settings. \n",
    "\n",
    "We will also setup a dataframe called resultDF that will hold the model name, hyperparameters, train_acc, train_std, test_acc, test_std.\n",
    "\n",
    "df_idx will be declared at 0 to hold the index of dataframe."
   ]
  },
  {
   "cell_type": "code",
   "execution_count": 85,
   "metadata": {},
   "outputs": [],
   "source": [
    "resultDF = pd.DataFrame(columns=['model','hyperparams','train_acc','train_std','test_acc','test_std'])\n",
    "df_idx = 0"
   ]
  },
  {
   "cell_type": "markdown",
   "metadata": {},
   "source": [
    "The models will be held in a set called \"models\". This will allow us to loop through cross valdiation making it easier to evaluate all models. Note this code has been modified from the example posted by the professor."
   ]
  },
  {
   "cell_type": "code",
   "execution_count": 86,
   "metadata": {},
   "outputs": [],
   "source": [
    "models = {\n",
    "    'Lasso': linear_model.Lasso(), #KEEP\n",
    "    'Ridge': linear_model.Ridge(alpha=.5),\n",
    "    'rfr': RandomForestRegressor(),\n",
    "    'GBR': GradientBoostingRegressor(learning_rate = 0.1,\n",
    "                                random_state = 1234)\n",
    "}"
   ]
  },
  {
   "cell_type": "markdown",
   "metadata": {},
   "source": [
    "Lets now setup the cross validate function that will loop through the various models above with their default values with 10 folds to determine an R2 Score along with standard deviation. The individual fold R2 Scores will also be displayed."
   ]
  },
  {
   "cell_type": "code",
   "execution_count": 87,
   "metadata": {},
   "outputs": [],
   "source": [
    "def crossValidate(typ, model, X, y, hyperparams='default', verbose=0):\n",
    "    global df_idx\n",
    "    verbose = 2\n",
    "    # Update model hyperparameters if given\n",
    "    if hyperparams is not 'default':\n",
    "        model.set_params(**hyperparams)\n",
    "    \n",
    "    # Initialize scaler class\n",
    "    #scaler = StandardScaler()\n",
    "    \n",
    "    # Get kFolds\n",
    "    kfold = KFold(n_splits=10)\n",
    "    kfold.get_n_splits(X)\n",
    "\n",
    "    # Initialize storage vectors\n",
    "    trainACC = np.zeros(10)\n",
    "    testACC = np.zeros(10)\n",
    "    np_idx = 0\n",
    "\n",
    "    # Loop through folds\n",
    "    for train_idx, test_idx in kfold.split(X):\n",
    "        X_train, X_test = X.values[train_idx], X.values[test_idx]\n",
    "        y_train, y_test = y.values[train_idx], y.values[test_idx]\n",
    "\n",
    "        # Scale data\n",
    "        #X_train = scaler.fit_transform(X_train)\n",
    "        #X_test = scaler.transform(X_test)\n",
    "\n",
    "        # Fit to training set\n",
    "        model.fit(X_train, y_train.ravel()) #ADD RAVEL HERE IF NECCESSARY\n",
    "\n",
    "        # Make predictions on testing set\n",
    "        y_train_pred = model.predict(X_train)\n",
    "        y_test_pred = model.predict(X_test)\n",
    "        \n",
    "        # Compute training and testing accuracy\n",
    "        trainACC[np_idx] = r2_score(y_train, y_train_pred)*100\n",
    "        testACC[np_idx] = r2_score(y_test, y_test_pred)*100\n",
    "        # Print fold accuracy if verbose level 2\n",
    "        if verbose == 2:\n",
    "            print (\"    Fold {}: Accuracy: {}%\".format(np_idx+1, round(testACC[np_idx],2)))   \n",
    "            \n",
    "        #print ('Fold', np_idx, 'Accuracy ', round(testACC[np_idx],2), '%')\n",
    "        np_idx += 1\n",
    "\n",
    "\n",
    "\n",
    "    # Print average accuracy if verbose level 1\n",
    "    if verbose == 2:\n",
    "        print (\"  Average Score: {}%({}%)\".format(round(np.mean(testACC),3),round(np.std(testACC),3)))\n",
    "    \n",
    "    # Update dataframe\n",
    "    resultDF.loc[df_idx, 'model'] = typ\n",
    "    resultDF.loc[df_idx, 'hyperparams'] = str(hyperparams)\n",
    "    resultDF.loc[df_idx, 'train_acc'] = trainACC.mean()\n",
    "    resultDF.loc[df_idx, 'train_std'] = trainACC.std()\n",
    "    resultDF.loc[df_idx, 'test_acc'] = testACC.mean()\n",
    "    resultDF.loc[df_idx, 'test_std'] = testACC.std()\n",
    "    df_idx += 1                                         \n",
    "                                         \n",
    "    # Return average testing accuracy, and fitted model\n",
    "    return testACC.mean(), model"
   ]
  },
  {
   "cell_type": "markdown",
   "metadata": {},
   "source": [
    "With the function defined, lets now setup the for loop which will cycle through the models identified above sequentially calling the crossValidate function defined above. The outputs of this will be the fold accuracies of the various models along with the mean R2 Score and Standard Deviation."
   ]
  },
  {
   "cell_type": "code",
   "execution_count": 88,
   "metadata": {},
   "outputs": [
    {
     "name": "stdout",
     "output_type": "stream",
     "text": [
      "Fitting Lasso model\n",
      "    Fold 1: Accuracy: 21.63%\n",
      "    Fold 2: Accuracy: 29.52%\n",
      "    Fold 3: Accuracy: 21.98%\n",
      "    Fold 4: Accuracy: 21.11%\n",
      "    Fold 5: Accuracy: 19.88%\n",
      "    Fold 6: Accuracy: 21.4%\n",
      "    Fold 7: Accuracy: 25.96%\n",
      "    Fold 8: Accuracy: 28.62%\n",
      "    Fold 9: Accuracy: 19.3%\n",
      "    Fold 10: Accuracy: 24.81%\n",
      "  Average Score: 23.42%(3.417%)\n",
      "Fitting Ridge model\n",
      "    Fold 1: Accuracy: 21.63%\n",
      "    Fold 2: Accuracy: 29.52%\n",
      "    Fold 3: Accuracy: 21.98%\n",
      "    Fold 4: Accuracy: 21.12%\n",
      "    Fold 5: Accuracy: 19.88%\n",
      "    Fold 6: Accuracy: 21.4%\n",
      "    Fold 7: Accuracy: 25.97%\n",
      "    Fold 8: Accuracy: 28.61%\n",
      "    Fold 9: Accuracy: 19.31%\n",
      "    Fold 10: Accuracy: 24.81%\n",
      "  Average Score: 23.424%(3.417%)\n",
      "Fitting rfr model\n"
     ]
    },
    {
     "name": "stderr",
     "output_type": "stream",
     "text": [
      "C:\\Users\\btarras\\AppData\\Local\\Continuum\\anaconda3\\lib\\site-packages\\sklearn\\ensemble\\forest.py:246: FutureWarning: The default value of n_estimators will change from 10 in version 0.20 to 100 in 0.22.\n",
      "  \"10 in version 0.20 to 100 in 0.22.\", FutureWarning)\n"
     ]
    },
    {
     "name": "stdout",
     "output_type": "stream",
     "text": [
      "    Fold 1: Accuracy: 6.62%\n",
      "    Fold 2: Accuracy: 12.43%\n",
      "    Fold 3: Accuracy: 12.83%\n",
      "    Fold 4: Accuracy: 5.63%\n",
      "    Fold 5: Accuracy: 9.47%\n",
      "    Fold 6: Accuracy: 7.69%\n",
      "    Fold 7: Accuracy: 12.64%\n",
      "    Fold 8: Accuracy: 7.21%\n",
      "    Fold 9: Accuracy: 4.52%\n",
      "    Fold 10: Accuracy: 14.0%\n",
      "  Average Score: 9.305%(3.257%)\n",
      "Fitting GBR model\n",
      "    Fold 1: Accuracy: 22.07%\n",
      "    Fold 2: Accuracy: 26.16%\n",
      "    Fold 3: Accuracy: 29.45%\n",
      "    Fold 4: Accuracy: 24.93%\n",
      "    Fold 5: Accuracy: 21.84%\n",
      "    Fold 6: Accuracy: 21.91%\n",
      "    Fold 7: Accuracy: 30.71%\n",
      "    Fold 8: Accuracy: 27.11%\n",
      "    Fold 9: Accuracy: 18.78%\n",
      "    Fold 10: Accuracy: 28.66%\n",
      "  Average Score: 25.161%(3.717%)\n"
     ]
    }
   ],
   "source": [
    "for name, m in models.items():\n",
    "    print (\"Fitting \" + name + \" model\")\n",
    "    _, models[name] = crossValidate(name, m, X_train_set, y_train_set, 'default', 1)"
   ]
  },
  {
   "cell_type": "markdown",
   "metadata": {},
   "source": [
    "As can be seen above the models overall perform rather poorly. The mean accuracies and the standard deviation for each of the models can be seen below at the time of running:\n",
    "    - Linear Lasso Model:\n",
    "        - Mean R2 Score = 23.382%\n",
    "        - Standard Deviation of R2 Score = 3.412%\n",
    "    - Linear Ridge Model\n",
    "        - Mean R2 Score = 23.386%\n",
    "        - Standard Deviation of R2 Score = 3.41%\n",
    "    - Random Forest Regression Model\n",
    "        - Mean R2 Score = 9.056%\n",
    "        - Standard Deviation of R2 Score = 5.463%\n",
    "    - Gradient Boosting Regression Model\n",
    "        - Mean R2 Score = 25.233%\n",
    "        - Standard Deviation of R2 Score = 4.081%\n",
    "\n",
    "To evaluate models in regression or multiple regressors on a specifc domain performance measures must be used. For the purposes of this assignment the R2 Score or the coefficient of determination will be used. In regression, the R2 coefficient of determination is a statistical measure of how well the regression predictions approximate the real data points. \n",
    "\n",
    "The Sklearn implementation of R2 has a best possible score of 1.0 or 100% and the result can be negative as the model can be arbitarily worse than a line through the mean of data. A constant model that always predicts the expected value of y, disregarding the input features, would recieve a R2 score of 0.0 or 0.0%.\n",
    "\n",
    "As can be seen above the model which performs the best with default parameters is the Gradient Boosting Regression Model with a Mean R2 Score of 25.233% and a standard deviation of 4.081%.\n",
    "\n",
    "Error is defined by the following equation: error = bias + variance. The bias is an error from erroneous assumptions in the learning algorithm. If  predictions are close to the original target, then it is said that we have a low bias. High bias can cause an algorithm to miss the relevant relations between features and target outputs (underfitting). The variance is an error from sensitivity to small fluctuations in the training set. It measures the spread or variations in predictions. High variance can cause an algorithm to model the random noise in the training data, rather than the intended outputs (overfitting).\n",
    "\n",
    "In statistics and machine learning, lasso (least absolute shrinkage and selection operator; also Lasso or LASSO) is a regression analysis method that performs both variable selection and regularization in order to enhance the prediction accuracy and interpretability of the statistical model it produces. Lasso regression is an extension of the linear regression which performs both variable selection and regularization. Lasso regression trades off an increase in bias with a decrease in variance. However, Lasso regression goes to an extent where it enforces the β coefficients to become 0. The main difference from Ridge regression is that the regularization term is in absolute value. The Lasso method not only punishes high values of the coefficients β but actually sets them to zero if they are not relevant. Therefore, you can end up with fewer features in in the model than you started with, which can be beneficial for preventing the curse of dimensionality. Lasso Regression was selected as it is a beter method for linear regression and will provide a good baseline for model comparisons.|\n",
    "    - Pros: \n",
    "        - Allows for elimination of irrlevant features by setting beta coefficients to 0\n",
    "        - Reduces Dimensionalty\n",
    "        - Helps to reduce overfitting of the model\n",
    "    - Cons: \n",
    "        - The lasso implementation above is a linear model fit to the data can be restrictive in terms of regession accuracy especially in cases where dimensionality after regualrization is still large\n",
    "\n",
    "Ridge Regression is a technique for analyzing multiple regression data. Ridge regression is an extension of Linear regression. It is a regularization method which tries to avoid overfitting of data by penalizing large coefficients. Ridge regression has an additional factor called λ (lambda) which is called the penalty factor which is added while estimating beta coefficients. This penalty factor penalizes high value of beta which in turn shrinks beta coefficients thereby reducing the mean squared error and predicted error. An important note that should be mentioned about ridge regression is that it forces the β coefficients to be lower, but it does not allow them to be zero. That is, it will not get rid of irrelevant features but rather minimize their impact on the trained model. Ridge Regression was selected as it would be interesting to compare performance with Lasso and also allows for regularization of input features.\n",
    "    - Pros: \n",
    "        - Allows for reduced impact of irrelevant features by reducing beta coefficients\n",
    "        - Helps to reduce overfitting of the model\n",
    "    - Cons: \n",
    "        - The ridge implementation above is a linear model fit to the data can be restrictive in terms of regession accuracy especially in cases where dimensionality is large\n",
    "\n",
    "Gradient boosting is an ensemble method based on weak learners (with high bias, low variance). Boosting reduces error by primairly reducing bias and to some extent variance as well through the aggregation of the output from many models. Gradient Boosting builds an additive model in a forward stage-wise manner. It allows for the optimization of arbitrary differentiable loss functions. In each stage a regression tree is fit on the negative gradient of the given loss function. Gradient Boosting is typcially used in regression modelling, and will provide a good contrast to the lienar techniques identified above thus it makes it a good option for modelling.\n",
    "    - Pros:\n",
    "        - Since boosted trees are derived by optimizing an objective function, basically GBM can be used to solve almost all objective function that we can write gradient out. This including things like ranking and poission regression, which RF is harder to achieve.\n",
    "    - Cons:\n",
    "        - GBMs are more sensitive to overfitting if the data is noisy.\n",
    "        - Training generally takes longer because of the fact that trees are built sequentially.\n",
    "        - GBMs are harder to tune than RF. There are typically three parameters: number of trees, depth of trees and learning rate, and the each tree built is generally shallow.\n",
    "\n",
    "In contrast Random Forest is also a ensemble method which uses fully grown decision trees which have low bias, and high variance. A random forest is a estimator that fits a number of decision trees on various sub-samples of the dataset and uses averaging to improve the predictive accuracy and control over-fitting. In essence it attempts to solve error reduction in the opposite manner to Gradient Boosting in that it reduces variance. The trees are made not correlated to one another such to maximize the reduction in variance. But the algorithm can't reduce bias. This algorithm was chosen as it typcially has high accuracy in domains with large number of features and it is a sum of a piecewise function which may allow for better fitting of the data.\n",
    "    - Pros: \n",
    "        - A single decision tree tends to overfit the data. The process of averaging or combining the results of different decision trees helps to overcome the problem of overfitting.\n",
    "        - Random forests also have less variance than a single decision tree. It means that it works correctly for a large range of data items than single decision trees.\n",
    "        - They also do not require preparation of the input data. You do not have to scale the data.\n",
    "    - Cons:\n",
    "        - The main disadvantage of Random forests is their complexity. They are much harder and time-consuming to construct than decision trees.\n",
    "        - They also require more computational resources and are also less intuitive. When you have a large collection of decision trees it is hard to have an intuitive grasp of the relationship existing in the input data.\n",
    "        - In addition, the prediction process using random forests is time-consuming than other algorithms.\n",
    "\n",
    "Thus it stands to reason that the Gradient Boosting Algorithm has a greater potential for error reduction as it is starting with low variance and optimizing to reduce bias while also reducing variance through the aggregaion of the output of multiple models as where Random Forests can only optimize the reduction of variance.\n",
    "\n",
    "A true comparison of which model is the best for this application should occur after hyperparameter optimization. This will be explored in the next section 5.0 Model Tuning."
   ]
  },
  {
   "cell_type": "markdown",
   "metadata": {},
   "source": [
    "### 5.0 Model Tuning\n",
    "\n",
    "With the baseline models implemented, lets jump into tuning of the models to see if we can increase the accuracies."
   ]
  },
  {
   "cell_type": "markdown",
   "metadata": {},
   "source": [
    "Lets start off with declaring a list to hold the tuned model performances."
   ]
  },
  {
   "cell_type": "code",
   "execution_count": 89,
   "metadata": {},
   "outputs": [],
   "source": [
    "tuned_model_performance = 4*[0]"
   ]
  },
  {
   "cell_type": "markdown",
   "metadata": {},
   "source": [
    "Next lets run gridsearch on the linear lasso model. As mentioned in the assignment, the code block for this has been commented out due to high run times. The optimal parameters as a result of running this have been printed and hardcoded below."
   ]
  },
  {
   "cell_type": "code",
   "execution_count": 236,
   "metadata": {},
   "outputs": [],
   "source": [
    "#DO NOT RUN THIS CELL\n",
    "\n",
    "#reg_gridsearch = linear_model.Lasso()\n",
    "#Parameters to test\n",
    "#parameters = {'alpha':[0.5,1,3,5,6,7,10], # Constant that multiplies the L1 term. Defaults to 1.0.\n",
    "#             'normalize':[True,False]} #\n",
    "\n",
    "# Compare parameters by score of model \n",
    "#acc_scorer_lm = make_scorer(r2_score)\n",
    "\n",
    "# Run the grid search\n",
    "#grid_obj_lm = GridSearchCV(reg_gridsearch, parameters, scoring=acc_scorer_lm, cv = 5)\n",
    "#grid_obj_lm = grid_obj_lm.fit(X_train_set, y_train_set)\n",
    "\n",
    "#reg_gridsearch = grid_obj_lm.best_estimator_  #Select best parameter combination"
   ]
  },
  {
   "cell_type": "code",
   "execution_count": 237,
   "metadata": {},
   "outputs": [
    {
     "data": {
      "text/plain": [
       "Lasso(alpha=7, copy_X=True, fit_intercept=True, max_iter=1000, normalize=True,\n",
       "   positive=False, precompute=False, random_state=None, selection='cyclic',\n",
       "   tol=0.0001, warm_start=False)"
      ]
     },
     "execution_count": 237,
     "metadata": {},
     "output_type": "execute_result"
    }
   ],
   "source": [
    "#DO NOT RUN THIS CELL\n",
    "\n",
    "#reg_gridsearch # print out the optimal params so grid search does not need to be rerun"
   ]
  },
  {
   "cell_type": "markdown",
   "metadata": {},
   "source": [
    "The optimal parameters from the result of running gridsearch cv on the linear lasso model is printed above (only present if you run the gridsearch uncommented). These are hardcoded into the linear optimal model (reg_gridsearch_optimal) model below."
   ]
  },
  {
   "cell_type": "code",
   "execution_count": 90,
   "metadata": {},
   "outputs": [],
   "source": [
    "reg_gridsearch_optimal = linear_model.Lasso(alpha=7, copy_X=True, fit_intercept=True, max_iter=1000, normalize=True,\n",
    "   positive=False, precompute=False, random_state=None, selection='cyclic',\n",
    "   tol=0.0001, warm_start=False)"
   ]
  },
  {
   "cell_type": "markdown",
   "metadata": {},
   "source": [
    "With the optimal parameters harcoded lets examine the model accuracy on the entriety of the training set."
   ]
  },
  {
   "cell_type": "code",
   "execution_count": 91,
   "metadata": {},
   "outputs": [
    {
     "name": "stdout",
     "output_type": "stream",
     "text": [
      "0.25028165722151674\n"
     ]
    }
   ],
   "source": [
    "reg_gridsearch_optimal.fit(X_train_set, y_train_set)\n",
    "tuned_model_performance[0] = reg_gridsearch_optimal.score(X_train_set, y_train_set)\n",
    "print (tuned_model_performance[0])"
   ]
  },
  {
   "cell_type": "markdown",
   "metadata": {},
   "source": [
    "As can be seen the optimal Linear Lasso Model's R2 Score on the training set is 25.03%. Comparing this to the untuned model's R2 Score of 23.382% we can see a marginal increase in model accuracy. Below we will print parameters that allowed for optimization of the Linear Lasso Model."
   ]
  },
  {
   "cell_type": "code",
   "execution_count": 92,
   "metadata": {},
   "outputs": [
    {
     "name": "stdout",
     "output_type": "stream",
     "text": [
      "alpha (Constant that multiplies the L1 term): 7\n",
      "normalize: True\n"
     ]
    }
   ],
   "source": [
    "print('alpha (Constant that multiplies the L1 term):',reg_gridsearch_optimal.alpha) \n",
    "print('normalize:',reg_gridsearch_optimal.normalize)"
   ]
  },
  {
   "cell_type": "markdown",
   "metadata": {},
   "source": [
    "Next lets run hyperparameter turing for the Random Forest model. Similar to the above this is commented out due to run times. The optimal parameters will be hard coded below."
   ]
  },
  {
   "cell_type": "code",
   "execution_count": 241,
   "metadata": {},
   "outputs": [
    {
     "name": "stdout",
     "output_type": "stream",
     "text": [
      "Fitting 5 folds for each of 288 candidates, totalling 1440 fits\n"
     ]
    },
    {
     "name": "stderr",
     "output_type": "stream",
     "text": [
      "[Parallel(n_jobs=-1)]: Using backend LokyBackend with 8 concurrent workers.\n",
      "[Parallel(n_jobs=-1)]: Done  25 tasks      | elapsed:    8.5s\n",
      "[Parallel(n_jobs=-1)]: Done 146 tasks      | elapsed:   44.9s\n",
      "[Parallel(n_jobs=-1)]: Done 349 tasks      | elapsed:  1.9min\n",
      "[Parallel(n_jobs=-1)]: Done 632 tasks      | elapsed:  3.4min\n",
      "[Parallel(n_jobs=-1)]: Done 997 tasks      | elapsed:  5.3min\n",
      "[Parallel(n_jobs=-1)]: Done 1440 out of 1440 | elapsed:  7.8min finished\n"
     ]
    }
   ],
   "source": [
    "# DO NOT RUN THIS CELL\n",
    "\n",
    "#reg_gridsearch_rfr = RandomForestRegressor()\n",
    "\n",
    "#Parameters to test\n",
    "#parameters_rfr = {'bootstrap': [True],\n",
    "#    'max_depth': [80, 90, 100, 110],\n",
    "#    'max_features': [2, 3],\n",
    "#    'min_samples_leaf': [3, 4, 5],\n",
    "#    'min_samples_split': [8, 10, 12],\n",
    "#    'n_estimators': [100, 200, 300, 1000]}\n",
    "\n",
    "\n",
    "# Compare parameters by score of model \n",
    "#acc_scorer_rfr = make_scorer(r2_score)\n",
    "\n",
    "# Run the grid search\n",
    "#grid_obj_rfr = GridSearchCV(estimator = reg_gridsearch_rfr, param_grid = parameters_rfr, cv = 5, n_jobs = -1, verbose = 2, scoring=acc_scorer_rfr)\n",
    "#grid_obj_rfr = grid_obj_rfr.fit(X_train_set, y_train_set.values.ravel())\n",
    "\n",
    "#reg_gridsearch_rfr = grid_obj_rfr.best_estimator_  #Select best parameter combination"
   ]
  },
  {
   "cell_type": "code",
   "execution_count": 242,
   "metadata": {},
   "outputs": [
    {
     "data": {
      "text/plain": [
       "RandomForestRegressor(bootstrap=True, criterion='mse', max_depth=90,\n",
       "           max_features=3, max_leaf_nodes=None, min_impurity_decrease=0.0,\n",
       "           min_impurity_split=None, min_samples_leaf=3,\n",
       "           min_samples_split=8, min_weight_fraction_leaf=0.0,\n",
       "           n_estimators=100, n_jobs=None, oob_score=False,\n",
       "           random_state=None, verbose=0, warm_start=False)"
      ]
     },
     "execution_count": 242,
     "metadata": {},
     "output_type": "execute_result"
    }
   ],
   "source": [
    "# DO NOT RUN THIS CELL\n",
    "\n",
    "#reg_gridsearch_rfr # print out the optimal params so grid search does not need to be rerun"
   ]
  },
  {
   "cell_type": "markdown",
   "metadata": {},
   "source": [
    "The optimal parameters from runing gridsearch CV on the random forest regression model is stored in the model \"reg_gridsearch_optimal_rfr\" below."
   ]
  },
  {
   "cell_type": "code",
   "execution_count": 93,
   "metadata": {},
   "outputs": [],
   "source": [
    "reg_gridsearch_optimal_rfr = RandomForestRegressor(bootstrap=True, criterion='mse', max_depth=90,\n",
    "           max_features=3, max_leaf_nodes=None, min_impurity_decrease=0.0,\n",
    "           min_impurity_split=None, min_samples_leaf=3,\n",
    "           min_samples_split=8, min_weight_fraction_leaf=0.0,\n",
    "           n_estimators=100, n_jobs=None, oob_score=False,\n",
    "           random_state=None, verbose=0, warm_start=False)"
   ]
  },
  {
   "cell_type": "markdown",
   "metadata": {},
   "source": [
    "As can be seen the optimal Random Forest Regression Model's R2 Score on the training set is 28.51%. Comparing this to the untuned model's R2 Score of 9.056% we can see a significant increase in model accuracy. Below we will print parameters that allowed for optimization of the Linear Lasso Model."
   ]
  },
  {
   "cell_type": "code",
   "execution_count": 94,
   "metadata": {},
   "outputs": [
    {
     "name": "stdout",
     "output_type": "stream",
     "text": [
      "0.28513813244954433\n"
     ]
    }
   ],
   "source": [
    "reg_gridsearch_optimal_rfr.fit(X_train_set, y_train_set.values.ravel())\n",
    "tuned_model_performance[1] = reg_gridsearch_optimal_rfr.score(X_train_set, y_train_set)\n",
    "print (tuned_model_performance[1])"
   ]
  },
  {
   "cell_type": "code",
   "execution_count": 95,
   "metadata": {},
   "outputs": [
    {
     "name": "stdout",
     "output_type": "stream",
     "text": [
      "bootstrap: True\n",
      "max_depth: 90\n",
      "max_features: 3\n",
      "min_samples_leaf: 3\n",
      "min_samples_split: 8\n",
      "n_estimators: 100\n"
     ]
    }
   ],
   "source": [
    "print('bootstrap:',reg_gridsearch_optimal_rfr.bootstrap) \n",
    "print('max_depth:',reg_gridsearch_optimal_rfr.max_depth)\n",
    "print('max_features:',reg_gridsearch_optimal_rfr.max_features)\n",
    "print('min_samples_leaf:',reg_gridsearch_optimal_rfr.min_samples_leaf)\n",
    "print('min_samples_split:',reg_gridsearch_optimal_rfr.min_samples_split)\n",
    "print('n_estimators:',reg_gridsearch_optimal_rfr.n_estimators)"
   ]
  },
  {
   "cell_type": "markdown",
   "metadata": {},
   "source": [
    "Next lets run hyperparameter turing for the Linear Ridge Regression model. Similar to the above this is commented out due to run times. The optimal parameters will be hard coded below."
   ]
  },
  {
   "cell_type": "code",
   "execution_count": 246,
   "metadata": {},
   "outputs": [],
   "source": [
    "# DO NOT RUN THIS CELL\n",
    "\n",
    "#reg_gridsearch_lm_ridge = linear_model.Ridge()\n",
    "#Parameters to test\n",
    "#parameters_lm_ridge = {'alpha':[0.1,1.0,10.0], # Constant that multiplies the L1 term. Defaults to 1.0.\n",
    "#             'normalize':[True,False]} #\n",
    "\n",
    "# Compare parameters by score of model \n",
    "#acc_scorer_lm_ridge = make_scorer(r2_score)\n",
    "\n",
    "# Run the grid search\n",
    "#grid_obj_lm_ridge = GridSearchCV(reg_gridsearch_lm_ridge, parameters_lm_ridge, scoring=acc_scorer_lm_ridge, cv = 5)\n",
    "#grid_obj_lm_ridge = grid_obj_lm_ridge.fit(X_train_set, y_train_set)\n",
    "\n",
    "#reg_gridsearch_lm_ridge = grid_obj_lm_ridge.best_estimator_  #Select best parameter combination"
   ]
  },
  {
   "cell_type": "code",
   "execution_count": 247,
   "metadata": {},
   "outputs": [
    {
     "data": {
      "text/plain": [
       "Ridge(alpha=10.0, copy_X=True, fit_intercept=True, max_iter=None,\n",
       "   normalize=False, random_state=None, solver='auto', tol=0.001)"
      ]
     },
     "execution_count": 247,
     "metadata": {},
     "output_type": "execute_result"
    }
   ],
   "source": [
    "# DO NOT RUN THIS CELL\n",
    "\n",
    "#reg_gridsearch_lm_ridge # print out the optimal params so grid search does not need to be rerun"
   ]
  },
  {
   "cell_type": "markdown",
   "metadata": {},
   "source": [
    "The optimal parameters from runing gridsearch CV on the random forest regression model is stored in the model \"reg_gridsearch_optimal_lm_ridge\" below."
   ]
  },
  {
   "cell_type": "code",
   "execution_count": 96,
   "metadata": {},
   "outputs": [],
   "source": [
    "reg_gridsearch_optimal_lm_ridge= linear_model.Ridge(alpha=10.0, copy_X=True, fit_intercept=True, max_iter=None,\n",
    "   normalize=False, random_state=None, solver='auto', tol=0.001)"
   ]
  },
  {
   "cell_type": "markdown",
   "metadata": {},
   "source": [
    "As can be seen the optimal Linear Ridge Regression Model's R2 Score on the training set is 25.56%. Comparing this to the untuned model's R2 Score of 23.386% we can see a marginal increase in model accuracy."
   ]
  },
  {
   "cell_type": "code",
   "execution_count": 97,
   "metadata": {},
   "outputs": [
    {
     "name": "stdout",
     "output_type": "stream",
     "text": [
      "0.25563160140372543\n"
     ]
    }
   ],
   "source": [
    "reg_gridsearch_optimal_lm_ridge.fit(X_train_set, y_train_set.values.ravel())\n",
    "tuned_model_performance[2] = reg_gridsearch_optimal_lm_ridge.score(X_train_set, y_train_set)\n",
    "print (tuned_model_performance[2])"
   ]
  },
  {
   "cell_type": "markdown",
   "metadata": {},
   "source": [
    "Next lets run hyperparameter turing for the Gradient Boosting Regression model. Similar to the above this is commented out due to run times. The optimal parameters will be hard coded below."
   ]
  },
  {
   "cell_type": "code",
   "execution_count": 250,
   "metadata": {},
   "outputs": [
    {
     "name": "stdout",
     "output_type": "stream",
     "text": [
      "Fitting 5 folds for each of 54 candidates, totalling 270 fits\n"
     ]
    },
    {
     "name": "stderr",
     "output_type": "stream",
     "text": [
      "[Parallel(n_jobs=-1)]: Using backend LokyBackend with 8 concurrent workers.\n",
      "[Parallel(n_jobs=-1)]: Done  25 tasks      | elapsed:    7.8s\n",
      "[Parallel(n_jobs=-1)]: Done 146 tasks      | elapsed:   53.7s\n",
      "[Parallel(n_jobs=-1)]: Done 270 out of 270 | elapsed:  1.6min finished\n"
     ]
    }
   ],
   "source": [
    "# DO NOT RUN THIS CELL\n",
    "\n",
    "#reg_gridsearch_GBR = GradientBoostingRegressor(learning_rate = 0.1,\n",
    "#                                random_state = 1234)\n",
    "#Parameters to test\n",
    "#parameters_GBR = {'n_estimators':[100],\n",
    "#                  'learning_rate': [0.1,0.05,0.02],\n",
    "#                  'max_depth':[4,6],\n",
    "#                  'min_samples_leaf':[3,5,17],\n",
    "#                  'max_features':[1.0,0.3,0.1]\n",
    "#                             }\n",
    "\n",
    "# Compare parameters by score of model \n",
    "#acc_scorer_GBR = make_scorer(r2_score)\n",
    "\n",
    "# Run the grid search\n",
    "#grid_obj_GBR = GridSearchCV(estimator = reg_gridsearch_GBR, param_grid = parameters_GBR, cv = 5, n_jobs = -1, verbose = 2, scoring=acc_scorer_GBR)\n",
    "#grid_obj_GBR = grid_obj_GBR.fit(X_train_set, y_train_set.values.ravel())\n",
    "\n",
    "#reg_gridsearch_GBR = grid_obj_GBR.best_estimator_  #Select best parameter combination"
   ]
  },
  {
   "cell_type": "code",
   "execution_count": 251,
   "metadata": {},
   "outputs": [
    {
     "data": {
      "text/plain": [
       "GradientBoostingRegressor(alpha=0.9, criterion='friedman_mse', init=None,\n",
       "             learning_rate=0.05, loss='ls', max_depth=6, max_features=0.3,\n",
       "             max_leaf_nodes=None, min_impurity_decrease=0.0,\n",
       "             min_impurity_split=None, min_samples_leaf=3,\n",
       "             min_samples_split=2, min_weight_fraction_leaf=0.0,\n",
       "             n_estimators=100, n_iter_no_change=None, presort='auto',\n",
       "             random_state=1234, subsample=1.0, tol=0.0001,\n",
       "             validation_fraction=0.1, verbose=0, warm_start=False)"
      ]
     },
     "execution_count": 251,
     "metadata": {},
     "output_type": "execute_result"
    }
   ],
   "source": [
    "# DO NOT RUN THIS CELL\n",
    "\n",
    "#reg_gridsearch_GBR # print out the optimal params so grid search does not need to be rerun"
   ]
  },
  {
   "cell_type": "markdown",
   "metadata": {},
   "source": [
    "The optimal parameters from runing gridsearch CV on the random forest regression model is stored in the model \"reg_gridsearch_optimal_GBR\" below."
   ]
  },
  {
   "cell_type": "code",
   "execution_count": 98,
   "metadata": {},
   "outputs": [],
   "source": [
    "reg_gridsearch_optimal_GBR = GradientBoostingRegressor(alpha=0.9, criterion='friedman_mse', init=None,\n",
    "             learning_rate=0.05, loss='ls', max_depth=6, max_features=0.3,\n",
    "             max_leaf_nodes=None, min_impurity_decrease=0.0,\n",
    "             min_impurity_split=None, min_samples_leaf=3,\n",
    "             min_samples_split=2, min_weight_fraction_leaf=0.0,\n",
    "             n_estimators=100, n_iter_no_change=None, presort='auto',\n",
    "             random_state=1234, subsample=1.0, tol=0.0001,\n",
    "             validation_fraction=0.1, verbose=0, warm_start=False)"
   ]
  },
  {
   "cell_type": "markdown",
   "metadata": {},
   "source": [
    "As can be seen the optimal Gradient Boosting Regression Model's R2 Score on the training set is 43.23%. Comparing this to the untuned model's R2 Score of 25.233% we can see a signifcicant increase in model accuracy."
   ]
  },
  {
   "cell_type": "code",
   "execution_count": 99,
   "metadata": {},
   "outputs": [
    {
     "name": "stdout",
     "output_type": "stream",
     "text": [
      "0.4322991228192763\n"
     ]
    }
   ],
   "source": [
    "reg_gridsearch_optimal_GBR.fit(X_train_set, y_train_set.values.ravel())\n",
    "tuned_model_performance[3] = reg_gridsearch_optimal_GBR.score(X_train_set, y_train_set)\n",
    "print (tuned_model_performance[3])"
   ]
  },
  {
   "cell_type": "markdown",
   "metadata": {},
   "source": [
    "With the optimal parameter training accuracies calculated in the cells above, lets store them in a dataframe called \"df_tuned_model_performance\" for easier viewing the resultant R2 training scores."
   ]
  },
  {
   "cell_type": "code",
   "execution_count": 100,
   "metadata": {},
   "outputs": [],
   "source": [
    "df_tuned_model_performance= pd.DataFrame(tuned_model_performance, columns=['R2 Score %'])"
   ]
  },
  {
   "cell_type": "code",
   "execution_count": 101,
   "metadata": {},
   "outputs": [],
   "source": [
    "df_tuned_model_performance[\"R2 Score %\"] = df_tuned_model_performance[\"R2 Score %\"]*100"
   ]
  },
  {
   "cell_type": "code",
   "execution_count": 102,
   "metadata": {},
   "outputs": [],
   "source": [
    "df_tuned_model_performance[\"Model\"] = (\"Linear Lasso\",\"Random Forest Regressor\",\"Linear Ridge\",\"Gradient Boosting Regressor\")"
   ]
  },
  {
   "cell_type": "code",
   "execution_count": 103,
   "metadata": {},
   "outputs": [
    {
     "data": {
      "text/html": [
       "<div>\n",
       "<style scoped>\n",
       "    .dataframe tbody tr th:only-of-type {\n",
       "        vertical-align: middle;\n",
       "    }\n",
       "\n",
       "    .dataframe tbody tr th {\n",
       "        vertical-align: top;\n",
       "    }\n",
       "\n",
       "    .dataframe thead th {\n",
       "        text-align: right;\n",
       "    }\n",
       "</style>\n",
       "<table border=\"1\" class=\"dataframe\">\n",
       "  <thead>\n",
       "    <tr style=\"text-align: right;\">\n",
       "      <th></th>\n",
       "      <th>R2 Score %</th>\n",
       "      <th>Model</th>\n",
       "    </tr>\n",
       "  </thead>\n",
       "  <tbody>\n",
       "    <tr>\n",
       "      <th>0</th>\n",
       "      <td>25.028166</td>\n",
       "      <td>Linear Lasso</td>\n",
       "    </tr>\n",
       "    <tr>\n",
       "      <th>1</th>\n",
       "      <td>28.513813</td>\n",
       "      <td>Random Forest Regressor</td>\n",
       "    </tr>\n",
       "    <tr>\n",
       "      <th>2</th>\n",
       "      <td>25.563160</td>\n",
       "      <td>Linear Ridge</td>\n",
       "    </tr>\n",
       "    <tr>\n",
       "      <th>3</th>\n",
       "      <td>43.229912</td>\n",
       "      <td>Gradient Boosting Regressor</td>\n",
       "    </tr>\n",
       "  </tbody>\n",
       "</table>\n",
       "</div>"
      ],
      "text/plain": [
       "   R2 Score %                        Model\n",
       "0   25.028166                 Linear Lasso\n",
       "1   28.513813      Random Forest Regressor\n",
       "2   25.563160                 Linear Ridge\n",
       "3   43.229912  Gradient Boosting Regressor"
      ]
     },
     "execution_count": 103,
     "metadata": {},
     "output_type": "execute_result"
    }
   ],
   "source": [
    "df_tuned_model_performance.head()"
   ]
  },
  {
   "cell_type": "markdown",
   "metadata": {},
   "source": [
    "Lets sort the dataframe above by R2 Score to see which of the models perfromed best after hyperparameter tuning."
   ]
  },
  {
   "cell_type": "code",
   "execution_count": 104,
   "metadata": {},
   "outputs": [
    {
     "name": "stdout",
     "output_type": "stream",
     "text": [
      "   R2 Score %                        Model\n",
      "3   43.229912  Gradient Boosting Regressor\n",
      "1   28.513813      Random Forest Regressor\n",
      "2   25.563160                 Linear Ridge\n",
      "0   25.028166                 Linear Lasso\n"
     ]
    }
   ],
   "source": [
    "print (df_tuned_model_performance.nlargest(4, 'R2 Score %'))"
   ]
  },
  {
   "cell_type": "markdown",
   "metadata": {},
   "source": [
    "As can be seen above the model with the highest R2 Score of 41.84% is the Gradient Boosting Regressor.\n",
    "\n",
    "The next best model performance on the training set was Random Forest Regressor with a R2 Score of 26.56% on the training data. The remaining two models performed similarily to the Random Forest Regressor with R2 Accuracy scores of 25.18% for the Linear Ridge Model and 24.78% for the Linear Lasso model."
   ]
  },
  {
   "cell_type": "markdown",
   "metadata": {},
   "source": [
    "### 6.0 Testing and Discussion"
   ]
  },
  {
   "cell_type": "markdown",
   "metadata": {},
   "source": [
    "With the tuned models now completed and the highest training accuracy obtained by the Gradient Boosting Algorithm, lets see how the algorithm performs on the test set. Recall from the train_test_split, the test set is held in the following dataframes X_test_set, and y_test_set. The optimal model is held in predictions_GBR_Optimal."
   ]
  },
  {
   "cell_type": "code",
   "execution_count": 107,
   "metadata": {},
   "outputs": [],
   "source": [
    "predictions_GBR_optimal = reg_gridsearch_optimal_GBR.predict(X_test_set)\n",
    "score_test_set = r2_score(y_test_set,predictions_GBR_optimal)"
   ]
  },
  {
   "cell_type": "code",
   "execution_count": 108,
   "metadata": {},
   "outputs": [
    {
     "name": "stdout",
     "output_type": "stream",
     "text": [
      "20.40648950515861\n"
     ]
    }
   ],
   "source": [
    "print (score_test_set*100)"
   ]
  },
  {
   "cell_type": "markdown",
   "metadata": {},
   "source": [
    "As can be seen above the Gradient Boosting Model's optimal parameters as per the gridsearch above produces a R2 Score of around 22.82% when evaluated on the Test Data set. This difference of 22.82% between performance on the test data set and the training dataset likely suggests that the model may be overfitting on the training dataset.\n",
    "\n",
    "Lets compute the mean percent difference between the predicted values and the actual values in the test set. To do this lets first make a dataframe that holds both the predictions, the acutal results and the percent difference."
   ]
  },
  {
   "cell_type": "code",
   "execution_count": 118,
   "metadata": {},
   "outputs": [],
   "source": [
    "df_predictions_optimal_model = pd.DataFrame(predictions_GBR_optimal, columns=['Salary Predictions Test Set'])"
   ]
  },
  {
   "cell_type": "code",
   "execution_count": 119,
   "metadata": {},
   "outputs": [],
   "source": [
    "df_predictions_optimal_model['Salary Acutal Test Set'] = y_test_set.values"
   ]
  },
  {
   "cell_type": "code",
   "execution_count": 120,
   "metadata": {},
   "outputs": [],
   "source": [
    "df_predictions_optimal_model['Percent Difference Test Set'] = (df_predictions_optimal_model['Salary Acutal Test Set']-df_predictions_optimal_model['Salary Predictions Test Set'])/(0.5*(df_predictions_optimal_model['Salary Acutal Test Set']+df_predictions_optimal_model['Salary Predictions Test Set']))*100"
   ]
  },
  {
   "cell_type": "code",
   "execution_count": 121,
   "metadata": {},
   "outputs": [
    {
     "data": {
      "text/html": [
       "<div>\n",
       "<style scoped>\n",
       "    .dataframe tbody tr th:only-of-type {\n",
       "        vertical-align: middle;\n",
       "    }\n",
       "\n",
       "    .dataframe tbody tr th {\n",
       "        vertical-align: top;\n",
       "    }\n",
       "\n",
       "    .dataframe thead th {\n",
       "        text-align: right;\n",
       "    }\n",
       "</style>\n",
       "<table border=\"1\" class=\"dataframe\">\n",
       "  <thead>\n",
       "    <tr style=\"text-align: right;\">\n",
       "      <th></th>\n",
       "      <th>Salary Predictions Test Set</th>\n",
       "      <th>Salary Acutal Test Set</th>\n",
       "      <th>Percent Difference Test Set</th>\n",
       "    </tr>\n",
       "  </thead>\n",
       "  <tbody>\n",
       "    <tr>\n",
       "      <th>0</th>\n",
       "      <td>87753.755507</td>\n",
       "      <td>500000</td>\n",
       "      <td>140.278557</td>\n",
       "    </tr>\n",
       "    <tr>\n",
       "      <th>1</th>\n",
       "      <td>47283.102405</td>\n",
       "      <td>25479</td>\n",
       "      <td>-59.932579</td>\n",
       "    </tr>\n",
       "    <tr>\n",
       "      <th>2</th>\n",
       "      <td>97555.802861</td>\n",
       "      <td>139678</td>\n",
       "      <td>35.511126</td>\n",
       "    </tr>\n",
       "    <tr>\n",
       "      <th>3</th>\n",
       "      <td>92085.532722</td>\n",
       "      <td>117304</td>\n",
       "      <td>24.087610</td>\n",
       "    </tr>\n",
       "    <tr>\n",
       "      <th>4</th>\n",
       "      <td>69680.843255</td>\n",
       "      <td>116312</td>\n",
       "      <td>50.142958</td>\n",
       "    </tr>\n",
       "  </tbody>\n",
       "</table>\n",
       "</div>"
      ],
      "text/plain": [
       "   Salary Predictions Test Set  Salary Acutal Test Set  \\\n",
       "0                 87753.755507                  500000   \n",
       "1                 47283.102405                   25479   \n",
       "2                 97555.802861                  139678   \n",
       "3                 92085.532722                  117304   \n",
       "4                 69680.843255                  116312   \n",
       "\n",
       "   Percent Difference Test Set  \n",
       "0                   140.278557  \n",
       "1                   -59.932579  \n",
       "2                    35.511126  \n",
       "3                    24.087610  \n",
       "4                    50.142958  "
      ]
     },
     "execution_count": 121,
     "metadata": {},
     "output_type": "execute_result"
    }
   ],
   "source": [
    "df_predictions_optimal_model.head()"
   ]
  },
  {
   "cell_type": "markdown",
   "metadata": {},
   "source": [
    "Now lets call the .describe() function from the pandas dataframe to see the mean, std, as well as the min and max percent differences."
   ]
  },
  {
   "cell_type": "code",
   "execution_count": 122,
   "metadata": {},
   "outputs": [
    {
     "data": {
      "text/plain": [
       "count    3577.000000\n",
       "mean      -28.410966\n",
       "std        70.164552\n",
       "min      -191.956047\n",
       "25%       -85.696739\n",
       "50%       -24.191721\n",
       "75%        24.930669\n",
       "max       179.797719\n",
       "Name: Percent Difference Test Set, dtype: float64"
      ]
     },
     "execution_count": 122,
     "metadata": {},
     "output_type": "execute_result"
    }
   ],
   "source": [
    "df_predictions_optimal_model['Percent Difference Test Set'].describe()"
   ]
  },
  {
   "cell_type": "markdown",
   "metadata": {},
   "source": [
    "Lets do the same for the training data."
   ]
  },
  {
   "cell_type": "code",
   "execution_count": 123,
   "metadata": {},
   "outputs": [],
   "source": [
    "predictions_GBR_optimal_train = reg_gridsearch_optimal_GBR.predict(X_train_set)"
   ]
  },
  {
   "cell_type": "code",
   "execution_count": 129,
   "metadata": {},
   "outputs": [],
   "source": [
    "df_predictions_optimal_model_train = pd.DataFrame(predictions_GBR_optimal_train, columns=['Salary Predictions Train Set'])\n",
    "df_predictions_optimal_model_train['Salary Acutal Train Set'] = y_train_set.values\n",
    "df_predictions_optimal_model_train['Percent Difference Train Set'] = (df_predictions_optimal_model_train['Salary Acutal Train Set']-df_predictions_optimal_model_train['Salary Predictions Train Set'])/(0.5*(df_predictions_optimal_model_train['Salary Acutal Train Set']+df_predictions_optimal_model_train['Salary Predictions Train Set']))*100"
   ]
  },
  {
   "cell_type": "code",
   "execution_count": 130,
   "metadata": {},
   "outputs": [
    {
     "data": {
      "text/html": [
       "<div>\n",
       "<style scoped>\n",
       "    .dataframe tbody tr th:only-of-type {\n",
       "        vertical-align: middle;\n",
       "    }\n",
       "\n",
       "    .dataframe tbody tr th {\n",
       "        vertical-align: top;\n",
       "    }\n",
       "\n",
       "    .dataframe thead th {\n",
       "        text-align: right;\n",
       "    }\n",
       "</style>\n",
       "<table border=\"1\" class=\"dataframe\">\n",
       "  <thead>\n",
       "    <tr style=\"text-align: right;\">\n",
       "      <th></th>\n",
       "      <th>Salary Predictions Train Set</th>\n",
       "      <th>Salary Acutal Train Set</th>\n",
       "      <th>Percent Difference Train Set</th>\n",
       "    </tr>\n",
       "  </thead>\n",
       "  <tbody>\n",
       "    <tr>\n",
       "      <th>0</th>\n",
       "      <td>37501.544664</td>\n",
       "      <td>75035</td>\n",
       "      <td>66.704474</td>\n",
       "    </tr>\n",
       "    <tr>\n",
       "      <th>1</th>\n",
       "      <td>58041.541742</td>\n",
       "      <td>6274</td>\n",
       "      <td>-160.979882</td>\n",
       "    </tr>\n",
       "    <tr>\n",
       "      <th>2</th>\n",
       "      <td>25963.607019</td>\n",
       "      <td>111149</td>\n",
       "      <td>124.256106</td>\n",
       "    </tr>\n",
       "    <tr>\n",
       "      <th>3</th>\n",
       "      <td>67218.867500</td>\n",
       "      <td>55958</td>\n",
       "      <td>-18.284062</td>\n",
       "    </tr>\n",
       "    <tr>\n",
       "      <th>4</th>\n",
       "      <td>140975.818657</td>\n",
       "      <td>192589</td>\n",
       "      <td>30.946418</td>\n",
       "    </tr>\n",
       "  </tbody>\n",
       "</table>\n",
       "</div>"
      ],
      "text/plain": [
       "   Salary Predictions Train Set  Salary Acutal Train Set  \\\n",
       "0                  37501.544664                    75035   \n",
       "1                  58041.541742                     6274   \n",
       "2                  25963.607019                   111149   \n",
       "3                  67218.867500                    55958   \n",
       "4                 140975.818657                   192589   \n",
       "\n",
       "   Percent Difference Train Set  \n",
       "0                     66.704474  \n",
       "1                   -160.979882  \n",
       "2                    124.256106  \n",
       "3                    -18.284062  \n",
       "4                     30.946418  "
      ]
     },
     "execution_count": 130,
     "metadata": {},
     "output_type": "execute_result"
    }
   ],
   "source": [
    "df_predictions_optimal_model_train.head()"
   ]
  },
  {
   "cell_type": "code",
   "execution_count": 131,
   "metadata": {},
   "outputs": [
    {
     "data": {
      "text/plain": [
       "count    8344.000000\n",
       "mean      -28.170253\n",
       "std        67.213100\n",
       "min      -178.596008\n",
       "25%       -81.981821\n",
       "50%       -23.080558\n",
       "75%        22.903728\n",
       "max       174.732939\n",
       "Name: Percent Difference Train Set, dtype: float64"
      ]
     },
     "execution_count": 131,
     "metadata": {},
     "output_type": "execute_result"
    }
   ],
   "source": [
    "df_predictions_optimal_model_train['Percent Difference Train Set'].describe()"
   ]
  },
  {
   "cell_type": "markdown",
   "metadata": {},
   "source": [
    "Interestingly the mean percent difference between the predictions and the actual values for both the training set and the test set are very similar. The mean percent difference in the Training Data is -28.17% with a standard deviation of 67% while the mean percent difference using the Test Data is -28.41% with a standard deviation of 70%. This suggests that the model is performing simialrily when comparing the predictions for the training data against the actual training data targerts and the predictions for the test data against the actual test data targets.   \n",
    "\n",
    "To increase model accuarcy for both the training and test data the following could be done:\n",
    "    - Change the encoding used for categorical labelling to one hot encoding or other similar methods. This assigment used primairly label encoding which may result in a loss of iformation for questions with large number of categorical features.\n",
    "    - Change the number of input features selected to train on. This assignment used 79, perhaps more or less features would result in better training accuracy which may or may not result in subsquent better fitting and thus better performance on the test set.\n",
    "    - Change the hyperparameter options used. There is a tradeoff in performance for which hyperparameters are tuned and to wihtin what ranges. It is not possible to test all combinations I used a select subset of options that I believed would result in better model performance based on previously construcuted models and domain knowledge, but there could have been other combinations not covered in my gridsearch implmentation that could have resulted in better training performance and thus better model fit, and ultiamtely better test performance.\n",
    "    - The substantial decrease in R2 Score from the training data to the test data implies that the optimal GBR model is overfitting the training data. To prevent this more careful selection of the number of base learners could have occured. Further Stochastic Gradient Boosting or Row subsampling of the training data at each gradient iteration could have been done. Finally a shrinkage factor/learning rate applied to the contribution of each base learner could have been used to try and prevent overfitting."
   ]
  },
  {
   "cell_type": "markdown",
   "metadata": {},
   "source": [
    "### Bonus\n",
    "\n",
    "Lets implement a Neural Network and evaluate its score as a regressor.\n",
    "\n",
    "We will use the same train and test datasets as specifed above for the other models. Recall these were X_train_set and y_train_set."
   ]
  },
  {
   "cell_type": "code",
   "execution_count": 91,
   "metadata": {},
   "outputs": [
    {
     "name": "stderr",
     "output_type": "stream",
     "text": [
      "C:\\Users\\btarras\\AppData\\Local\\Continuum\\anaconda3\\lib\\site-packages\\sklearn\\neural_network\\multilayer_perceptron.py:1316: DataConversionWarning: A column-vector y was passed when a 1d array was expected. Please change the shape of y to (n_samples, ), for example using ravel().\n",
      "  y = column_or_1d(y, warn=True)\n"
     ]
    },
    {
     "data": {
      "text/plain": [
       "MLPRegressor(activation='relu', alpha=0.0001, batch_size='auto', beta_1=0.9,\n",
       "       beta_2=0.999, early_stopping=False, epsilon=1e-08,\n",
       "       hidden_layer_sizes=(10, 8, 4), learning_rate='constant',\n",
       "       learning_rate_init=0.01, max_iter=1500, momentum=0.9,\n",
       "       n_iter_no_change=10, nesterovs_momentum=True, power_t=0.5,\n",
       "       random_state=None, shuffle=True, solver='adam', tol=0.0001,\n",
       "       validation_fraction=0.1, verbose=False, warm_start=False)"
      ]
     },
     "execution_count": 91,
     "metadata": {},
     "output_type": "execute_result"
    }
   ],
   "source": [
    "MLP = MLPRegressor(alpha=1e-4, hidden_layer_sizes=(10,8,4), learning_rate_init=0.01, max_iter=1500)\n",
    "MLP.fit(X_train_set, y_train_set)"
   ]
  },
  {
   "cell_type": "code",
   "execution_count": 92,
   "metadata": {},
   "outputs": [
    {
     "data": {
      "text/plain": [
       "0.27998316094717834"
      ]
     },
     "execution_count": 92,
     "metadata": {},
     "output_type": "execute_result"
    }
   ],
   "source": [
    "MLP.score(X_train_set, y_train_set)"
   ]
  },
  {
   "cell_type": "markdown",
   "metadata": {},
   "source": [
    "The R2 Score on the entirety of the training set is 28.08%, pretty low with deafult parameters. Lets see how it performs on the test set."
   ]
  },
  {
   "cell_type": "code",
   "execution_count": 93,
   "metadata": {},
   "outputs": [
    {
     "data": {
      "text/plain": [
       "0.20622437799108573"
      ]
     },
     "execution_count": 93,
     "metadata": {},
     "output_type": "execute_result"
    }
   ],
   "source": [
    "MLP.score(X_test_set, y_test_set)"
   ]
  },
  {
   "cell_type": "markdown",
   "metadata": {},
   "source": [
    "As expected the model performance is lower on the test set than on the training set. Overall both of these performance scores are pretty low. Now letsrun K-Fold cross validation to get a mean r2 score."
   ]
  },
  {
   "cell_type": "code",
   "execution_count": 94,
   "metadata": {},
   "outputs": [],
   "source": [
    "models = {\n",
    "    #'DTR': DecisionTreeRegressor(random_state = 0),\n",
    "    'MLP': MLPRegressor(solver='adam', alpha=1e-5, hidden_layer_sizes=(10,8,4), random_state=1, max_iter=1000, learning_rate_init=0.01)\n",
    "    #'Elastic': ElasticNet(random_state=0),\n",
    "    #'Lasso': linear_model.Lasso(), #KEEP\n",
    "    #'Ridge': linear_model.Ridge(alpha=.5),\n",
    "    #'SGD': linear_model.SGDRegressor(max_iter=1000, tol=1e-3)\n",
    "    #'rfr': RandomForestRegressor(),\n",
    "    #'knn': neighbors.KNeighborsRegressor(),\n",
    "    #'knn': KNeighborsClassifier(),\n",
    "    #\n",
    "    #'log': LogisticRegression(solver='lbfgs',multi_class='auto'),\n",
    "    #'dt': DecisionTreeClassifier(),\n",
    "    #'lin': linear_model.LinearRegression()\n",
    "    #'rf': RandomForestClassifier(),\n",
    "    #'ab': AdaBoostClassifier()\n",
    "}"
   ]
  },
  {
   "cell_type": "code",
   "execution_count": 95,
   "metadata": {},
   "outputs": [
    {
     "name": "stdout",
     "output_type": "stream",
     "text": [
      "Fitting MLP model\n",
      "    Fold 1: Accuracy: 21.75%\n",
      "    Fold 2: Accuracy: 31.66%\n",
      "    Fold 3: Accuracy: 22.36%\n",
      "    Fold 4: Accuracy: 21.28%\n",
      "    Fold 5: Accuracy: 17.74%\n",
      "    Fold 6: Accuracy: 21.27%\n",
      "    Fold 7: Accuracy: 27.57%\n",
      "    Fold 8: Accuracy: 26.15%\n",
      "    Fold 9: Accuracy: 19.59%\n",
      "    Fold 10: Accuracy: 25.22%\n",
      "  Average Score: 23.458%(3.949%)\n"
     ]
    }
   ],
   "source": [
    "for name, m in models.items():\n",
    "    print (\"Fitting \" + name + \" model\")\n",
    "    _, models[name] = crossValidate(name, m, X_train_set, y_train_set, 'default', 1)"
   ]
  },
  {
   "cell_type": "markdown",
   "metadata": {},
   "source": [
    "Running Cross Validation on Mutli Layer Perceptron model with the solver  results in a pretty similar R2 Score of 23.458% when compared to testing the score on the entirety of the training dataset.\n",
    "\n",
    "Next lets run GridsearchCV while playing around with the following parameters:\n",
    "    - 'hidden_layer_sizes': [(10,8,4), (15,9,3), (20,10,5)]\n",
    "    - 'activation': ['tanh', 'relu', 'logistic']\n",
    "    - 'solver': ['sgd', 'adam']\n",
    "    - 'alpha': [0.0001, 0.05]\n",
    "    - 'learning_rate': ['adaptive']\n",
    "    \n",
    "Additionally as I seem to be having convergence issues I will set the learning_rate_init to 0.01 instead of the default 0.0001, to allow the model to converge in a quicker sucession. There is a comprimise on model accuracy, but for the purposes of this bonus section, it should be sufficient."
   ]
  },
  {
   "cell_type": "code",
   "execution_count": 96,
   "metadata": {},
   "outputs": [
    {
     "name": "stdout",
     "output_type": "stream",
     "text": [
      "Fitting 5 folds for each of 36 candidates, totalling 180 fits\n"
     ]
    },
    {
     "name": "stderr",
     "output_type": "stream",
     "text": [
      "[Parallel(n_jobs=-1)]: Using backend LokyBackend with 8 concurrent workers.\n",
      "[Parallel(n_jobs=-1)]: Done  25 tasks      | elapsed:  1.2min\n",
      "[Parallel(n_jobs=-1)]: Done 146 tasks      | elapsed:  7.0min\n",
      "[Parallel(n_jobs=-1)]: Done 180 out of 180 | elapsed:  9.0min finished\n"
     ]
    }
   ],
   "source": [
    "#DO NOT RUN THIS CELL\n",
    "\n",
    "#reg_gridsearch_MLP = MLPRegressor(random_state=1, max_iter=1000, learning_rate_init=0.01)\n",
    "#Parameters to test\n",
    "#parameters_MLP = {\n",
    "#    'hidden_layer_sizes': [(10,8,4), (15,9,3), (20,10,5)],\n",
    "#    'activation': ['tanh', 'relu','logistic'],\n",
    "#    'solver': ['sgd', 'adam'],\n",
    "#    'alpha': [0.0001, 0.05],\n",
    "#    'learning_rate': ['adaptive'],\n",
    "#}\n",
    "\n",
    "# Compare parameters by score of model \n",
    "#acc_scorer_MLP = make_scorer(r2_score)\n",
    "\n",
    "# Run the grid search\n",
    "\n",
    "#grid_obj_MLP= GridSearchCV(estimator = reg_gridsearch_MLP, param_grid = parameters_MLP, cv = 5, n_jobs = -1, verbose = 2, scoring=acc_scorer_MLP)\n",
    "#grid_obj_MLP = grid_obj_MLP.fit(X_train_set, y_train_set.values.ravel())\n",
    "\n",
    "#reg_gridsearch_MLP = grid_obj_MLP.best_estimator_  #Select best parameter combination"
   ]
  },
  {
   "cell_type": "code",
   "execution_count": 97,
   "metadata": {},
   "outputs": [
    {
     "data": {
      "text/plain": [
       "MLPRegressor(activation='relu', alpha=0.0001, batch_size='auto', beta_1=0.9,\n",
       "       beta_2=0.999, early_stopping=False, epsilon=1e-08,\n",
       "       hidden_layer_sizes=(10, 8, 4), learning_rate='adaptive',\n",
       "       learning_rate_init=0.01, max_iter=1000, momentum=0.9,\n",
       "       n_iter_no_change=10, nesterovs_momentum=True, power_t=0.5,\n",
       "       random_state=1, shuffle=True, solver='adam', tol=0.0001,\n",
       "       validation_fraction=0.1, verbose=False, warm_start=False)"
      ]
     },
     "execution_count": 97,
     "metadata": {},
     "output_type": "execute_result"
    }
   ],
   "source": [
    "#DO NOT RUN THIS CELL\n",
    "\n",
    "#reg_gridsearch_MLP # print out the optimal params so grid search does not need to be rerun"
   ]
  },
  {
   "cell_type": "markdown",
   "metadata": {},
   "source": [
    "Lets hardcode in the optimal parameters from the GridSearchCV for the MLP regressor above."
   ]
  },
  {
   "cell_type": "code",
   "execution_count": 98,
   "metadata": {},
   "outputs": [],
   "source": [
    "reg_gridsearch_optimal_MLP = MLPRegressor(activation='relu', alpha=0.0001, batch_size='auto', beta_1=0.9,\n",
    "       beta_2=0.999, early_stopping=False, epsilon=1e-08,\n",
    "       hidden_layer_sizes=(10, 8, 4), learning_rate='adaptive',\n",
    "       learning_rate_init=0.01, max_iter=1000, momentum=0.9,\n",
    "       n_iter_no_change=10, nesterovs_momentum=True, power_t=0.5,\n",
    "       random_state=1, shuffle=True, solver='adam', tol=0.0001,\n",
    "       validation_fraction=0.1, verbose=False, warm_start=False)"
   ]
  },
  {
   "cell_type": "markdown",
   "metadata": {},
   "source": [
    "Lets now fit the model to the traning set and then see the accuracy on the train set and the accuracy on the test set."
   ]
  },
  {
   "cell_type": "code",
   "execution_count": 99,
   "metadata": {},
   "outputs": [
    {
     "name": "stderr",
     "output_type": "stream",
     "text": [
      "C:\\Users\\btarras\\AppData\\Local\\Continuum\\anaconda3\\lib\\site-packages\\sklearn\\neural_network\\multilayer_perceptron.py:1316: DataConversionWarning: A column-vector y was passed when a 1d array was expected. Please change the shape of y to (n_samples, ), for example using ravel().\n",
      "  y = column_or_1d(y, warn=True)\n"
     ]
    },
    {
     "data": {
      "text/plain": [
       "MLPRegressor(activation='relu', alpha=0.0001, batch_size='auto', beta_1=0.9,\n",
       "       beta_2=0.999, early_stopping=False, epsilon=1e-08,\n",
       "       hidden_layer_sizes=(10, 8, 4), learning_rate='adaptive',\n",
       "       learning_rate_init=0.01, max_iter=1000, momentum=0.9,\n",
       "       n_iter_no_change=10, nesterovs_momentum=True, power_t=0.5,\n",
       "       random_state=1, shuffle=True, solver='adam', tol=0.0001,\n",
       "       validation_fraction=0.1, verbose=False, warm_start=False)"
      ]
     },
     "execution_count": 99,
     "metadata": {},
     "output_type": "execute_result"
    }
   ],
   "source": [
    "reg_gridsearch_optimal_MLP.fit(X_train_set, y_train_set)"
   ]
  },
  {
   "cell_type": "code",
   "execution_count": 100,
   "metadata": {},
   "outputs": [
    {
     "data": {
      "text/plain": [
       "0.299835842562863"
      ]
     },
     "execution_count": 100,
     "metadata": {},
     "output_type": "execute_result"
    }
   ],
   "source": [
    "reg_gridsearch_optimal_MLP.score(X_train_set, y_train_set)"
   ]
  },
  {
   "cell_type": "code",
   "execution_count": 101,
   "metadata": {},
   "outputs": [
    {
     "data": {
      "text/plain": [
       "0.2138784334450725"
      ]
     },
     "execution_count": 101,
     "metadata": {},
     "output_type": "execute_result"
    }
   ],
   "source": [
    "reg_gridsearch_optimal_MLP.score(X_test_set, y_test_set)"
   ]
  },
  {
   "cell_type": "markdown",
   "metadata": {},
   "source": [
    "As can be seen the R2 Score on the training set is 29.98% while the R2 Score on the test set is 21.39%. Comparing this to the untrained model above there is a slight increase in performance on the training set of about 2% and a 0.76% increase on the test set.\n",
    "\n",
    "The parameters in the hyperparameter tuned model were:\n",
    "\n",
    "(activation='relu', alpha=0.0001, batch_size='auto', beta_1=0.9,\n",
    "       beta_2=0.999, early_stopping=False, epsilon=1e-08,\n",
    "       hidden_layer_sizes=(10, 8, 4), learning_rate='adaptive',\n",
    "       learning_rate_init=0.01, max_iter=1000, momentum=0.9,\n",
    "       n_iter_no_change=10, nesterovs_momentum=True, power_t=0.5,\n",
    "       random_state=1, shuffle=True, solver='adam', tol=0.0001,\n",
    "       validation_fraction=0.1, verbose=False, warm_start=False)\n",
    "       \n",
    "While the parameters in the default model were:\n",
    "\n",
    "(activation='relu', alpha=0.0001, batch_size='auto', beta_1=0.9,\n",
    "       beta_2=0.999, early_stopping=False, epsilon=1e-08,\n",
    "       hidden_layer_sizes=(10, 8, 4), learning_rate='constant',\n",
    "       learning_rate_init=0.01, max_iter=1500, momentum=0.9,\n",
    "       n_iter_no_change=10, nesterovs_momentum=True, power_t=0.5,\n",
    "       random_state=None, shuffle=True, solver='adam', tol=0.0001,\n",
    "       validation_fraction=0.1, verbose=False, warm_start=False)\n",
    "\n",
    "The parameters are mostly the same which makes sense beacuse the difference in R2 Scores is so minimal. Further parameters could be selected to see the impact on the model. For the sake of time this has been omitted but other hidden_layer_sizes could have been used, perhaps even deeper models than just the three layer one used here, as well as further changes to the alpha values.\n",
    "\n",
    "Neural Networks typically have a greater performance on regression analysis, so its interesting to see that it is performing lower than some of the other models here. It could be that the values I used for the hyperaparmeter tuning were non-ideal so the model converged on less than optimal results.\n",
    "\n",
    "With more time further analysis could be conducted, and I would expect the perfromance of the NN to at least match that of the GBR."
   ]
  },
  {
   "cell_type": "code",
   "execution_count": null,
   "metadata": {},
   "outputs": [],
   "source": []
  }
 ],
 "metadata": {
  "kernelspec": {
   "display_name": "Python 3",
   "language": "python",
   "name": "python3"
  },
  "language_info": {
   "codemirror_mode": {
    "name": "ipython",
    "version": 3
   },
   "file_extension": ".py",
   "mimetype": "text/x-python",
   "name": "python",
   "nbconvert_exporter": "python",
   "pygments_lexer": "ipython3",
   "version": "3.5.6"
  }
 },
 "nbformat": 4,
 "nbformat_minor": 2
}
